{
 "cells": [
  {
   "cell_type": "markdown",
   "metadata": {},
   "source": [
    "# WeatherPy\n",
    "----\n",
    "\n",
    "#### Observations :\n",
    "* The linear regression plot between Latitude and Temperature proves there is a good correlation, as latitude moves from southpole or northpole towards equator (0) the temperatures increase.\n",
    "* The northern and southern dataframes signify that there are more datapoints in Northern hemisphere compared to Southern hemisphere. This aligns well with the fact that there is more land in the northern hemisphere, naturally having more number of cities. \n",
    "* There is no significant correlation between how Humidity, Cloudiness and Windspeed vary as latitude changes."
   ]
  },
  {
   "cell_type": "code",
   "execution_count": 1,
   "metadata": {
    "scrolled": true
   },
   "outputs": [],
   "source": [
    "import pandas as pd\n",
    "import json\n",
    "import requests\n",
    "from api_keys import weather_api_key\n",
    "import numpy as np\n",
    "from citipy import citipy\n",
    "import random\n",
    "import matplotlib.pyplot as plt\n",
    "import scipy.stats as st\n",
    "from scipy.stats import linregress"
   ]
  },
  {
   "cell_type": "markdown",
   "metadata": {},
   "source": [
    "## Generate Cities List"
   ]
  },
  {
   "cell_type": "code",
   "execution_count": 2,
   "metadata": {},
   "outputs": [
    {
     "name": "stdout",
     "output_type": "stream",
     "text": [
      "636\n",
      "636\n",
      "636\n"
     ]
    }
   ],
   "source": [
    "city_list = []\n",
    "lat_list = []\n",
    "lng_list = []\n",
    "for i in range(0,1500):\n",
    "    lat = np.random.uniform(-90,90)\n",
    "    lng = np.random.uniform(-180,180)\n",
    "    city = citipy.nearest_city(lat,lng).city_name \n",
    "    if city not in city_list: \n",
    "        city_list.append(city)\n",
    "        lat_list.append(lat)\n",
    "        lng_list.append(lng)\n",
    "#     if len(city_list)>=500:\n",
    "#         break \n",
    "        \n",
    "    \n",
    "print(len(city_list))\n",
    "print(len(lat_list))\n",
    "print(len(lng_list))"
   ]
  },
  {
   "cell_type": "code",
   "execution_count": 3,
   "metadata": {},
   "outputs": [
    {
     "data": {
      "text/html": [
       "<div>\n",
       "<style scoped>\n",
       "    .dataframe tbody tr th:only-of-type {\n",
       "        vertical-align: middle;\n",
       "    }\n",
       "\n",
       "    .dataframe tbody tr th {\n",
       "        vertical-align: top;\n",
       "    }\n",
       "\n",
       "    .dataframe thead th {\n",
       "        text-align: right;\n",
       "    }\n",
       "</style>\n",
       "<table border=\"1\" class=\"dataframe\">\n",
       "  <thead>\n",
       "    <tr style=\"text-align: right;\">\n",
       "      <th></th>\n",
       "      <th>Nearest City</th>\n",
       "      <th>Latitude</th>\n",
       "      <th>Longitude</th>\n",
       "    </tr>\n",
       "  </thead>\n",
       "  <tbody>\n",
       "    <tr>\n",
       "      <th>0</th>\n",
       "      <td>kamenskoye</td>\n",
       "      <td>64.296075</td>\n",
       "      <td>167.810028</td>\n",
       "    </tr>\n",
       "    <tr>\n",
       "      <th>1</th>\n",
       "      <td>athmallik</td>\n",
       "      <td>20.416097</td>\n",
       "      <td>84.789184</td>\n",
       "    </tr>\n",
       "    <tr>\n",
       "      <th>2</th>\n",
       "      <td>tiksi</td>\n",
       "      <td>82.389401</td>\n",
       "      <td>126.720441</td>\n",
       "    </tr>\n",
       "    <tr>\n",
       "      <th>3</th>\n",
       "      <td>tevaitoa</td>\n",
       "      <td>-17.097242</td>\n",
       "      <td>-151.266701</td>\n",
       "    </tr>\n",
       "    <tr>\n",
       "      <th>4</th>\n",
       "      <td>otane</td>\n",
       "      <td>-41.631874</td>\n",
       "      <td>178.602784</td>\n",
       "    </tr>\n",
       "    <tr>\n",
       "      <th>...</th>\n",
       "      <td>...</td>\n",
       "      <td>...</td>\n",
       "      <td>...</td>\n",
       "    </tr>\n",
       "    <tr>\n",
       "      <th>631</th>\n",
       "      <td>pilar</td>\n",
       "      <td>-7.182993</td>\n",
       "      <td>-35.241285</td>\n",
       "    </tr>\n",
       "    <tr>\n",
       "      <th>632</th>\n",
       "      <td>vila franca do campo</td>\n",
       "      <td>41.761982</td>\n",
       "      <td>-20.407876</td>\n",
       "    </tr>\n",
       "    <tr>\n",
       "      <th>633</th>\n",
       "      <td>makung</td>\n",
       "      <td>23.038803</td>\n",
       "      <td>119.468827</td>\n",
       "    </tr>\n",
       "    <tr>\n",
       "      <th>634</th>\n",
       "      <td>chermoz</td>\n",
       "      <td>58.963698</td>\n",
       "      <td>56.462133</td>\n",
       "    </tr>\n",
       "    <tr>\n",
       "      <th>635</th>\n",
       "      <td>road town</td>\n",
       "      <td>21.957832</td>\n",
       "      <td>-64.353047</td>\n",
       "    </tr>\n",
       "  </tbody>\n",
       "</table>\n",
       "<p>636 rows × 3 columns</p>\n",
       "</div>"
      ],
      "text/plain": [
       "             Nearest City   Latitude   Longitude\n",
       "0              kamenskoye  64.296075  167.810028\n",
       "1               athmallik  20.416097   84.789184\n",
       "2                   tiksi  82.389401  126.720441\n",
       "3                tevaitoa -17.097242 -151.266701\n",
       "4                   otane -41.631874  178.602784\n",
       "..                    ...        ...         ...\n",
       "631                 pilar  -7.182993  -35.241285\n",
       "632  vila franca do campo  41.761982  -20.407876\n",
       "633                makung  23.038803  119.468827\n",
       "634               chermoz  58.963698   56.462133\n",
       "635             road town  21.957832  -64.353047\n",
       "\n",
       "[636 rows x 3 columns]"
      ]
     },
     "execution_count": 3,
     "metadata": {},
     "output_type": "execute_result"
    }
   ],
   "source": [
    "cities_df = pd.DataFrame({'Nearest City' : city_list, 'Latitude' : lat_list, 'Longitude': lng_list})\n",
    "cities_df = cities_df.rename(columns={0:'Nearest City'})\n",
    "cities_df"
   ]
  },
  {
   "cell_type": "code",
   "execution_count": 4,
   "metadata": {},
   "outputs": [
    {
     "data": {
      "text/html": [
       "<div>\n",
       "<style scoped>\n",
       "    .dataframe tbody tr th:only-of-type {\n",
       "        vertical-align: middle;\n",
       "    }\n",
       "\n",
       "    .dataframe tbody tr th {\n",
       "        vertical-align: top;\n",
       "    }\n",
       "\n",
       "    .dataframe thead th {\n",
       "        text-align: right;\n",
       "    }\n",
       "</style>\n",
       "<table border=\"1\" class=\"dataframe\">\n",
       "  <thead>\n",
       "    <tr style=\"text-align: right;\">\n",
       "      <th></th>\n",
       "      <th>Nearest City</th>\n",
       "      <th>Latitude</th>\n",
       "      <th>Longitude</th>\n",
       "    </tr>\n",
       "  </thead>\n",
       "  <tbody>\n",
       "    <tr>\n",
       "      <th>0</th>\n",
       "      <td>kamenskoye</td>\n",
       "      <td>64.296075</td>\n",
       "      <td>167.810028</td>\n",
       "    </tr>\n",
       "    <tr>\n",
       "      <th>1</th>\n",
       "      <td>athmallik</td>\n",
       "      <td>20.416097</td>\n",
       "      <td>84.789184</td>\n",
       "    </tr>\n",
       "    <tr>\n",
       "      <th>2</th>\n",
       "      <td>tiksi</td>\n",
       "      <td>82.389401</td>\n",
       "      <td>126.720441</td>\n",
       "    </tr>\n",
       "    <tr>\n",
       "      <th>3</th>\n",
       "      <td>tevaitoa</td>\n",
       "      <td>-17.097242</td>\n",
       "      <td>-151.266701</td>\n",
       "    </tr>\n",
       "    <tr>\n",
       "      <th>4</th>\n",
       "      <td>otane</td>\n",
       "      <td>-41.631874</td>\n",
       "      <td>178.602784</td>\n",
       "    </tr>\n",
       "    <tr>\n",
       "      <th>...</th>\n",
       "      <td>...</td>\n",
       "      <td>...</td>\n",
       "      <td>...</td>\n",
       "    </tr>\n",
       "    <tr>\n",
       "      <th>631</th>\n",
       "      <td>pilar</td>\n",
       "      <td>-7.182993</td>\n",
       "      <td>-35.241285</td>\n",
       "    </tr>\n",
       "    <tr>\n",
       "      <th>632</th>\n",
       "      <td>vila franca do campo</td>\n",
       "      <td>41.761982</td>\n",
       "      <td>-20.407876</td>\n",
       "    </tr>\n",
       "    <tr>\n",
       "      <th>633</th>\n",
       "      <td>makung</td>\n",
       "      <td>23.038803</td>\n",
       "      <td>119.468827</td>\n",
       "    </tr>\n",
       "    <tr>\n",
       "      <th>634</th>\n",
       "      <td>chermoz</td>\n",
       "      <td>58.963698</td>\n",
       "      <td>56.462133</td>\n",
       "    </tr>\n",
       "    <tr>\n",
       "      <th>635</th>\n",
       "      <td>road town</td>\n",
       "      <td>21.957832</td>\n",
       "      <td>-64.353047</td>\n",
       "    </tr>\n",
       "  </tbody>\n",
       "</table>\n",
       "<p>636 rows × 3 columns</p>\n",
       "</div>"
      ],
      "text/plain": [
       "             Nearest City   Latitude   Longitude\n",
       "0              kamenskoye  64.296075  167.810028\n",
       "1               athmallik  20.416097   84.789184\n",
       "2                   tiksi  82.389401  126.720441\n",
       "3                tevaitoa -17.097242 -151.266701\n",
       "4                   otane -41.631874  178.602784\n",
       "..                    ...        ...         ...\n",
       "631                 pilar  -7.182993  -35.241285\n",
       "632  vila franca do campo  41.761982  -20.407876\n",
       "633                makung  23.038803  119.468827\n",
       "634               chermoz  58.963698   56.462133\n",
       "635             road town  21.957832  -64.353047\n",
       "\n",
       "[636 rows x 3 columns]"
      ]
     },
     "execution_count": 4,
     "metadata": {},
     "output_type": "execute_result"
    }
   ],
   "source": [
    "cities_df"
   ]
  },
  {
   "cell_type": "markdown",
   "metadata": {},
   "source": [
    "### Perform API Calls\n",
    "* Perform a weather check on each city using a series of successive API calls.\n",
    "* Include a print log of each city as it'sbeing processed (with the city number and city name).\n"
   ]
  },
  {
   "cell_type": "code",
   "execution_count": 5,
   "metadata": {
    "scrolled": true
   },
   "outputs": [
    {
     "name": "stdout",
     "output_type": "stream",
     "text": [
      "Missing records for City 1 of 636 : kamenskoye ... skipping.\n",
      "Missing records for City 14 of 636 : amderma ... skipping.\n",
      "Missing records for City 15 of 636 : satitoa ... skipping.\n",
      "Missing records for City 74 of 636 : tsihombe ... skipping.\n",
      "Missing records for City 91 of 636 : illoqqortoormiut ... skipping.\n",
      "Missing records for City 97 of 636 : mys shmidta ... skipping.\n",
      "Missing records for City 124 of 636 : meyungs ... skipping.\n",
      "Missing records for City 125 of 636 : barentsburg ... skipping.\n",
      "Missing records for City 145 of 636 : anar darreh ... skipping.\n",
      "Missing records for City 172 of 636 : babanusah ... skipping.\n",
      "Missing records for City 179 of 636 : marcona ... skipping.\n",
      "Missing records for City 190 of 636 : taolanaro ... skipping.\n",
      "Missing records for City 210 of 636 : rungata ... skipping.\n",
      "Missing records for City 212 of 636 : nizhneyansk ... skipping.\n",
      "Missing records for City 222 of 636 : saleaula ... skipping.\n",
      "Missing records for City 225 of 636 : asayita ... skipping.\n",
      "Missing records for City 226 of 636 : vaitupu ... skipping.\n",
      "Missing records for City 229 of 636 : warqla ... skipping.\n",
      "Missing records for City 231 of 636 : azimur ... skipping.\n",
      "Missing records for City 252 of 636 : bargal ... skipping.\n",
      "Missing records for City 256 of 636 : palabuhanratu ... skipping.\n",
      "Missing records for City 259 of 636 : sentyabrskiy ... skipping.\n",
      "Missing records for City 273 of 636 : burica ... skipping.\n",
      "Missing records for City 279 of 636 : grand river south east ... skipping.\n",
      "Missing records for City 288 of 636 : ksenyevka ... skipping.\n",
      "Missing records for City 292 of 636 : aybak ... skipping.\n",
      "Missing records for City 295 of 636 : aflu ... skipping.\n",
      "Missing records for City 296 of 636 : belushya guba ... skipping.\n",
      "Missing records for City 302 of 636 : labutta ... skipping.\n",
      "Missing records for City 311 of 636 : rudnytsya ... skipping.\n",
      "Missing records for City 339 of 636 : attawapiskat ... skipping.\n",
      "Missing records for City 350 of 636 : tumannyy ... skipping.\n",
      "Missing records for City 358 of 636 : cagayan de tawi-tawi ... skipping.\n",
      "Missing records for City 370 of 636 : balimo ... skipping.\n",
      "Missing records for City 381 of 636 : macaboboni ... skipping.\n",
      "Missing records for City 400 of 636 : skagastrond ... skipping.\n",
      "Missing records for City 403 of 636 : faridan ... skipping.\n",
      "Missing records for City 430 of 636 : sinkat ... skipping.\n",
      "Missing records for City 476 of 636 : mahadday weyne ... skipping.\n",
      "Missing records for City 493 of 636 : tidore ... skipping.\n",
      "Missing records for City 501 of 636 : bur gabo ... skipping.\n",
      "Missing records for City 511 of 636 : umzimvubu ... skipping.\n",
      "Missing records for City 514 of 636 : utiroa ... skipping.\n",
      "Missing records for City 532 of 636 : khormuj ... skipping.\n",
      "Missing records for City 552 of 636 : bolungarvik ... skipping.\n",
      "Missing records for City 577 of 636 : sorvag ... skipping.\n",
      "Missing records for City 590 of 636 : wazzan ... skipping.\n",
      "Missing records for City 601 of 636 : lolua ... skipping.\n",
      "Missing records for City 604 of 636 : skalistyy ... skipping.\n",
      "Missing records for City 613 of 636 : fort saint john ... skipping.\n",
      "Missing records for City 634 of 636 : makung ... skipping.\n"
     ]
    }
   ],
   "source": [
    "url = \"http://api.openweathermap.org/data/2.5/weather?q=\"\n",
    "\n",
    "units = 'imperial'\n",
    "\n",
    "cities_df['Temperature (F)'] = \"\"\n",
    "cities_df['Humidity (%)'] = \"\"\n",
    "cities_df['Cloudiness (%)'] = \"\"\n",
    "cities_df['Wind Speed (mph)'] = \"\"\n",
    "\n",
    "for index, row in cities_df.iterrows():\n",
    "    query_url = f\"{url}{row['Nearest City']}&appid={weather_api_key}&units={units}\"\n",
    "    response = requests.get(query_url).json()\n",
    "    \n",
    "    try:\n",
    "        cities_df.loc[index, 'Temperature (F)'] = response['main']['temp']\n",
    "        cities_df.loc[index, 'Humidity (%)'] = response['main']['humidity']\n",
    "        cities_df.loc[index, 'Cloudiness (%)'] = response['clouds']['all']\n",
    "        cities_df.loc[index, 'Wind Speed (mph)'] = response['wind']['speed']\n",
    "    except (KeyError, IndexError):\n",
    "        print(f\"Missing records for City {index+1} of {len(cities_df)} : {row['Nearest City']} ... skipping.\")\n",
    "  "
   ]
  },
  {
   "cell_type": "code",
   "execution_count": 42,
   "metadata": {},
   "outputs": [
    {
     "data": {
      "text/html": [
       "<div>\n",
       "<style scoped>\n",
       "    .dataframe tbody tr th:only-of-type {\n",
       "        vertical-align: middle;\n",
       "    }\n",
       "\n",
       "    .dataframe tbody tr th {\n",
       "        vertical-align: top;\n",
       "    }\n",
       "\n",
       "    .dataframe thead th {\n",
       "        text-align: right;\n",
       "    }\n",
       "</style>\n",
       "<table border=\"1\" class=\"dataframe\">\n",
       "  <thead>\n",
       "    <tr style=\"text-align: right;\">\n",
       "      <th></th>\n",
       "      <th>Nearest City</th>\n",
       "      <th>Latitude</th>\n",
       "      <th>Longitude</th>\n",
       "      <th>Temperature (F)</th>\n",
       "      <th>Humidity (%)</th>\n",
       "      <th>Cloudiness (%)</th>\n",
       "      <th>Wind Speed (mph)</th>\n",
       "    </tr>\n",
       "  </thead>\n",
       "  <tbody>\n",
       "    <tr>\n",
       "      <th>0</th>\n",
       "      <td>athmallik</td>\n",
       "      <td>20.416097</td>\n",
       "      <td>84.789184</td>\n",
       "      <td>80.60</td>\n",
       "      <td>66.0</td>\n",
       "      <td>100.0</td>\n",
       "      <td>3.67</td>\n",
       "    </tr>\n",
       "    <tr>\n",
       "      <th>1</th>\n",
       "      <td>tiksi</td>\n",
       "      <td>82.389401</td>\n",
       "      <td>126.720441</td>\n",
       "      <td>34.23</td>\n",
       "      <td>94.0</td>\n",
       "      <td>100.0</td>\n",
       "      <td>5.53</td>\n",
       "    </tr>\n",
       "    <tr>\n",
       "      <th>2</th>\n",
       "      <td>tevaitoa</td>\n",
       "      <td>-17.097242</td>\n",
       "      <td>-151.266701</td>\n",
       "      <td>80.42</td>\n",
       "      <td>69.0</td>\n",
       "      <td>8.0</td>\n",
       "      <td>11.23</td>\n",
       "    </tr>\n",
       "    <tr>\n",
       "      <th>3</th>\n",
       "      <td>otane</td>\n",
       "      <td>-41.631874</td>\n",
       "      <td>178.602784</td>\n",
       "      <td>38.01</td>\n",
       "      <td>85.0</td>\n",
       "      <td>100.0</td>\n",
       "      <td>1.83</td>\n",
       "    </tr>\n",
       "    <tr>\n",
       "      <th>4</th>\n",
       "      <td>hamilton</td>\n",
       "      <td>30.250444</td>\n",
       "      <td>-70.001038</td>\n",
       "      <td>80.85</td>\n",
       "      <td>58.0</td>\n",
       "      <td>100.0</td>\n",
       "      <td>1.01</td>\n",
       "    </tr>\n",
       "    <tr>\n",
       "      <th>...</th>\n",
       "      <td>...</td>\n",
       "      <td>...</td>\n",
       "      <td>...</td>\n",
       "      <td>...</td>\n",
       "      <td>...</td>\n",
       "      <td>...</td>\n",
       "      <td>...</td>\n",
       "    </tr>\n",
       "    <tr>\n",
       "      <th>580</th>\n",
       "      <td>usinsk</td>\n",
       "      <td>68.295947</td>\n",
       "      <td>55.985057</td>\n",
       "      <td>36.25</td>\n",
       "      <td>58.0</td>\n",
       "      <td>10.0</td>\n",
       "      <td>7.00</td>\n",
       "    </tr>\n",
       "    <tr>\n",
       "      <th>581</th>\n",
       "      <td>pilar</td>\n",
       "      <td>-7.182993</td>\n",
       "      <td>-35.241285</td>\n",
       "      <td>82.33</td>\n",
       "      <td>76.0</td>\n",
       "      <td>93.0</td>\n",
       "      <td>6.17</td>\n",
       "    </tr>\n",
       "    <tr>\n",
       "      <th>582</th>\n",
       "      <td>vila franca do campo</td>\n",
       "      <td>41.761982</td>\n",
       "      <td>-20.407876</td>\n",
       "      <td>63.01</td>\n",
       "      <td>74.0</td>\n",
       "      <td>44.0</td>\n",
       "      <td>7.43</td>\n",
       "    </tr>\n",
       "    <tr>\n",
       "      <th>583</th>\n",
       "      <td>chermoz</td>\n",
       "      <td>58.963698</td>\n",
       "      <td>56.462133</td>\n",
       "      <td>46.51</td>\n",
       "      <td>71.0</td>\n",
       "      <td>91.0</td>\n",
       "      <td>7.23</td>\n",
       "    </tr>\n",
       "    <tr>\n",
       "      <th>584</th>\n",
       "      <td>road town</td>\n",
       "      <td>21.957832</td>\n",
       "      <td>-64.353047</td>\n",
       "      <td>85.95</td>\n",
       "      <td>66.0</td>\n",
       "      <td>40.0</td>\n",
       "      <td>8.05</td>\n",
       "    </tr>\n",
       "  </tbody>\n",
       "</table>\n",
       "<p>585 rows × 7 columns</p>\n",
       "</div>"
      ],
      "text/plain": [
       "             Nearest City   Latitude   Longitude  Temperature (F)  \\\n",
       "0               athmallik  20.416097   84.789184            80.60   \n",
       "1                   tiksi  82.389401  126.720441            34.23   \n",
       "2                tevaitoa -17.097242 -151.266701            80.42   \n",
       "3                   otane -41.631874  178.602784            38.01   \n",
       "4                hamilton  30.250444  -70.001038            80.85   \n",
       "..                    ...        ...         ...              ...   \n",
       "580                usinsk  68.295947   55.985057            36.25   \n",
       "581                 pilar  -7.182993  -35.241285            82.33   \n",
       "582  vila franca do campo  41.761982  -20.407876            63.01   \n",
       "583               chermoz  58.963698   56.462133            46.51   \n",
       "584             road town  21.957832  -64.353047            85.95   \n",
       "\n",
       "     Humidity (%)  Cloudiness (%)  Wind Speed (mph)  \n",
       "0            66.0           100.0              3.67  \n",
       "1            94.0           100.0              5.53  \n",
       "2            69.0             8.0             11.23  \n",
       "3            85.0           100.0              1.83  \n",
       "4            58.0           100.0              1.01  \n",
       "..            ...             ...               ...  \n",
       "580          58.0            10.0              7.00  \n",
       "581          76.0            93.0              6.17  \n",
       "582          74.0            44.0              7.43  \n",
       "583          71.0            91.0              7.23  \n",
       "584          66.0            40.0              8.05  \n",
       "\n",
       "[585 rows x 7 columns]"
      ]
     },
     "execution_count": 42,
     "metadata": {},
     "output_type": "execute_result"
    }
   ],
   "source": [
    "cities_df"
   ]
  },
  {
   "cell_type": "code",
   "execution_count": 43,
   "metadata": {},
   "outputs": [
    {
     "data": {
      "text/html": [
       "<div>\n",
       "<style scoped>\n",
       "    .dataframe tbody tr th:only-of-type {\n",
       "        vertical-align: middle;\n",
       "    }\n",
       "\n",
       "    .dataframe tbody tr th {\n",
       "        vertical-align: top;\n",
       "    }\n",
       "\n",
       "    .dataframe thead th {\n",
       "        text-align: right;\n",
       "    }\n",
       "</style>\n",
       "<table border=\"1\" class=\"dataframe\">\n",
       "  <thead>\n",
       "    <tr style=\"text-align: right;\">\n",
       "      <th></th>\n",
       "      <th>Nearest City</th>\n",
       "      <th>Latitude</th>\n",
       "      <th>Longitude</th>\n",
       "      <th>Temperature (F)</th>\n",
       "      <th>Humidity (%)</th>\n",
       "      <th>Cloudiness (%)</th>\n",
       "      <th>Wind Speed (mph)</th>\n",
       "    </tr>\n",
       "  </thead>\n",
       "  <tbody>\n",
       "    <tr>\n",
       "      <th>0</th>\n",
       "      <td>athmallik</td>\n",
       "      <td>20.416097</td>\n",
       "      <td>84.789184</td>\n",
       "      <td>80.60</td>\n",
       "      <td>66.0</td>\n",
       "      <td>100.0</td>\n",
       "      <td>3.67</td>\n",
       "    </tr>\n",
       "    <tr>\n",
       "      <th>1</th>\n",
       "      <td>tiksi</td>\n",
       "      <td>82.389401</td>\n",
       "      <td>126.720441</td>\n",
       "      <td>34.23</td>\n",
       "      <td>94.0</td>\n",
       "      <td>100.0</td>\n",
       "      <td>5.53</td>\n",
       "    </tr>\n",
       "    <tr>\n",
       "      <th>2</th>\n",
       "      <td>tevaitoa</td>\n",
       "      <td>-17.097242</td>\n",
       "      <td>-151.266701</td>\n",
       "      <td>80.42</td>\n",
       "      <td>69.0</td>\n",
       "      <td>8.0</td>\n",
       "      <td>11.23</td>\n",
       "    </tr>\n",
       "    <tr>\n",
       "      <th>3</th>\n",
       "      <td>otane</td>\n",
       "      <td>-41.631874</td>\n",
       "      <td>178.602784</td>\n",
       "      <td>38.01</td>\n",
       "      <td>85.0</td>\n",
       "      <td>100.0</td>\n",
       "      <td>1.83</td>\n",
       "    </tr>\n",
       "    <tr>\n",
       "      <th>4</th>\n",
       "      <td>hamilton</td>\n",
       "      <td>30.250444</td>\n",
       "      <td>-70.001038</td>\n",
       "      <td>80.85</td>\n",
       "      <td>58.0</td>\n",
       "      <td>100.0</td>\n",
       "      <td>1.01</td>\n",
       "    </tr>\n",
       "    <tr>\n",
       "      <th>...</th>\n",
       "      <td>...</td>\n",
       "      <td>...</td>\n",
       "      <td>...</td>\n",
       "      <td>...</td>\n",
       "      <td>...</td>\n",
       "      <td>...</td>\n",
       "      <td>...</td>\n",
       "    </tr>\n",
       "    <tr>\n",
       "      <th>580</th>\n",
       "      <td>usinsk</td>\n",
       "      <td>68.295947</td>\n",
       "      <td>55.985057</td>\n",
       "      <td>36.25</td>\n",
       "      <td>58.0</td>\n",
       "      <td>10.0</td>\n",
       "      <td>7.00</td>\n",
       "    </tr>\n",
       "    <tr>\n",
       "      <th>581</th>\n",
       "      <td>pilar</td>\n",
       "      <td>-7.182993</td>\n",
       "      <td>-35.241285</td>\n",
       "      <td>82.33</td>\n",
       "      <td>76.0</td>\n",
       "      <td>93.0</td>\n",
       "      <td>6.17</td>\n",
       "    </tr>\n",
       "    <tr>\n",
       "      <th>582</th>\n",
       "      <td>vila franca do campo</td>\n",
       "      <td>41.761982</td>\n",
       "      <td>-20.407876</td>\n",
       "      <td>63.01</td>\n",
       "      <td>74.0</td>\n",
       "      <td>44.0</td>\n",
       "      <td>7.43</td>\n",
       "    </tr>\n",
       "    <tr>\n",
       "      <th>583</th>\n",
       "      <td>chermoz</td>\n",
       "      <td>58.963698</td>\n",
       "      <td>56.462133</td>\n",
       "      <td>46.51</td>\n",
       "      <td>71.0</td>\n",
       "      <td>91.0</td>\n",
       "      <td>7.23</td>\n",
       "    </tr>\n",
       "    <tr>\n",
       "      <th>584</th>\n",
       "      <td>road town</td>\n",
       "      <td>21.957832</td>\n",
       "      <td>-64.353047</td>\n",
       "      <td>85.95</td>\n",
       "      <td>66.0</td>\n",
       "      <td>40.0</td>\n",
       "      <td>8.05</td>\n",
       "    </tr>\n",
       "  </tbody>\n",
       "</table>\n",
       "<p>585 rows × 7 columns</p>\n",
       "</div>"
      ],
      "text/plain": [
       "             Nearest City   Latitude   Longitude  Temperature (F)  \\\n",
       "0               athmallik  20.416097   84.789184            80.60   \n",
       "1                   tiksi  82.389401  126.720441            34.23   \n",
       "2                tevaitoa -17.097242 -151.266701            80.42   \n",
       "3                   otane -41.631874  178.602784            38.01   \n",
       "4                hamilton  30.250444  -70.001038            80.85   \n",
       "..                    ...        ...         ...              ...   \n",
       "580                usinsk  68.295947   55.985057            36.25   \n",
       "581                 pilar  -7.182993  -35.241285            82.33   \n",
       "582  vila franca do campo  41.761982  -20.407876            63.01   \n",
       "583               chermoz  58.963698   56.462133            46.51   \n",
       "584             road town  21.957832  -64.353047            85.95   \n",
       "\n",
       "     Humidity (%)  Cloudiness (%)  Wind Speed (mph)  \n",
       "0            66.0           100.0              3.67  \n",
       "1            94.0           100.0              5.53  \n",
       "2            69.0             8.0             11.23  \n",
       "3            85.0           100.0              1.83  \n",
       "4            58.0           100.0              1.01  \n",
       "..            ...             ...               ...  \n",
       "580          58.0            10.0              7.00  \n",
       "581          76.0            93.0              6.17  \n",
       "582          74.0            44.0              7.43  \n",
       "583          71.0            91.0              7.23  \n",
       "584          66.0            40.0              8.05  \n",
       "\n",
       "[585 rows x 7 columns]"
      ]
     },
     "execution_count": 43,
     "metadata": {},
     "output_type": "execute_result"
    }
   ],
   "source": [
    "# deleting the rows where there are no values for Temperature, temperature being significant data for the cities.\n",
    "cities_df['Temperature (F)'] = cities_df['Temperature (F)'].replace(\"\", np.nan)\n",
    "cities_df = cities_df.dropna(axis=0, subset=['Temperature (F)'])\n",
    "cities_df"
   ]
  },
  {
   "cell_type": "code",
   "execution_count": 44,
   "metadata": {},
   "outputs": [
    {
     "data": {
      "text/html": [
       "<div>\n",
       "<style scoped>\n",
       "    .dataframe tbody tr th:only-of-type {\n",
       "        vertical-align: middle;\n",
       "    }\n",
       "\n",
       "    .dataframe tbody tr th {\n",
       "        vertical-align: top;\n",
       "    }\n",
       "\n",
       "    .dataframe thead th {\n",
       "        text-align: right;\n",
       "    }\n",
       "</style>\n",
       "<table border=\"1\" class=\"dataframe\">\n",
       "  <thead>\n",
       "    <tr style=\"text-align: right;\">\n",
       "      <th></th>\n",
       "      <th>Nearest City</th>\n",
       "      <th>Latitude</th>\n",
       "      <th>Longitude</th>\n",
       "      <th>Temperature (F)</th>\n",
       "      <th>Humidity (%)</th>\n",
       "      <th>Cloudiness (%)</th>\n",
       "      <th>Wind Speed (mph)</th>\n",
       "    </tr>\n",
       "  </thead>\n",
       "  <tbody>\n",
       "    <tr>\n",
       "      <th>0</th>\n",
       "      <td>athmallik</td>\n",
       "      <td>20.416097</td>\n",
       "      <td>84.789184</td>\n",
       "      <td>80.60</td>\n",
       "      <td>66.0</td>\n",
       "      <td>100.0</td>\n",
       "      <td>3.67</td>\n",
       "    </tr>\n",
       "    <tr>\n",
       "      <th>1</th>\n",
       "      <td>tiksi</td>\n",
       "      <td>82.389401</td>\n",
       "      <td>126.720441</td>\n",
       "      <td>34.23</td>\n",
       "      <td>94.0</td>\n",
       "      <td>100.0</td>\n",
       "      <td>5.53</td>\n",
       "    </tr>\n",
       "    <tr>\n",
       "      <th>2</th>\n",
       "      <td>tevaitoa</td>\n",
       "      <td>-17.097242</td>\n",
       "      <td>-151.266701</td>\n",
       "      <td>80.42</td>\n",
       "      <td>69.0</td>\n",
       "      <td>8.0</td>\n",
       "      <td>11.23</td>\n",
       "    </tr>\n",
       "    <tr>\n",
       "      <th>3</th>\n",
       "      <td>otane</td>\n",
       "      <td>-41.631874</td>\n",
       "      <td>178.602784</td>\n",
       "      <td>38.01</td>\n",
       "      <td>85.0</td>\n",
       "      <td>100.0</td>\n",
       "      <td>1.83</td>\n",
       "    </tr>\n",
       "    <tr>\n",
       "      <th>4</th>\n",
       "      <td>hamilton</td>\n",
       "      <td>30.250444</td>\n",
       "      <td>-70.001038</td>\n",
       "      <td>80.85</td>\n",
       "      <td>58.0</td>\n",
       "      <td>100.0</td>\n",
       "      <td>1.01</td>\n",
       "    </tr>\n",
       "    <tr>\n",
       "      <th>...</th>\n",
       "      <td>...</td>\n",
       "      <td>...</td>\n",
       "      <td>...</td>\n",
       "      <td>...</td>\n",
       "      <td>...</td>\n",
       "      <td>...</td>\n",
       "      <td>...</td>\n",
       "    </tr>\n",
       "    <tr>\n",
       "      <th>580</th>\n",
       "      <td>usinsk</td>\n",
       "      <td>68.295947</td>\n",
       "      <td>55.985057</td>\n",
       "      <td>36.25</td>\n",
       "      <td>58.0</td>\n",
       "      <td>10.0</td>\n",
       "      <td>7.00</td>\n",
       "    </tr>\n",
       "    <tr>\n",
       "      <th>581</th>\n",
       "      <td>pilar</td>\n",
       "      <td>-7.182993</td>\n",
       "      <td>-35.241285</td>\n",
       "      <td>82.33</td>\n",
       "      <td>76.0</td>\n",
       "      <td>93.0</td>\n",
       "      <td>6.17</td>\n",
       "    </tr>\n",
       "    <tr>\n",
       "      <th>582</th>\n",
       "      <td>vila franca do campo</td>\n",
       "      <td>41.761982</td>\n",
       "      <td>-20.407876</td>\n",
       "      <td>63.01</td>\n",
       "      <td>74.0</td>\n",
       "      <td>44.0</td>\n",
       "      <td>7.43</td>\n",
       "    </tr>\n",
       "    <tr>\n",
       "      <th>583</th>\n",
       "      <td>chermoz</td>\n",
       "      <td>58.963698</td>\n",
       "      <td>56.462133</td>\n",
       "      <td>46.51</td>\n",
       "      <td>71.0</td>\n",
       "      <td>91.0</td>\n",
       "      <td>7.23</td>\n",
       "    </tr>\n",
       "    <tr>\n",
       "      <th>584</th>\n",
       "      <td>road town</td>\n",
       "      <td>21.957832</td>\n",
       "      <td>-64.353047</td>\n",
       "      <td>85.95</td>\n",
       "      <td>66.0</td>\n",
       "      <td>40.0</td>\n",
       "      <td>8.05</td>\n",
       "    </tr>\n",
       "  </tbody>\n",
       "</table>\n",
       "<p>585 rows × 7 columns</p>\n",
       "</div>"
      ],
      "text/plain": [
       "             Nearest City   Latitude   Longitude  Temperature (F)  \\\n",
       "0               athmallik  20.416097   84.789184            80.60   \n",
       "1                   tiksi  82.389401  126.720441            34.23   \n",
       "2                tevaitoa -17.097242 -151.266701            80.42   \n",
       "3                   otane -41.631874  178.602784            38.01   \n",
       "4                hamilton  30.250444  -70.001038            80.85   \n",
       "..                    ...        ...         ...              ...   \n",
       "580                usinsk  68.295947   55.985057            36.25   \n",
       "581                 pilar  -7.182993  -35.241285            82.33   \n",
       "582  vila franca do campo  41.761982  -20.407876            63.01   \n",
       "583               chermoz  58.963698   56.462133            46.51   \n",
       "584             road town  21.957832  -64.353047            85.95   \n",
       "\n",
       "     Humidity (%)  Cloudiness (%)  Wind Speed (mph)  \n",
       "0            66.0           100.0              3.67  \n",
       "1            94.0           100.0              5.53  \n",
       "2            69.0             8.0             11.23  \n",
       "3            85.0           100.0              1.83  \n",
       "4            58.0           100.0              1.01  \n",
       "..            ...             ...               ...  \n",
       "580          58.0            10.0              7.00  \n",
       "581          76.0            93.0              6.17  \n",
       "582          74.0            44.0              7.43  \n",
       "583          71.0            91.0              7.23  \n",
       "584          66.0            40.0              8.05  \n",
       "\n",
       "[585 rows x 7 columns]"
      ]
     },
     "execution_count": 44,
     "metadata": {},
     "output_type": "execute_result"
    }
   ],
   "source": [
    "# resetting the index to get the true list for the actual data retrieved\n",
    "cities_df = cities_df.reset_index(drop=True)\n",
    "cities_df"
   ]
  },
  {
   "cell_type": "markdown",
   "metadata": {},
   "source": [
    "### Convert Raw Data to DataFrame\n",
    "* Export the city data into a .csv.\n",
    "* Display the DataFrame"
   ]
  },
  {
   "cell_type": "code",
   "execution_count": 45,
   "metadata": {},
   "outputs": [],
   "source": [
    "cities_df.to_csv('Cities_Weather_Data.csv', index=False)"
   ]
  },
  {
   "cell_type": "code",
   "execution_count": 46,
   "metadata": {},
   "outputs": [
    {
     "data": {
      "text/plain": [
       "Nearest City         object\n",
       "Latitude            float64\n",
       "Longitude           float64\n",
       "Temperature (F)     float64\n",
       "Humidity (%)        float64\n",
       "Cloudiness (%)      float64\n",
       "Wind Speed (mph)    float64\n",
       "dtype: object"
      ]
     },
     "execution_count": 46,
     "metadata": {},
     "output_type": "execute_result"
    }
   ],
   "source": [
    "cities_df.dtypes"
   ]
  },
  {
   "cell_type": "code",
   "execution_count": 47,
   "metadata": {},
   "outputs": [
    {
     "data": {
      "text/html": [
       "<div>\n",
       "<style scoped>\n",
       "    .dataframe tbody tr th:only-of-type {\n",
       "        vertical-align: middle;\n",
       "    }\n",
       "\n",
       "    .dataframe tbody tr th {\n",
       "        vertical-align: top;\n",
       "    }\n",
       "\n",
       "    .dataframe thead th {\n",
       "        text-align: right;\n",
       "    }\n",
       "</style>\n",
       "<table border=\"1\" class=\"dataframe\">\n",
       "  <thead>\n",
       "    <tr style=\"text-align: right;\">\n",
       "      <th></th>\n",
       "      <th>Nearest City</th>\n",
       "      <th>Latitude</th>\n",
       "      <th>Longitude</th>\n",
       "      <th>Temperature (F)</th>\n",
       "      <th>Humidity (%)</th>\n",
       "      <th>Cloudiness (%)</th>\n",
       "      <th>Wind Speed (mph)</th>\n",
       "    </tr>\n",
       "  </thead>\n",
       "  <tbody>\n",
       "    <tr>\n",
       "      <th>0</th>\n",
       "      <td>athmallik</td>\n",
       "      <td>20.416097</td>\n",
       "      <td>84.789184</td>\n",
       "      <td>80.60</td>\n",
       "      <td>66.0</td>\n",
       "      <td>100.0</td>\n",
       "      <td>3.67</td>\n",
       "    </tr>\n",
       "    <tr>\n",
       "      <th>1</th>\n",
       "      <td>tiksi</td>\n",
       "      <td>82.389401</td>\n",
       "      <td>126.720441</td>\n",
       "      <td>34.23</td>\n",
       "      <td>94.0</td>\n",
       "      <td>100.0</td>\n",
       "      <td>5.53</td>\n",
       "    </tr>\n",
       "    <tr>\n",
       "      <th>2</th>\n",
       "      <td>tevaitoa</td>\n",
       "      <td>-17.097242</td>\n",
       "      <td>-151.266701</td>\n",
       "      <td>80.42</td>\n",
       "      <td>69.0</td>\n",
       "      <td>8.0</td>\n",
       "      <td>11.23</td>\n",
       "    </tr>\n",
       "    <tr>\n",
       "      <th>3</th>\n",
       "      <td>otane</td>\n",
       "      <td>-41.631874</td>\n",
       "      <td>178.602784</td>\n",
       "      <td>38.01</td>\n",
       "      <td>85.0</td>\n",
       "      <td>100.0</td>\n",
       "      <td>1.83</td>\n",
       "    </tr>\n",
       "    <tr>\n",
       "      <th>4</th>\n",
       "      <td>hamilton</td>\n",
       "      <td>30.250444</td>\n",
       "      <td>-70.001038</td>\n",
       "      <td>80.85</td>\n",
       "      <td>58.0</td>\n",
       "      <td>100.0</td>\n",
       "      <td>1.01</td>\n",
       "    </tr>\n",
       "    <tr>\n",
       "      <th>...</th>\n",
       "      <td>...</td>\n",
       "      <td>...</td>\n",
       "      <td>...</td>\n",
       "      <td>...</td>\n",
       "      <td>...</td>\n",
       "      <td>...</td>\n",
       "      <td>...</td>\n",
       "    </tr>\n",
       "    <tr>\n",
       "      <th>580</th>\n",
       "      <td>usinsk</td>\n",
       "      <td>68.295947</td>\n",
       "      <td>55.985057</td>\n",
       "      <td>36.25</td>\n",
       "      <td>58.0</td>\n",
       "      <td>10.0</td>\n",
       "      <td>7.00</td>\n",
       "    </tr>\n",
       "    <tr>\n",
       "      <th>581</th>\n",
       "      <td>pilar</td>\n",
       "      <td>-7.182993</td>\n",
       "      <td>-35.241285</td>\n",
       "      <td>82.33</td>\n",
       "      <td>76.0</td>\n",
       "      <td>93.0</td>\n",
       "      <td>6.17</td>\n",
       "    </tr>\n",
       "    <tr>\n",
       "      <th>582</th>\n",
       "      <td>vila franca do campo</td>\n",
       "      <td>41.761982</td>\n",
       "      <td>-20.407876</td>\n",
       "      <td>63.01</td>\n",
       "      <td>74.0</td>\n",
       "      <td>44.0</td>\n",
       "      <td>7.43</td>\n",
       "    </tr>\n",
       "    <tr>\n",
       "      <th>583</th>\n",
       "      <td>chermoz</td>\n",
       "      <td>58.963698</td>\n",
       "      <td>56.462133</td>\n",
       "      <td>46.51</td>\n",
       "      <td>71.0</td>\n",
       "      <td>91.0</td>\n",
       "      <td>7.23</td>\n",
       "    </tr>\n",
       "    <tr>\n",
       "      <th>584</th>\n",
       "      <td>road town</td>\n",
       "      <td>21.957832</td>\n",
       "      <td>-64.353047</td>\n",
       "      <td>85.95</td>\n",
       "      <td>66.0</td>\n",
       "      <td>40.0</td>\n",
       "      <td>8.05</td>\n",
       "    </tr>\n",
       "  </tbody>\n",
       "</table>\n",
       "<p>585 rows × 7 columns</p>\n",
       "</div>"
      ],
      "text/plain": [
       "             Nearest City   Latitude   Longitude  Temperature (F)  \\\n",
       "0               athmallik  20.416097   84.789184            80.60   \n",
       "1                   tiksi  82.389401  126.720441            34.23   \n",
       "2                tevaitoa -17.097242 -151.266701            80.42   \n",
       "3                   otane -41.631874  178.602784            38.01   \n",
       "4                hamilton  30.250444  -70.001038            80.85   \n",
       "..                    ...        ...         ...              ...   \n",
       "580                usinsk  68.295947   55.985057            36.25   \n",
       "581                 pilar  -7.182993  -35.241285            82.33   \n",
       "582  vila franca do campo  41.761982  -20.407876            63.01   \n",
       "583               chermoz  58.963698   56.462133            46.51   \n",
       "584             road town  21.957832  -64.353047            85.95   \n",
       "\n",
       "     Humidity (%)  Cloudiness (%)  Wind Speed (mph)  \n",
       "0            66.0           100.0              3.67  \n",
       "1            94.0           100.0              5.53  \n",
       "2            69.0             8.0             11.23  \n",
       "3            85.0           100.0              1.83  \n",
       "4            58.0           100.0              1.01  \n",
       "..            ...             ...               ...  \n",
       "580          58.0            10.0              7.00  \n",
       "581          76.0            93.0              6.17  \n",
       "582          74.0            44.0              7.43  \n",
       "583          71.0            91.0              7.23  \n",
       "584          66.0            40.0              8.05  \n",
       "\n",
       "[585 rows x 7 columns]"
      ]
     },
     "execution_count": 47,
     "metadata": {},
     "output_type": "execute_result"
    }
   ],
   "source": [
    "cities_df['Humidity (%)'] = cities_df['Humidity (%)'].astype(float)\n",
    "cities_df['Cloudiness (%)'] = cities_df['Cloudiness (%)'].astype(float)\n",
    "cities_df['Wind Speed (mph)'] = cities_df['Wind Speed (mph)'].astype(float)\n",
    "cities_df"
   ]
  },
  {
   "cell_type": "code",
   "execution_count": 48,
   "metadata": {},
   "outputs": [
    {
     "data": {
      "text/plain": [
       "Nearest City         object\n",
       "Latitude            float64\n",
       "Longitude           float64\n",
       "Temperature (F)     float64\n",
       "Humidity (%)        float64\n",
       "Cloudiness (%)      float64\n",
       "Wind Speed (mph)    float64\n",
       "dtype: object"
      ]
     },
     "execution_count": 48,
     "metadata": {},
     "output_type": "execute_result"
    }
   ],
   "source": [
    "cities_df.dtypes"
   ]
  },
  {
   "cell_type": "markdown",
   "metadata": {},
   "source": [
    "## Inspect the data and remove the cities where the humidity > 100%.\n",
    "----\n",
    "Skip this step if there are no cities that have humidity > 100%. "
   ]
  },
  {
   "cell_type": "code",
   "execution_count": 49,
   "metadata": {},
   "outputs": [
    {
     "data": {
      "text/html": [
       "<div>\n",
       "<style scoped>\n",
       "    .dataframe tbody tr th:only-of-type {\n",
       "        vertical-align: middle;\n",
       "    }\n",
       "\n",
       "    .dataframe tbody tr th {\n",
       "        vertical-align: top;\n",
       "    }\n",
       "\n",
       "    .dataframe thead th {\n",
       "        text-align: right;\n",
       "    }\n",
       "</style>\n",
       "<table border=\"1\" class=\"dataframe\">\n",
       "  <thead>\n",
       "    <tr style=\"text-align: right;\">\n",
       "      <th></th>\n",
       "      <th>Nearest City</th>\n",
       "      <th>Latitude</th>\n",
       "      <th>Longitude</th>\n",
       "      <th>Temperature (F)</th>\n",
       "      <th>Humidity (%)</th>\n",
       "      <th>Cloudiness (%)</th>\n",
       "      <th>Wind Speed (mph)</th>\n",
       "    </tr>\n",
       "  </thead>\n",
       "  <tbody>\n",
       "  </tbody>\n",
       "</table>\n",
       "</div>"
      ],
      "text/plain": [
       "Empty DataFrame\n",
       "Columns: [Nearest City, Latitude, Longitude, Temperature (F), Humidity (%), Cloudiness (%), Wind Speed (mph)]\n",
       "Index: []"
      ]
     },
     "execution_count": 49,
     "metadata": {},
     "output_type": "execute_result"
    }
   ],
   "source": [
    "cities_df[cities_df['Humidity (%)']>100]"
   ]
  },
  {
   "cell_type": "markdown",
   "metadata": {},
   "source": [
    "None of the cities retrieved have humidity more than 100%."
   ]
  },
  {
   "cell_type": "code",
   "execution_count": 50,
   "metadata": {},
   "outputs": [],
   "source": [
    "#  Get the indices of cities that have humidity over 100%.\n"
   ]
  },
  {
   "cell_type": "code",
   "execution_count": 51,
   "metadata": {},
   "outputs": [],
   "source": [
    "# Make a new DataFrame equal to the city data to drop all humidity outliers by index.\n",
    "# Passing \"inplace=False\" will make a copy of the city_data DataFrame, which we call \"clean_city_data\".\n"
   ]
  },
  {
   "cell_type": "markdown",
   "metadata": {},
   "source": [
    "## Plotting the Data\n",
    "* Use proper labeling of the plots using plot titles (including date of analysis) and axes labels.\n",
    "* Save the plotted figures as .pngs."
   ]
  },
  {
   "cell_type": "markdown",
   "metadata": {},
   "source": [
    "## Latitude vs. Temperature Plot"
   ]
  },
  {
   "cell_type": "code",
   "execution_count": 52,
   "metadata": {},
   "outputs": [
    {
     "data": {
      "image/png": "[encoded data removed]",
      "text/plain": [
       "<Figure size 432x288 with 1 Axes>"
      ]
     },
     "metadata": {
      "needs_background": "light"
     },
     "output_type": "display_data"
    }
   ],
   "source": [
    "plt.scatter(cities_df['Latitude'], cities_df['Temperature (F)'])\n",
    "plt.xlabel('Latitude')\n",
    "plt.ylabel('Temperature (F)')\n",
    "plt.title('Latitude vs. Temperature Plot')\n",
    "plt.savefig('Pictures/Lat_Temp_Plot.png')\n",
    "plt.show()"
   ]
  },
  {
   "cell_type": "markdown",
   "metadata": {},
   "source": [
    "Analysis - The Temperatures increase as the latitude moves from -90 to 0 and from 90 to 0, 0 being the equator, -90 being southpole and 90 being northpole."
   ]
  },
  {
   "cell_type": "markdown",
   "metadata": {},
   "source": [
    "## Latitude vs. Humidity Plot"
   ]
  },
  {
   "cell_type": "code",
   "execution_count": 53,
   "metadata": {},
   "outputs": [
    {
     "data": {
      "image/png": "[encoded data removed]",
      "text/plain": [
       "<Figure size 432x288 with 1 Axes>"
      ]
     },
     "metadata": {
      "needs_background": "light"
     },
     "output_type": "display_data"
    }
   ],
   "source": [
    "plt.scatter(cities_df['Latitude'], cities_df['Humidity (%)'])\n",
    "plt.xlabel('Latitude')\n",
    "plt.ylabel('Humidity (%)')\n",
    "plt.title('Latitude vs. Humidity Plot')\n",
    "plt.savefig('Pictures/Lat_Humid_Plot.png')\n",
    "plt.show()"
   ]
  },
  {
   "cell_type": "markdown",
   "metadata": {},
   "source": [
    "Analysis - There is significantly more data in northern hemisphere compared to southern hemisphere. There seems to be no particular correlarion between Latitude and Humidity.  "
   ]
  },
  {
   "cell_type": "markdown",
   "metadata": {},
   "source": [
    "## Latitude vs. Cloudiness Plot"
   ]
  },
  {
   "cell_type": "code",
   "execution_count": 54,
   "metadata": {},
   "outputs": [
    {
     "data": {
      "image/png": "[encoded data removed]",
      "text/plain": [
       "<Figure size 432x288 with 1 Axes>"
      ]
     },
     "metadata": {
      "needs_background": "light"
     },
     "output_type": "display_data"
    }
   ],
   "source": [
    "plt.scatter(cities_df['Latitude'], cities_df['Cloudiness (%)'])\n",
    "plt.xlabel('Latitude')\n",
    "plt.ylabel('Cloudiness (%)')\n",
    "plt.title('Latitude vs. Cloudiness Plot')\n",
    "plt.savefig('Pictures/Lat_Cloud_Plot.png')\n",
    "plt.show()"
   ]
  },
  {
   "cell_type": "markdown",
   "metadata": {},
   "source": [
    "Analysis - There seems to be no particular correlarion between Latitude and Cloudiness. "
   ]
  },
  {
   "cell_type": "markdown",
   "metadata": {},
   "source": [
    "## Latitude vs. Wind Speed Plot"
   ]
  },
  {
   "cell_type": "code",
   "execution_count": 55,
   "metadata": {},
   "outputs": [
    {
     "data": {
      "image/png": "[encoded data removed]",
      "text/plain": [
       "<Figure size 432x288 with 1 Axes>"
      ]
     },
     "metadata": {
      "needs_background": "light"
     },
     "output_type": "display_data"
    }
   ],
   "source": [
    "plt.scatter(cities_df['Latitude'], cities_df['Wind Speed (mph)'])\n",
    "plt.xlabel('Latitude')\n",
    "plt.ylabel('Windspeed (mph)')\n",
    "plt.title('Latitude vs. Windspeed Plot')\n",
    "plt.savefig('Pictures/Lat_Wind_Plot.png')\n",
    "plt.show()"
   ]
  },
  {
   "cell_type": "markdown",
   "metadata": {},
   "source": [
    "Analysis - There seems to be no particular correlarion between Latitude and Cloudiness. "
   ]
  },
  {
   "cell_type": "markdown",
   "metadata": {},
   "source": [
    "## Linear Regression"
   ]
  },
  {
   "cell_type": "code",
   "execution_count": 56,
   "metadata": {},
   "outputs": [
    {
     "data": {
      "text/html": [
       "<div>\n",
       "<style scoped>\n",
       "    .dataframe tbody tr th:only-of-type {\n",
       "        vertical-align: middle;\n",
       "    }\n",
       "\n",
       "    .dataframe tbody tr th {\n",
       "        vertical-align: top;\n",
       "    }\n",
       "\n",
       "    .dataframe thead th {\n",
       "        text-align: right;\n",
       "    }\n",
       "</style>\n",
       "<table border=\"1\" class=\"dataframe\">\n",
       "  <thead>\n",
       "    <tr style=\"text-align: right;\">\n",
       "      <th></th>\n",
       "      <th>Nearest City</th>\n",
       "      <th>Latitude</th>\n",
       "      <th>Longitude</th>\n",
       "      <th>Temperature (F)</th>\n",
       "      <th>Humidity (%)</th>\n",
       "      <th>Cloudiness (%)</th>\n",
       "      <th>Wind Speed (mph)</th>\n",
       "    </tr>\n",
       "  </thead>\n",
       "  <tbody>\n",
       "    <tr>\n",
       "      <th>0</th>\n",
       "      <td>athmallik</td>\n",
       "      <td>20.416097</td>\n",
       "      <td>84.789184</td>\n",
       "      <td>80.60</td>\n",
       "      <td>66.0</td>\n",
       "      <td>100.0</td>\n",
       "      <td>3.67</td>\n",
       "    </tr>\n",
       "    <tr>\n",
       "      <th>1</th>\n",
       "      <td>tiksi</td>\n",
       "      <td>82.389401</td>\n",
       "      <td>126.720441</td>\n",
       "      <td>34.23</td>\n",
       "      <td>94.0</td>\n",
       "      <td>100.0</td>\n",
       "      <td>5.53</td>\n",
       "    </tr>\n",
       "    <tr>\n",
       "      <th>4</th>\n",
       "      <td>hamilton</td>\n",
       "      <td>30.250444</td>\n",
       "      <td>-70.001038</td>\n",
       "      <td>80.85</td>\n",
       "      <td>58.0</td>\n",
       "      <td>100.0</td>\n",
       "      <td>1.01</td>\n",
       "    </tr>\n",
       "    <tr>\n",
       "      <th>5</th>\n",
       "      <td>college</td>\n",
       "      <td>68.788801</td>\n",
       "      <td>-146.927538</td>\n",
       "      <td>54.72</td>\n",
       "      <td>49.0</td>\n",
       "      <td>75.0</td>\n",
       "      <td>1.01</td>\n",
       "    </tr>\n",
       "    <tr>\n",
       "      <th>6</th>\n",
       "      <td>sanming</td>\n",
       "      <td>26.196324</td>\n",
       "      <td>118.008966</td>\n",
       "      <td>72.19</td>\n",
       "      <td>98.0</td>\n",
       "      <td>75.0</td>\n",
       "      <td>2.04</td>\n",
       "    </tr>\n",
       "    <tr>\n",
       "      <th>...</th>\n",
       "      <td>...</td>\n",
       "      <td>...</td>\n",
       "      <td>...</td>\n",
       "      <td>...</td>\n",
       "      <td>...</td>\n",
       "      <td>...</td>\n",
       "      <td>...</td>\n",
       "    </tr>\n",
       "    <tr>\n",
       "      <th>579</th>\n",
       "      <td>duluth</td>\n",
       "      <td>46.954017</td>\n",
       "      <td>-91.004916</td>\n",
       "      <td>42.15</td>\n",
       "      <td>65.0</td>\n",
       "      <td>1.0</td>\n",
       "      <td>5.01</td>\n",
       "    </tr>\n",
       "    <tr>\n",
       "      <th>580</th>\n",
       "      <td>usinsk</td>\n",
       "      <td>68.295947</td>\n",
       "      <td>55.985057</td>\n",
       "      <td>36.25</td>\n",
       "      <td>58.0</td>\n",
       "      <td>10.0</td>\n",
       "      <td>7.00</td>\n",
       "    </tr>\n",
       "    <tr>\n",
       "      <th>582</th>\n",
       "      <td>vila franca do campo</td>\n",
       "      <td>41.761982</td>\n",
       "      <td>-20.407876</td>\n",
       "      <td>63.01</td>\n",
       "      <td>74.0</td>\n",
       "      <td>44.0</td>\n",
       "      <td>7.43</td>\n",
       "    </tr>\n",
       "    <tr>\n",
       "      <th>583</th>\n",
       "      <td>chermoz</td>\n",
       "      <td>58.963698</td>\n",
       "      <td>56.462133</td>\n",
       "      <td>46.51</td>\n",
       "      <td>71.0</td>\n",
       "      <td>91.0</td>\n",
       "      <td>7.23</td>\n",
       "    </tr>\n",
       "    <tr>\n",
       "      <th>584</th>\n",
       "      <td>road town</td>\n",
       "      <td>21.957832</td>\n",
       "      <td>-64.353047</td>\n",
       "      <td>85.95</td>\n",
       "      <td>66.0</td>\n",
       "      <td>40.0</td>\n",
       "      <td>8.05</td>\n",
       "    </tr>\n",
       "  </tbody>\n",
       "</table>\n",
       "<p>405 rows × 7 columns</p>\n",
       "</div>"
      ],
      "text/plain": [
       "             Nearest City   Latitude   Longitude  Temperature (F)  \\\n",
       "0               athmallik  20.416097   84.789184            80.60   \n",
       "1                   tiksi  82.389401  126.720441            34.23   \n",
       "4                hamilton  30.250444  -70.001038            80.85   \n",
       "5                 college  68.788801 -146.927538            54.72   \n",
       "6                 sanming  26.196324  118.008966            72.19   \n",
       "..                    ...        ...         ...              ...   \n",
       "579                duluth  46.954017  -91.004916            42.15   \n",
       "580                usinsk  68.295947   55.985057            36.25   \n",
       "582  vila franca do campo  41.761982  -20.407876            63.01   \n",
       "583               chermoz  58.963698   56.462133            46.51   \n",
       "584             road town  21.957832  -64.353047            85.95   \n",
       "\n",
       "     Humidity (%)  Cloudiness (%)  Wind Speed (mph)  \n",
       "0            66.0           100.0              3.67  \n",
       "1            94.0           100.0              5.53  \n",
       "4            58.0           100.0              1.01  \n",
       "5            49.0            75.0              1.01  \n",
       "6            98.0            75.0              2.04  \n",
       "..            ...             ...               ...  \n",
       "579          65.0             1.0              5.01  \n",
       "580          58.0            10.0              7.00  \n",
       "582          74.0            44.0              7.43  \n",
       "583          71.0            91.0              7.23  \n",
       "584          66.0            40.0              8.05  \n",
       "\n",
       "[405 rows x 7 columns]"
      ]
     },
     "execution_count": 56,
     "metadata": {},
     "output_type": "execute_result"
    }
   ],
   "source": [
    "#slicing the data for northern hemisphere cities\n",
    "Northern_df = cities_df[cities_df['Latitude']>0]\n",
    "Northern_df"
   ]
  },
  {
   "cell_type": "code",
   "execution_count": 57,
   "metadata": {},
   "outputs": [
    {
     "data": {
      "text/html": [
       "<div>\n",
       "<style scoped>\n",
       "    .dataframe tbody tr th:only-of-type {\n",
       "        vertical-align: middle;\n",
       "    }\n",
       "\n",
       "    .dataframe tbody tr th {\n",
       "        vertical-align: top;\n",
       "    }\n",
       "\n",
       "    .dataframe thead th {\n",
       "        text-align: right;\n",
       "    }\n",
       "</style>\n",
       "<table border=\"1\" class=\"dataframe\">\n",
       "  <thead>\n",
       "    <tr style=\"text-align: right;\">\n",
       "      <th></th>\n",
       "      <th>Nearest City</th>\n",
       "      <th>Latitude</th>\n",
       "      <th>Longitude</th>\n",
       "      <th>Temperature (F)</th>\n",
       "      <th>Humidity (%)</th>\n",
       "      <th>Cloudiness (%)</th>\n",
       "      <th>Wind Speed (mph)</th>\n",
       "    </tr>\n",
       "  </thead>\n",
       "  <tbody>\n",
       "    <tr>\n",
       "      <th>2</th>\n",
       "      <td>tevaitoa</td>\n",
       "      <td>-17.097242</td>\n",
       "      <td>-151.266701</td>\n",
       "      <td>80.42</td>\n",
       "      <td>69.0</td>\n",
       "      <td>8.0</td>\n",
       "      <td>11.23</td>\n",
       "    </tr>\n",
       "    <tr>\n",
       "      <th>3</th>\n",
       "      <td>otane</td>\n",
       "      <td>-41.631874</td>\n",
       "      <td>178.602784</td>\n",
       "      <td>38.01</td>\n",
       "      <td>85.0</td>\n",
       "      <td>100.0</td>\n",
       "      <td>1.83</td>\n",
       "    </tr>\n",
       "    <tr>\n",
       "      <th>7</th>\n",
       "      <td>atuona</td>\n",
       "      <td>-12.026456</td>\n",
       "      <td>-127.140854</td>\n",
       "      <td>79.14</td>\n",
       "      <td>73.0</td>\n",
       "      <td>15.0</td>\n",
       "      <td>14.61</td>\n",
       "    </tr>\n",
       "    <tr>\n",
       "      <th>9</th>\n",
       "      <td>busselton</td>\n",
       "      <td>-61.447663</td>\n",
       "      <td>83.365123</td>\n",
       "      <td>55.04</td>\n",
       "      <td>80.0</td>\n",
       "      <td>0.0</td>\n",
       "      <td>8.93</td>\n",
       "    </tr>\n",
       "    <tr>\n",
       "      <th>11</th>\n",
       "      <td>punta arenas</td>\n",
       "      <td>-54.477590</td>\n",
       "      <td>-92.903418</td>\n",
       "      <td>35.42</td>\n",
       "      <td>51.0</td>\n",
       "      <td>40.0</td>\n",
       "      <td>14.97</td>\n",
       "    </tr>\n",
       "    <tr>\n",
       "      <th>...</th>\n",
       "      <td>...</td>\n",
       "      <td>...</td>\n",
       "      <td>...</td>\n",
       "      <td>...</td>\n",
       "      <td>...</td>\n",
       "      <td>...</td>\n",
       "      <td>...</td>\n",
       "    </tr>\n",
       "    <tr>\n",
       "      <th>562</th>\n",
       "      <td>alice springs</td>\n",
       "      <td>-24.024663</td>\n",
       "      <td>136.689981</td>\n",
       "      <td>38.75</td>\n",
       "      <td>75.0</td>\n",
       "      <td>90.0</td>\n",
       "      <td>6.60</td>\n",
       "    </tr>\n",
       "    <tr>\n",
       "      <th>563</th>\n",
       "      <td>melipilla</td>\n",
       "      <td>-33.762794</td>\n",
       "      <td>-71.340277</td>\n",
       "      <td>67.84</td>\n",
       "      <td>38.0</td>\n",
       "      <td>91.0</td>\n",
       "      <td>4.50</td>\n",
       "    </tr>\n",
       "    <tr>\n",
       "      <th>565</th>\n",
       "      <td>nisia floresta</td>\n",
       "      <td>-3.255306</td>\n",
       "      <td>-25.509366</td>\n",
       "      <td>84.58</td>\n",
       "      <td>80.0</td>\n",
       "      <td>6.0</td>\n",
       "      <td>10.96</td>\n",
       "    </tr>\n",
       "    <tr>\n",
       "      <th>566</th>\n",
       "      <td>puerto leguizamo</td>\n",
       "      <td>-1.905697</td>\n",
       "      <td>-75.324827</td>\n",
       "      <td>84.54</td>\n",
       "      <td>68.0</td>\n",
       "      <td>66.0</td>\n",
       "      <td>1.03</td>\n",
       "    </tr>\n",
       "    <tr>\n",
       "      <th>581</th>\n",
       "      <td>pilar</td>\n",
       "      <td>-7.182993</td>\n",
       "      <td>-35.241285</td>\n",
       "      <td>82.33</td>\n",
       "      <td>76.0</td>\n",
       "      <td>93.0</td>\n",
       "      <td>6.17</td>\n",
       "    </tr>\n",
       "  </tbody>\n",
       "</table>\n",
       "<p>180 rows × 7 columns</p>\n",
       "</div>"
      ],
      "text/plain": [
       "         Nearest City   Latitude   Longitude  Temperature (F)  Humidity (%)  \\\n",
       "2            tevaitoa -17.097242 -151.266701            80.42          69.0   \n",
       "3               otane -41.631874  178.602784            38.01          85.0   \n",
       "7              atuona -12.026456 -127.140854            79.14          73.0   \n",
       "9           busselton -61.447663   83.365123            55.04          80.0   \n",
       "11       punta arenas -54.477590  -92.903418            35.42          51.0   \n",
       "..                ...        ...         ...              ...           ...   \n",
       "562     alice springs -24.024663  136.689981            38.75          75.0   \n",
       "563         melipilla -33.762794  -71.340277            67.84          38.0   \n",
       "565    nisia floresta  -3.255306  -25.509366            84.58          80.0   \n",
       "566  puerto leguizamo  -1.905697  -75.324827            84.54          68.0   \n",
       "581             pilar  -7.182993  -35.241285            82.33          76.0   \n",
       "\n",
       "     Cloudiness (%)  Wind Speed (mph)  \n",
       "2               8.0             11.23  \n",
       "3             100.0              1.83  \n",
       "7              15.0             14.61  \n",
       "9               0.0              8.93  \n",
       "11             40.0             14.97  \n",
       "..              ...               ...  \n",
       "562            90.0              6.60  \n",
       "563            91.0              4.50  \n",
       "565             6.0             10.96  \n",
       "566            66.0              1.03  \n",
       "581            93.0              6.17  \n",
       "\n",
       "[180 rows x 7 columns]"
      ]
     },
     "execution_count": 57,
     "metadata": {},
     "output_type": "execute_result"
    }
   ],
   "source": [
    "#slicing the data for southern hemisphere cities\n",
    "Southern_df = cities_df[cities_df['Latitude']<0]\n",
    "Southern_df"
   ]
  },
  {
   "cell_type": "markdown",
   "metadata": {},
   "source": [
    "####  Northern Hemisphere - Max Temp vs. Latitude Linear Regression"
   ]
  },
  {
   "cell_type": "code",
   "execution_count": 58,
   "metadata": {},
   "outputs": [
    {
     "data": {
      "image/png": "[encoded data removed]",
      "text/plain": [
       "<Figure size 432x288 with 1 Axes>"
      ]
     },
     "metadata": {
      "needs_background": "light"
     },
     "output_type": "display_data"
    }
   ],
   "source": [
    "x = Northern_df['Latitude']\n",
    "y = Northern_df['Temperature (F)']\n",
    "(slope, intercept, rvalue, pvalue, stderr) = linregress(x, y)\n",
    "regress_value = x*slope + intercept\n",
    "line_eq = \"y = \" + str(round(slope,2)) + \"x + \" + str(round(intercept,2))\n",
    "plt.scatter(x,y)\n",
    "plt.plot(x,regress_value,\"r-\")\n",
    "plt.annotate(line_eq,(5,30),fontsize=10,color=\"red\")\n",
    "plt.xlabel('Latitude')\n",
    "plt.ylabel('Temperature (F)')\n",
    "plt.savefig('Pictures/NH_Linregress_Lat_Temp_Plot.png')\n",
    "plt.show()"
   ]
  },
  {
   "cell_type": "markdown",
   "metadata": {},
   "source": [
    "####  Southern Hemisphere - Max Temp vs. Latitude Linear Regression"
   ]
  },
  {
   "cell_type": "code",
   "execution_count": 59,
   "metadata": {},
   "outputs": [
    {
     "data": {
      "image/png": "[encoded data removed]",
      "text/plain": [
       "<Figure size 432x288 with 1 Axes>"
      ]
     },
     "metadata": {
      "needs_background": "light"
     },
     "output_type": "display_data"
    }
   ],
   "source": [
    "x = Southern_df['Latitude']\n",
    "y = Southern_df['Temperature (F)']\n",
    "(slope, intercept, rvalue, pvalue, stderr) = linregress(x, y)\n",
    "regress_value = x*slope + intercept\n",
    "line_eq = \"y = \" + str(round(slope,2)) + \"x + \" + str(round(intercept,2))\n",
    "plt.scatter(x,y)\n",
    "plt.plot(x,regress_value,\"r-\")\n",
    "plt.annotate(line_eq,(-30,35),fontsize=10,color=\"red\")\n",
    "plt.xlabel('Latitude')\n",
    "plt.ylabel('Temperature (F)')\n",
    "plt.savefig('Pictures/SH_Linregress_Lat_Temp_Plot.png')\n",
    "plt.show()"
   ]
  },
  {
   "cell_type": "markdown",
   "metadata": {},
   "source": [
    "####  Northern Hemisphere - Humidity (%) vs. Latitude Linear Regression"
   ]
  },
  {
   "cell_type": "code",
   "execution_count": 60,
   "metadata": {},
   "outputs": [
    {
     "data": {
      "image/png": "[encoded data removed]",
      "text/plain": [
       "<Figure size 432x288 with 1 Axes>"
      ]
     },
     "metadata": {
      "needs_background": "light"
     },
     "output_type": "display_data"
    }
   ],
   "source": [
    "x = Northern_df['Latitude']\n",
    "y = Northern_df['Humidity (%)']\n",
    "(slope, intercept, rvalue, pvalue, stderr) = linregress(x, y)\n",
    "regress_value = x*slope + intercept\n",
    "line_eq = \"y = \" + str(round(slope,2)) + \"x + \" + str(round(intercept,2))\n",
    "plt.scatter(x,y)\n",
    "plt.plot(x,regress_value,\"r-\")\n",
    "plt.annotate(line_eq,(55,10),fontsize=10,color=\"red\")\n",
    "plt.xlabel('Latitude')\n",
    "plt.ylabel('Humidity (%)')\n",
    "plt.savefig('Pictures/NH_Linregress_Lat_Humid_Plot.png')\n",
    "plt.show()"
   ]
  },
  {
   "cell_type": "markdown",
   "metadata": {},
   "source": [
    "####  Southern Hemisphere - Humidity (%) vs. Latitude Linear Regression"
   ]
  },
  {
   "cell_type": "code",
   "execution_count": 61,
   "metadata": {},
   "outputs": [
    {
     "data": {
      "image/png": "[encoded data removed]",
      "text/plain": [
       "<Figure size 432x288 with 1 Axes>"
      ]
     },
     "metadata": {
      "needs_background": "light"
     },
     "output_type": "display_data"
    }
   ],
   "source": [
    "x = Southern_df['Latitude']\n",
    "y = Southern_df['Humidity (%)']\n",
    "(slope, intercept, rvalue, pvalue, stderr) = linregress(x, y)\n",
    "regress_value = x*slope + intercept\n",
    "line_eq = \"y = \" + str(round(slope,2)) + \"x + \" + str(round(intercept,2))\n",
    "plt.scatter(x,y)\n",
    "plt.plot(x,regress_value,\"r-\")\n",
    "plt.annotate(line_eq,(-80,30),fontsize=10,color=\"red\")\n",
    "plt.xlabel('Latitude')\n",
    "plt.ylabel('Humidity (%)')\n",
    "plt.savefig('Pictures/SH_Linregress_Lat_Humid_Plot.png')\n",
    "plt.show()"
   ]
  },
  {
   "cell_type": "markdown",
   "metadata": {},
   "source": [
    "####  Northern Hemisphere - Cloudiness (%) vs. Latitude Linear Regression"
   ]
  },
  {
   "cell_type": "code",
   "execution_count": 62,
   "metadata": {},
   "outputs": [
    {
     "data": {
      "image/png": "[encoded data removed]",
      "text/plain": [
       "<Figure size 432x288 with 1 Axes>"
      ]
     },
     "metadata": {
      "needs_background": "light"
     },
     "output_type": "display_data"
    }
   ],
   "source": [
    "x = Northern_df['Latitude']\n",
    "y = Northern_df['Cloudiness (%)']\n",
    "(slope, intercept, rvalue, pvalue, stderr) = linregress(x, y)\n",
    "regress_value = x*slope + intercept\n",
    "line_eq = \"y = \" + str(round(slope,2)) + \"x + \" + str(round(intercept,2))\n",
    "plt.scatter(x,y)\n",
    "plt.plot(x,regress_value,\"r-\")\n",
    "plt.annotate(line_eq,(68,5),fontsize=10,color=\"red\")\n",
    "plt.xlabel('Latitude')\n",
    "plt.ylabel('Cloudiness (%)')\n",
    "plt.savefig('Pictures/NH_Linregress_Lat_Cloud_Plot.png')\n",
    "plt.show()"
   ]
  },
  {
   "cell_type": "markdown",
   "metadata": {},
   "source": [
    "####  Southern Hemisphere - Cloudiness (%) vs. Latitude Linear Regression"
   ]
  },
  {
   "cell_type": "code",
   "execution_count": 63,
   "metadata": {},
   "outputs": [
    {
     "data": {
      "image/png": "[encoded data removed]",
      "text/plain": [
       "<Figure size 432x288 with 1 Axes>"
      ]
     },
     "metadata": {
      "needs_background": "light"
     },
     "output_type": "display_data"
    }
   ],
   "source": [
    "x = Southern_df['Latitude']\n",
    "y = Southern_df['Cloudiness (%)']\n",
    "(slope, intercept, rvalue, pvalue, stderr) = linregress(x, y)\n",
    "regress_value = x*slope + intercept\n",
    "line_eq = \"y = \" + str(round(slope,2)) + \"x + \" + str(round(intercept,2))\n",
    "plt.scatter(x,y)\n",
    "plt.plot(x,regress_value,\"r-\")\n",
    "plt.annotate(line_eq,(-85,15),fontsize=10,color=\"red\")\n",
    "plt.xlabel('Latitude')\n",
    "plt.ylabel('Cloudiness (%)')\n",
    "plt.savefig('Pictures/SH_Linregress_Lat_Cloud_Plot.png')\n",
    "plt.show()"
   ]
  },
  {
   "cell_type": "markdown",
   "metadata": {},
   "source": [
    "####  Northern Hemisphere - Wind Speed (mph) vs. Latitude Linear Regression"
   ]
  },
  {
   "cell_type": "code",
   "execution_count": 64,
   "metadata": {},
   "outputs": [
    {
     "data": {
      "image/png": "[encoded data removed]",
      "text/plain": [
       "<Figure size 432x288 with 1 Axes>"
      ]
     },
     "metadata": {
      "needs_background": "light"
     },
     "output_type": "display_data"
    }
   ],
   "source": [
    "x = Northern_df['Latitude']\n",
    "y = Northern_df['Wind Speed (mph)']\n",
    "(slope, intercept, rvalue, pvalue, stderr) = linregress(x, y)\n",
    "regress_value = x*slope + intercept\n",
    "line_eq = \"y = \" + str(round(slope,2)) + \"x + \" + str(round(intercept,2))\n",
    "plt.scatter(x,y)\n",
    "plt.plot(x,regress_value,\"r-\")\n",
    "plt.annotate(line_eq,(68,30),fontsize=10,color=\"red\")\n",
    "plt.xlabel('Latitude')\n",
    "plt.ylabel('Wind Speed (mph)')\n",
    "plt.savefig('Pictures/NH_Linregress_Lat_Wind_Plot.png')\n",
    "plt.show()"
   ]
  },
  {
   "cell_type": "markdown",
   "metadata": {},
   "source": [
    "####  Southern Hemisphere - Wind Speed (mph) vs. Latitude Linear Regression"
   ]
  },
  {
   "cell_type": "code",
   "execution_count": 65,
   "metadata": {},
   "outputs": [
    {
     "data": {
      "image/png": "[encoded data removed]",
      "text/plain": [
       "<Figure size 432x288 with 1 Axes>"
      ]
     },
     "metadata": {
      "needs_background": "light"
     },
     "output_type": "display_data"
    }
   ],
   "source": [
    "x = Southern_df['Latitude']\n",
    "y = Southern_df['Wind Speed (mph)']\n",
    "(slope, intercept, rvalue, pvalue, stderr) = linregress(x, y)\n",
    "regress_value = x*slope + intercept\n",
    "line_eq = \"y = \" + str(round(slope,2)) + \"x + \" + str(round(intercept,2))\n",
    "plt.scatter(x,y)\n",
    "plt.plot(x,regress_value,\"r-\")\n",
    "plt.annotate(line_eq,(-85,15),fontsize=10,color=\"red\")\n",
    "plt.xlabel('Latitude')\n",
    "plt.ylabel('Wind Speed (mph)')\n",
    "plt.savefig('Pictures/SH_Linregress_Lat_Wind_Plot.png')\n",
    "plt.show()"
   ]
  }
 ],
 "metadata": {
  "anaconda-cloud": {},
  "kernel_info": {
   "name": "python3"
  },
  "kernelspec": {
   "display_name": "Python [conda env:root] *",
   "language": "python",
   "name": "conda-root-py"
  },
  "language_info": {
   "codemirror_mode": {
    "name": "ipython",
    "version": 3
   },
   "file_extension": ".py",
   "mimetype": "text/x-python",
   "name": "python",
   "nbconvert_exporter": "python",
   "pygments_lexer": "ipython3",
   "version": "3.8.5"
  },
  "latex_envs": {
   "LaTeX_envs_menu_present": true,
   "autoclose": false,
   "autocomplete": true,
   "bibliofile": "biblio.bib",
   "cite_by": "apalike",
   "current_citInitial": 1,
   "eqLabelWithNumbers": true,
   "eqNumInitial": 1,
   "hotkeys": {
    "equation": "Ctrl-E",
    "itemize": "Ctrl-I"
   },
   "labels_anchors": false,
   "latex_user_defs": false,
   "report_style_numbering": false,
   "user_envs_cfg": false
  },
  "nteract": {
   "version": "0.12.3"
  }
 },
 "nbformat": 4,
 "nbformat_minor": 4
}
