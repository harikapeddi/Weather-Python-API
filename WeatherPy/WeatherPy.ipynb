{
 "cells": [
  {
   "cell_type": "markdown",
   "metadata": {},
   "source": [
    "# WeatherPy\n",
    "----\n",
    "\n",
    "#### Note\n",
    "* Instructions have been included for each segment. You do not have to follow them exactly, but they are included to help you think through the steps."
   ]
  },
  {
   "cell_type": "code",
   "execution_count": 1,
   "metadata": {
    "scrolled": true
   },
   "outputs": [],
   "source": [
    "import pandas as pd\n",
    "import json\n",
    "import requests\n",
    "from api_keys import weather_api_key\n",
    "import numpy as np\n",
    "from citipy import citipy\n",
    "import random\n",
    "import matplotlib.pyplot as plt\n",
    "import scipy.stats as st\n",
    "from scipy.stats import linregress"
   ]
  },
  {
   "cell_type": "markdown",
   "metadata": {},
   "source": [
    "## Generate Cities List"
   ]
  },
  {
   "cell_type": "code",
   "execution_count": 2,
   "metadata": {},
   "outputs": [
    {
     "name": "stdout",
     "output_type": "stream",
     "text": [
      "587\n",
      "587\n",
      "587\n"
     ]
    }
   ],
   "source": [
    "city_list = []\n",
    "lat_list = []\n",
    "lng_list = []\n",
    "for i in range(0,1500):\n",
    "    lat = np.random.uniform(-90,90)\n",
    "    lng = np.random.uniform(-180,180)\n",
    "    city = citipy.nearest_city(lat,lng).city_name \n",
    "    if city not in city_list: \n",
    "        city_list.append(city)\n",
    "        lat_list.append(lat)\n",
    "        lng_list.append(lng)\n",
    "    \n",
    "print(len(city_list))\n",
    "print(len(lat_list))\n",
    "print(len(lng_list))"
   ]
  },
  {
   "cell_type": "code",
   "execution_count": 3,
   "metadata": {},
   "outputs": [
    {
     "data": {
      "text/html": [
       "<div>\n",
       "<style scoped>\n",
       "    .dataframe tbody tr th:only-of-type {\n",
       "        vertical-align: middle;\n",
       "    }\n",
       "\n",
       "    .dataframe tbody tr th {\n",
       "        vertical-align: top;\n",
       "    }\n",
       "\n",
       "    .dataframe thead th {\n",
       "        text-align: right;\n",
       "    }\n",
       "</style>\n",
       "<table border=\"1\" class=\"dataframe\">\n",
       "  <thead>\n",
       "    <tr style=\"text-align: right;\">\n",
       "      <th></th>\n",
       "      <th>Nearest City</th>\n",
       "      <th>Latitude</th>\n",
       "      <th>Longitude</th>\n",
       "    </tr>\n",
       "  </thead>\n",
       "  <tbody>\n",
       "    <tr>\n",
       "      <th>0</th>\n",
       "      <td>albany</td>\n",
       "      <td>-72.120226</td>\n",
       "      <td>98.087276</td>\n",
       "    </tr>\n",
       "    <tr>\n",
       "      <th>1</th>\n",
       "      <td>mataura</td>\n",
       "      <td>-34.555120</td>\n",
       "      <td>-155.334806</td>\n",
       "    </tr>\n",
       "    <tr>\n",
       "      <th>2</th>\n",
       "      <td>cherskiy</td>\n",
       "      <td>87.208151</td>\n",
       "      <td>161.178220</td>\n",
       "    </tr>\n",
       "    <tr>\n",
       "      <th>3</th>\n",
       "      <td>maragogi</td>\n",
       "      <td>-11.155066</td>\n",
       "      <td>-32.160852</td>\n",
       "    </tr>\n",
       "    <tr>\n",
       "      <th>4</th>\n",
       "      <td>ivankiv</td>\n",
       "      <td>50.893011</td>\n",
       "      <td>29.944007</td>\n",
       "    </tr>\n",
       "    <tr>\n",
       "      <th>...</th>\n",
       "      <td>...</td>\n",
       "      <td>...</td>\n",
       "      <td>...</td>\n",
       "    </tr>\n",
       "    <tr>\n",
       "      <th>582</th>\n",
       "      <td>ca mau</td>\n",
       "      <td>8.129915</td>\n",
       "      <td>105.054083</td>\n",
       "    </tr>\n",
       "    <tr>\n",
       "      <th>583</th>\n",
       "      <td>sistranda</td>\n",
       "      <td>67.919185</td>\n",
       "      <td>7.175898</td>\n",
       "    </tr>\n",
       "    <tr>\n",
       "      <th>584</th>\n",
       "      <td>talnakh</td>\n",
       "      <td>69.030575</td>\n",
       "      <td>95.050349</td>\n",
       "    </tr>\n",
       "    <tr>\n",
       "      <th>585</th>\n",
       "      <td>sidi ali</td>\n",
       "      <td>35.030005</td>\n",
       "      <td>0.723707</td>\n",
       "    </tr>\n",
       "    <tr>\n",
       "      <th>586</th>\n",
       "      <td>stokmarknes</td>\n",
       "      <td>69.334020</td>\n",
       "      <td>14.714322</td>\n",
       "    </tr>\n",
       "  </tbody>\n",
       "</table>\n",
       "<p>587 rows × 3 columns</p>\n",
       "</div>"
      ],
      "text/plain": [
       "    Nearest City   Latitude   Longitude\n",
       "0         albany -72.120226   98.087276\n",
       "1        mataura -34.555120 -155.334806\n",
       "2       cherskiy  87.208151  161.178220\n",
       "3       maragogi -11.155066  -32.160852\n",
       "4        ivankiv  50.893011   29.944007\n",
       "..           ...        ...         ...\n",
       "582       ca mau   8.129915  105.054083\n",
       "583    sistranda  67.919185    7.175898\n",
       "584      talnakh  69.030575   95.050349\n",
       "585     sidi ali  35.030005    0.723707\n",
       "586  stokmarknes  69.334020   14.714322\n",
       "\n",
       "[587 rows x 3 columns]"
      ]
     },
     "execution_count": 3,
     "metadata": {},
     "output_type": "execute_result"
    }
   ],
   "source": [
    "cities_df = pd.DataFrame({'Nearest City' : city_list, 'Latitude' : lat_list, 'Longitude': lng_list})\n",
    "cities_df = cities_df.rename(columns={0:'Nearest City'})\n",
    "cities_df"
   ]
  },
  {
   "cell_type": "code",
   "execution_count": 4,
   "metadata": {},
   "outputs": [
    {
     "data": {
      "text/html": [
       "<div>\n",
       "<style scoped>\n",
       "    .dataframe tbody tr th:only-of-type {\n",
       "        vertical-align: middle;\n",
       "    }\n",
       "\n",
       "    .dataframe tbody tr th {\n",
       "        vertical-align: top;\n",
       "    }\n",
       "\n",
       "    .dataframe thead th {\n",
       "        text-align: right;\n",
       "    }\n",
       "</style>\n",
       "<table border=\"1\" class=\"dataframe\">\n",
       "  <thead>\n",
       "    <tr style=\"text-align: right;\">\n",
       "      <th></th>\n",
       "      <th>Nearest City</th>\n",
       "      <th>Latitude</th>\n",
       "      <th>Longitude</th>\n",
       "    </tr>\n",
       "  </thead>\n",
       "  <tbody>\n",
       "    <tr>\n",
       "      <th>0</th>\n",
       "      <td>albany</td>\n",
       "      <td>-72.120226</td>\n",
       "      <td>98.087276</td>\n",
       "    </tr>\n",
       "    <tr>\n",
       "      <th>1</th>\n",
       "      <td>mataura</td>\n",
       "      <td>-34.555120</td>\n",
       "      <td>-155.334806</td>\n",
       "    </tr>\n",
       "    <tr>\n",
       "      <th>2</th>\n",
       "      <td>cherskiy</td>\n",
       "      <td>87.208151</td>\n",
       "      <td>161.178220</td>\n",
       "    </tr>\n",
       "    <tr>\n",
       "      <th>3</th>\n",
       "      <td>maragogi</td>\n",
       "      <td>-11.155066</td>\n",
       "      <td>-32.160852</td>\n",
       "    </tr>\n",
       "    <tr>\n",
       "      <th>4</th>\n",
       "      <td>ivankiv</td>\n",
       "      <td>50.893011</td>\n",
       "      <td>29.944007</td>\n",
       "    </tr>\n",
       "    <tr>\n",
       "      <th>...</th>\n",
       "      <td>...</td>\n",
       "      <td>...</td>\n",
       "      <td>...</td>\n",
       "    </tr>\n",
       "    <tr>\n",
       "      <th>582</th>\n",
       "      <td>ca mau</td>\n",
       "      <td>8.129915</td>\n",
       "      <td>105.054083</td>\n",
       "    </tr>\n",
       "    <tr>\n",
       "      <th>583</th>\n",
       "      <td>sistranda</td>\n",
       "      <td>67.919185</td>\n",
       "      <td>7.175898</td>\n",
       "    </tr>\n",
       "    <tr>\n",
       "      <th>584</th>\n",
       "      <td>talnakh</td>\n",
       "      <td>69.030575</td>\n",
       "      <td>95.050349</td>\n",
       "    </tr>\n",
       "    <tr>\n",
       "      <th>585</th>\n",
       "      <td>sidi ali</td>\n",
       "      <td>35.030005</td>\n",
       "      <td>0.723707</td>\n",
       "    </tr>\n",
       "    <tr>\n",
       "      <th>586</th>\n",
       "      <td>stokmarknes</td>\n",
       "      <td>69.334020</td>\n",
       "      <td>14.714322</td>\n",
       "    </tr>\n",
       "  </tbody>\n",
       "</table>\n",
       "<p>587 rows × 3 columns</p>\n",
       "</div>"
      ],
      "text/plain": [
       "    Nearest City   Latitude   Longitude\n",
       "0         albany -72.120226   98.087276\n",
       "1        mataura -34.555120 -155.334806\n",
       "2       cherskiy  87.208151  161.178220\n",
       "3       maragogi -11.155066  -32.160852\n",
       "4        ivankiv  50.893011   29.944007\n",
       "..           ...        ...         ...\n",
       "582       ca mau   8.129915  105.054083\n",
       "583    sistranda  67.919185    7.175898\n",
       "584      talnakh  69.030575   95.050349\n",
       "585     sidi ali  35.030005    0.723707\n",
       "586  stokmarknes  69.334020   14.714322\n",
       "\n",
       "[587 rows x 3 columns]"
      ]
     },
     "execution_count": 4,
     "metadata": {},
     "output_type": "execute_result"
    }
   ],
   "source": [
    "cities_df"
   ]
  },
  {
   "cell_type": "markdown",
   "metadata": {},
   "source": [
    "### Perform API Calls\n",
    "* Perform a weather check on each city using a series of successive API calls.\n",
    "* Include a print log of each city as it'sbeing processed (with the city number and city name).\n"
   ]
  },
  {
   "cell_type": "code",
   "execution_count": 5,
   "metadata": {
    "scrolled": true
   },
   "outputs": [
    {
     "name": "stdout",
     "output_type": "stream",
     "text": [
      "Missing City records for 15 : sentyabrskiy ... skipping.\n",
      "Missing City records for 17 : umzimvubu ... skipping.\n",
      "Missing City records for 36 : paradwip ... skipping.\n",
      "Missing City records for 85 : illoqqortoormiut ... skipping.\n",
      "Missing City records for 114 : karaul ... skipping.\n",
      "Missing City records for 121 : bengkalis ... skipping.\n",
      "Missing City records for 127 : taolanaro ... skipping.\n",
      "Missing City records for 129 : lolua ... skipping.\n",
      "Missing City records for 141 : nizhneyansk ... skipping.\n",
      "Missing City records for 143 : duz ... skipping.\n",
      "Missing City records for 147 : gurskoye ... skipping.\n",
      "Missing City records for 150 : burkhala ... skipping.\n",
      "Missing City records for 157 : mys shmidta ... skipping.\n",
      "Missing City records for 159 : attawapiskat ... skipping.\n",
      "Missing City records for 167 : vaitupu ... skipping.\n",
      "Missing City records for 173 : khonuu ... skipping.\n",
      "Missing City records for 177 : tsihombe ... skipping.\n",
      "Missing City records for 182 : marcona ... skipping.\n",
      "Missing City records for 190 : asayita ... skipping.\n",
      "Missing City records for 200 : belushya guba ... skipping.\n",
      "Missing City records for 205 : amderma ... skipping.\n",
      "Missing City records for 218 : sinkat ... skipping.\n",
      "Missing City records for 226 : ulies ... skipping.\n",
      "Missing City records for 228 : kpagouda ... skipping.\n",
      "Missing City records for 236 : doctor pedro p. pena ... skipping.\n",
      "Missing City records for 241 : barentsburg ... skipping.\n",
      "Missing City records for 243 : grand river south east ... skipping.\n",
      "Missing City records for 270 : jarjis ... skipping.\n",
      "Missing City records for 278 : kazalinsk ... skipping.\n",
      "Missing City records for 295 : gorno-chuyskiy ... skipping.\n",
      "Missing City records for 305 : saleaula ... skipping.\n",
      "Missing City records for 306 : rungata ... skipping.\n",
      "Missing City records for 311 : altonia ... skipping.\n",
      "Missing City records for 313 : bargal ... skipping.\n",
      "Missing City records for 325 : maghama ... skipping.\n",
      "Missing City records for 362 : louisbourg ... skipping.\n",
      "Missing City records for 378 : mendahara ... skipping.\n",
      "Missing City records for 379 : meyungs ... skipping.\n",
      "Missing City records for 391 : saryshagan ... skipping.\n",
      "Missing City records for 418 : kamenskoye ... skipping.\n",
      "Missing City records for 427 : yirol ... skipping.\n",
      "Missing City records for 442 : tokzar ... skipping.\n",
      "Missing City records for 448 : solovetskiy ... skipping.\n",
      "Missing City records for 464 : wulanhaote ... skipping.\n",
      "Missing City records for 480 : shcholkine ... skipping.\n",
      "Missing City records for 491 : sataua ... skipping.\n",
      "Missing City records for 506 : samalaeulu ... skipping.\n",
      "Missing City records for 520 : beruni ... skipping.\n",
      "Missing City records for 530 : safwah ... skipping.\n",
      "Missing City records for 555 : zamhlay ... skipping.\n",
      "Missing City records for 557 : utiroa ... skipping.\n",
      "Missing City records for 560 : tumannyy ... skipping.\n"
     ]
    }
   ],
   "source": [
    "url = \"http://api.openweathermap.org/data/2.5/weather?q=\"\n",
    "\n",
    "units = 'imperial'\n",
    "\n",
    "cities_df['Temperature (F)'] = \"\"\n",
    "cities_df['Humidity (%)'] = \"\"\n",
    "cities_df['Cloudiness (%)'] = \"\"\n",
    "cities_df['Wind Speed (mph)'] = \"\"\n",
    "\n",
    "for index, row in cities_df.iterrows():\n",
    "    query_url = f\"{url}{row['Nearest City']}&appid={weather_api_key}&units={units}\"\n",
    "    response = requests.get(query_url).json()\n",
    "    \n",
    "    try:\n",
    "        cities_df.loc[index, 'Temperature (F)'] = response['main']['temp']\n",
    "        cities_df.loc[index, 'Humidity (%)'] = response['main']['humidity']\n",
    "        cities_df.loc[index, 'Cloudiness (%)'] = response['clouds']['all']\n",
    "        cities_df.loc[index, 'Wind Speed (mph)'] = response['wind']['speed']\n",
    "    except (KeyError, IndexError):\n",
    "        print(f\"Missing City records for {index} : {row['Nearest City']} ... skipping.\")\n",
    "  "
   ]
  },
  {
   "cell_type": "code",
   "execution_count": 6,
   "metadata": {},
   "outputs": [
    {
     "data": {
      "text/html": [
       "<div>\n",
       "<style scoped>\n",
       "    .dataframe tbody tr th:only-of-type {\n",
       "        vertical-align: middle;\n",
       "    }\n",
       "\n",
       "    .dataframe tbody tr th {\n",
       "        vertical-align: top;\n",
       "    }\n",
       "\n",
       "    .dataframe thead th {\n",
       "        text-align: right;\n",
       "    }\n",
       "</style>\n",
       "<table border=\"1\" class=\"dataframe\">\n",
       "  <thead>\n",
       "    <tr style=\"text-align: right;\">\n",
       "      <th></th>\n",
       "      <th>Nearest City</th>\n",
       "      <th>Latitude</th>\n",
       "      <th>Longitude</th>\n",
       "      <th>Temperature (F)</th>\n",
       "      <th>Humidity (%)</th>\n",
       "      <th>Cloudiness (%)</th>\n",
       "      <th>Wind Speed (mph)</th>\n",
       "    </tr>\n",
       "  </thead>\n",
       "  <tbody>\n",
       "    <tr>\n",
       "      <th>0</th>\n",
       "      <td>albany</td>\n",
       "      <td>-72.120226</td>\n",
       "      <td>98.087276</td>\n",
       "      <td>67.44</td>\n",
       "      <td>86</td>\n",
       "      <td>64</td>\n",
       "      <td>3</td>\n",
       "    </tr>\n",
       "    <tr>\n",
       "      <th>1</th>\n",
       "      <td>mataura</td>\n",
       "      <td>-34.555120</td>\n",
       "      <td>-155.334806</td>\n",
       "      <td>39.54</td>\n",
       "      <td>73</td>\n",
       "      <td>90</td>\n",
       "      <td>3.91</td>\n",
       "    </tr>\n",
       "    <tr>\n",
       "      <th>2</th>\n",
       "      <td>cherskiy</td>\n",
       "      <td>87.208151</td>\n",
       "      <td>161.178220</td>\n",
       "      <td>56.73</td>\n",
       "      <td>36</td>\n",
       "      <td>53</td>\n",
       "      <td>6.51</td>\n",
       "    </tr>\n",
       "    <tr>\n",
       "      <th>3</th>\n",
       "      <td>maragogi</td>\n",
       "      <td>-11.155066</td>\n",
       "      <td>-32.160852</td>\n",
       "      <td>77.4</td>\n",
       "      <td>78</td>\n",
       "      <td>20</td>\n",
       "      <td>10.33</td>\n",
       "    </tr>\n",
       "    <tr>\n",
       "      <th>4</th>\n",
       "      <td>ivankiv</td>\n",
       "      <td>50.893011</td>\n",
       "      <td>29.944007</td>\n",
       "      <td>57.36</td>\n",
       "      <td>92</td>\n",
       "      <td>0</td>\n",
       "      <td>1.99</td>\n",
       "    </tr>\n",
       "    <tr>\n",
       "      <th>...</th>\n",
       "      <td>...</td>\n",
       "      <td>...</td>\n",
       "      <td>...</td>\n",
       "      <td>...</td>\n",
       "      <td>...</td>\n",
       "      <td>...</td>\n",
       "      <td>...</td>\n",
       "    </tr>\n",
       "    <tr>\n",
       "      <th>582</th>\n",
       "      <td>ca mau</td>\n",
       "      <td>8.129915</td>\n",
       "      <td>105.054083</td>\n",
       "      <td>76.33</td>\n",
       "      <td>95</td>\n",
       "      <td>100</td>\n",
       "      <td>7.14</td>\n",
       "    </tr>\n",
       "    <tr>\n",
       "      <th>583</th>\n",
       "      <td>sistranda</td>\n",
       "      <td>67.919185</td>\n",
       "      <td>7.175898</td>\n",
       "      <td>51.76</td>\n",
       "      <td>89</td>\n",
       "      <td>5</td>\n",
       "      <td>23.67</td>\n",
       "    </tr>\n",
       "    <tr>\n",
       "      <th>584</th>\n",
       "      <td>talnakh</td>\n",
       "      <td>69.030575</td>\n",
       "      <td>95.050349</td>\n",
       "      <td>17.04</td>\n",
       "      <td>97</td>\n",
       "      <td>50</td>\n",
       "      <td>2.35</td>\n",
       "    </tr>\n",
       "    <tr>\n",
       "      <th>585</th>\n",
       "      <td>sidi ali</td>\n",
       "      <td>35.030005</td>\n",
       "      <td>0.723707</td>\n",
       "      <td>63.18</td>\n",
       "      <td>82</td>\n",
       "      <td>36</td>\n",
       "      <td>4.99</td>\n",
       "    </tr>\n",
       "    <tr>\n",
       "      <th>586</th>\n",
       "      <td>stokmarknes</td>\n",
       "      <td>69.334020</td>\n",
       "      <td>14.714322</td>\n",
       "      <td>46.54</td>\n",
       "      <td>83</td>\n",
       "      <td>16</td>\n",
       "      <td>7.49</td>\n",
       "    </tr>\n",
       "  </tbody>\n",
       "</table>\n",
       "<p>587 rows × 7 columns</p>\n",
       "</div>"
      ],
      "text/plain": [
       "    Nearest City   Latitude   Longitude Temperature (F) Humidity (%)  \\\n",
       "0         albany -72.120226   98.087276           67.44           86   \n",
       "1        mataura -34.555120 -155.334806           39.54           73   \n",
       "2       cherskiy  87.208151  161.178220           56.73           36   \n",
       "3       maragogi -11.155066  -32.160852            77.4           78   \n",
       "4        ivankiv  50.893011   29.944007           57.36           92   \n",
       "..           ...        ...         ...             ...          ...   \n",
       "582       ca mau   8.129915  105.054083           76.33           95   \n",
       "583    sistranda  67.919185    7.175898           51.76           89   \n",
       "584      talnakh  69.030575   95.050349           17.04           97   \n",
       "585     sidi ali  35.030005    0.723707           63.18           82   \n",
       "586  stokmarknes  69.334020   14.714322           46.54           83   \n",
       "\n",
       "    Cloudiness (%) Wind Speed (mph)  \n",
       "0               64                3  \n",
       "1               90             3.91  \n",
       "2               53             6.51  \n",
       "3               20            10.33  \n",
       "4                0             1.99  \n",
       "..             ...              ...  \n",
       "582            100             7.14  \n",
       "583              5            23.67  \n",
       "584             50             2.35  \n",
       "585             36             4.99  \n",
       "586             16             7.49  \n",
       "\n",
       "[587 rows x 7 columns]"
      ]
     },
     "execution_count": 6,
     "metadata": {},
     "output_type": "execute_result"
    }
   ],
   "source": [
    "cities_df"
   ]
  },
  {
   "cell_type": "code",
   "execution_count": 7,
   "metadata": {},
   "outputs": [
    {
     "data": {
      "text/html": [
       "<div>\n",
       "<style scoped>\n",
       "    .dataframe tbody tr th:only-of-type {\n",
       "        vertical-align: middle;\n",
       "    }\n",
       "\n",
       "    .dataframe tbody tr th {\n",
       "        vertical-align: top;\n",
       "    }\n",
       "\n",
       "    .dataframe thead th {\n",
       "        text-align: right;\n",
       "    }\n",
       "</style>\n",
       "<table border=\"1\" class=\"dataframe\">\n",
       "  <thead>\n",
       "    <tr style=\"text-align: right;\">\n",
       "      <th></th>\n",
       "      <th>Nearest City</th>\n",
       "      <th>Latitude</th>\n",
       "      <th>Longitude</th>\n",
       "      <th>Temperature (F)</th>\n",
       "      <th>Humidity (%)</th>\n",
       "      <th>Cloudiness (%)</th>\n",
       "      <th>Wind Speed (mph)</th>\n",
       "    </tr>\n",
       "  </thead>\n",
       "  <tbody>\n",
       "    <tr>\n",
       "      <th>0</th>\n",
       "      <td>albany</td>\n",
       "      <td>-72.120226</td>\n",
       "      <td>98.087276</td>\n",
       "      <td>67.44</td>\n",
       "      <td>86</td>\n",
       "      <td>64</td>\n",
       "      <td>3</td>\n",
       "    </tr>\n",
       "    <tr>\n",
       "      <th>1</th>\n",
       "      <td>mataura</td>\n",
       "      <td>-34.555120</td>\n",
       "      <td>-155.334806</td>\n",
       "      <td>39.54</td>\n",
       "      <td>73</td>\n",
       "      <td>90</td>\n",
       "      <td>3.91</td>\n",
       "    </tr>\n",
       "    <tr>\n",
       "      <th>2</th>\n",
       "      <td>cherskiy</td>\n",
       "      <td>87.208151</td>\n",
       "      <td>161.178220</td>\n",
       "      <td>56.73</td>\n",
       "      <td>36</td>\n",
       "      <td>53</td>\n",
       "      <td>6.51</td>\n",
       "    </tr>\n",
       "    <tr>\n",
       "      <th>3</th>\n",
       "      <td>maragogi</td>\n",
       "      <td>-11.155066</td>\n",
       "      <td>-32.160852</td>\n",
       "      <td>77.40</td>\n",
       "      <td>78</td>\n",
       "      <td>20</td>\n",
       "      <td>10.33</td>\n",
       "    </tr>\n",
       "    <tr>\n",
       "      <th>4</th>\n",
       "      <td>ivankiv</td>\n",
       "      <td>50.893011</td>\n",
       "      <td>29.944007</td>\n",
       "      <td>57.36</td>\n",
       "      <td>92</td>\n",
       "      <td>0</td>\n",
       "      <td>1.99</td>\n",
       "    </tr>\n",
       "    <tr>\n",
       "      <th>...</th>\n",
       "      <td>...</td>\n",
       "      <td>...</td>\n",
       "      <td>...</td>\n",
       "      <td>...</td>\n",
       "      <td>...</td>\n",
       "      <td>...</td>\n",
       "      <td>...</td>\n",
       "    </tr>\n",
       "    <tr>\n",
       "      <th>582</th>\n",
       "      <td>ca mau</td>\n",
       "      <td>8.129915</td>\n",
       "      <td>105.054083</td>\n",
       "      <td>76.33</td>\n",
       "      <td>95</td>\n",
       "      <td>100</td>\n",
       "      <td>7.14</td>\n",
       "    </tr>\n",
       "    <tr>\n",
       "      <th>583</th>\n",
       "      <td>sistranda</td>\n",
       "      <td>67.919185</td>\n",
       "      <td>7.175898</td>\n",
       "      <td>51.76</td>\n",
       "      <td>89</td>\n",
       "      <td>5</td>\n",
       "      <td>23.67</td>\n",
       "    </tr>\n",
       "    <tr>\n",
       "      <th>584</th>\n",
       "      <td>talnakh</td>\n",
       "      <td>69.030575</td>\n",
       "      <td>95.050349</td>\n",
       "      <td>17.04</td>\n",
       "      <td>97</td>\n",
       "      <td>50</td>\n",
       "      <td>2.35</td>\n",
       "    </tr>\n",
       "    <tr>\n",
       "      <th>585</th>\n",
       "      <td>sidi ali</td>\n",
       "      <td>35.030005</td>\n",
       "      <td>0.723707</td>\n",
       "      <td>63.18</td>\n",
       "      <td>82</td>\n",
       "      <td>36</td>\n",
       "      <td>4.99</td>\n",
       "    </tr>\n",
       "    <tr>\n",
       "      <th>586</th>\n",
       "      <td>stokmarknes</td>\n",
       "      <td>69.334020</td>\n",
       "      <td>14.714322</td>\n",
       "      <td>46.54</td>\n",
       "      <td>83</td>\n",
       "      <td>16</td>\n",
       "      <td>7.49</td>\n",
       "    </tr>\n",
       "  </tbody>\n",
       "</table>\n",
       "<p>535 rows × 7 columns</p>\n",
       "</div>"
      ],
      "text/plain": [
       "    Nearest City   Latitude   Longitude  Temperature (F) Humidity (%)  \\\n",
       "0         albany -72.120226   98.087276            67.44           86   \n",
       "1        mataura -34.555120 -155.334806            39.54           73   \n",
       "2       cherskiy  87.208151  161.178220            56.73           36   \n",
       "3       maragogi -11.155066  -32.160852            77.40           78   \n",
       "4        ivankiv  50.893011   29.944007            57.36           92   \n",
       "..           ...        ...         ...              ...          ...   \n",
       "582       ca mau   8.129915  105.054083            76.33           95   \n",
       "583    sistranda  67.919185    7.175898            51.76           89   \n",
       "584      talnakh  69.030575   95.050349            17.04           97   \n",
       "585     sidi ali  35.030005    0.723707            63.18           82   \n",
       "586  stokmarknes  69.334020   14.714322            46.54           83   \n",
       "\n",
       "    Cloudiness (%) Wind Speed (mph)  \n",
       "0               64                3  \n",
       "1               90             3.91  \n",
       "2               53             6.51  \n",
       "3               20            10.33  \n",
       "4                0             1.99  \n",
       "..             ...              ...  \n",
       "582            100             7.14  \n",
       "583              5            23.67  \n",
       "584             50             2.35  \n",
       "585             36             4.99  \n",
       "586             16             7.49  \n",
       "\n",
       "[535 rows x 7 columns]"
      ]
     },
     "execution_count": 7,
     "metadata": {},
     "output_type": "execute_result"
    }
   ],
   "source": [
    "cities_df['Temperature (F)'] = cities_df['Temperature (F)'].replace(\"\", np.nan)\n",
    "cities_df = cities_df.dropna(axis=0, subset=['Temperature (F)'])\n",
    "cities_df"
   ]
  },
  {
   "cell_type": "code",
   "execution_count": 8,
   "metadata": {},
   "outputs": [
    {
     "data": {
      "text/html": [
       "<div>\n",
       "<style scoped>\n",
       "    .dataframe tbody tr th:only-of-type {\n",
       "        vertical-align: middle;\n",
       "    }\n",
       "\n",
       "    .dataframe tbody tr th {\n",
       "        vertical-align: top;\n",
       "    }\n",
       "\n",
       "    .dataframe thead th {\n",
       "        text-align: right;\n",
       "    }\n",
       "</style>\n",
       "<table border=\"1\" class=\"dataframe\">\n",
       "  <thead>\n",
       "    <tr style=\"text-align: right;\">\n",
       "      <th></th>\n",
       "      <th>Nearest City</th>\n",
       "      <th>Latitude</th>\n",
       "      <th>Longitude</th>\n",
       "      <th>Temperature (F)</th>\n",
       "      <th>Humidity (%)</th>\n",
       "      <th>Cloudiness (%)</th>\n",
       "      <th>Wind Speed (mph)</th>\n",
       "    </tr>\n",
       "  </thead>\n",
       "  <tbody>\n",
       "    <tr>\n",
       "      <th>0</th>\n",
       "      <td>albany</td>\n",
       "      <td>-72.120226</td>\n",
       "      <td>98.087276</td>\n",
       "      <td>67.44</td>\n",
       "      <td>86</td>\n",
       "      <td>64</td>\n",
       "      <td>3</td>\n",
       "    </tr>\n",
       "    <tr>\n",
       "      <th>1</th>\n",
       "      <td>mataura</td>\n",
       "      <td>-34.555120</td>\n",
       "      <td>-155.334806</td>\n",
       "      <td>39.54</td>\n",
       "      <td>73</td>\n",
       "      <td>90</td>\n",
       "      <td>3.91</td>\n",
       "    </tr>\n",
       "    <tr>\n",
       "      <th>2</th>\n",
       "      <td>cherskiy</td>\n",
       "      <td>87.208151</td>\n",
       "      <td>161.178220</td>\n",
       "      <td>56.73</td>\n",
       "      <td>36</td>\n",
       "      <td>53</td>\n",
       "      <td>6.51</td>\n",
       "    </tr>\n",
       "    <tr>\n",
       "      <th>3</th>\n",
       "      <td>maragogi</td>\n",
       "      <td>-11.155066</td>\n",
       "      <td>-32.160852</td>\n",
       "      <td>77.40</td>\n",
       "      <td>78</td>\n",
       "      <td>20</td>\n",
       "      <td>10.33</td>\n",
       "    </tr>\n",
       "    <tr>\n",
       "      <th>4</th>\n",
       "      <td>ivankiv</td>\n",
       "      <td>50.893011</td>\n",
       "      <td>29.944007</td>\n",
       "      <td>57.36</td>\n",
       "      <td>92</td>\n",
       "      <td>0</td>\n",
       "      <td>1.99</td>\n",
       "    </tr>\n",
       "    <tr>\n",
       "      <th>...</th>\n",
       "      <td>...</td>\n",
       "      <td>...</td>\n",
       "      <td>...</td>\n",
       "      <td>...</td>\n",
       "      <td>...</td>\n",
       "      <td>...</td>\n",
       "      <td>...</td>\n",
       "    </tr>\n",
       "    <tr>\n",
       "      <th>530</th>\n",
       "      <td>ca mau</td>\n",
       "      <td>8.129915</td>\n",
       "      <td>105.054083</td>\n",
       "      <td>76.33</td>\n",
       "      <td>95</td>\n",
       "      <td>100</td>\n",
       "      <td>7.14</td>\n",
       "    </tr>\n",
       "    <tr>\n",
       "      <th>531</th>\n",
       "      <td>sistranda</td>\n",
       "      <td>67.919185</td>\n",
       "      <td>7.175898</td>\n",
       "      <td>51.76</td>\n",
       "      <td>89</td>\n",
       "      <td>5</td>\n",
       "      <td>23.67</td>\n",
       "    </tr>\n",
       "    <tr>\n",
       "      <th>532</th>\n",
       "      <td>talnakh</td>\n",
       "      <td>69.030575</td>\n",
       "      <td>95.050349</td>\n",
       "      <td>17.04</td>\n",
       "      <td>97</td>\n",
       "      <td>50</td>\n",
       "      <td>2.35</td>\n",
       "    </tr>\n",
       "    <tr>\n",
       "      <th>533</th>\n",
       "      <td>sidi ali</td>\n",
       "      <td>35.030005</td>\n",
       "      <td>0.723707</td>\n",
       "      <td>63.18</td>\n",
       "      <td>82</td>\n",
       "      <td>36</td>\n",
       "      <td>4.99</td>\n",
       "    </tr>\n",
       "    <tr>\n",
       "      <th>534</th>\n",
       "      <td>stokmarknes</td>\n",
       "      <td>69.334020</td>\n",
       "      <td>14.714322</td>\n",
       "      <td>46.54</td>\n",
       "      <td>83</td>\n",
       "      <td>16</td>\n",
       "      <td>7.49</td>\n",
       "    </tr>\n",
       "  </tbody>\n",
       "</table>\n",
       "<p>535 rows × 7 columns</p>\n",
       "</div>"
      ],
      "text/plain": [
       "    Nearest City   Latitude   Longitude  Temperature (F) Humidity (%)  \\\n",
       "0         albany -72.120226   98.087276            67.44           86   \n",
       "1        mataura -34.555120 -155.334806            39.54           73   \n",
       "2       cherskiy  87.208151  161.178220            56.73           36   \n",
       "3       maragogi -11.155066  -32.160852            77.40           78   \n",
       "4        ivankiv  50.893011   29.944007            57.36           92   \n",
       "..           ...        ...         ...              ...          ...   \n",
       "530       ca mau   8.129915  105.054083            76.33           95   \n",
       "531    sistranda  67.919185    7.175898            51.76           89   \n",
       "532      talnakh  69.030575   95.050349            17.04           97   \n",
       "533     sidi ali  35.030005    0.723707            63.18           82   \n",
       "534  stokmarknes  69.334020   14.714322            46.54           83   \n",
       "\n",
       "    Cloudiness (%) Wind Speed (mph)  \n",
       "0               64                3  \n",
       "1               90             3.91  \n",
       "2               53             6.51  \n",
       "3               20            10.33  \n",
       "4                0             1.99  \n",
       "..             ...              ...  \n",
       "530            100             7.14  \n",
       "531              5            23.67  \n",
       "532             50             2.35  \n",
       "533             36             4.99  \n",
       "534             16             7.49  \n",
       "\n",
       "[535 rows x 7 columns]"
      ]
     },
     "execution_count": 8,
     "metadata": {},
     "output_type": "execute_result"
    }
   ],
   "source": [
    "cities_df = cities_df.reset_index(drop=True)\n",
    "cities_df"
   ]
  },
  {
   "cell_type": "markdown",
   "metadata": {},
   "source": [
    "### Convert Raw Data to DataFrame\n",
    "* Export the city data into a .csv.\n",
    "* Display the DataFrame"
   ]
  },
  {
   "cell_type": "code",
   "execution_count": 9,
   "metadata": {},
   "outputs": [],
   "source": [
    "cities_df.to_csv('Cities_Weather_Data.csv', index=False)"
   ]
  },
  {
   "cell_type": "code",
   "execution_count": 10,
   "metadata": {},
   "outputs": [
    {
     "data": {
      "text/plain": [
       "Nearest City         object\n",
       "Latitude            float64\n",
       "Longitude           float64\n",
       "Temperature (F)     float64\n",
       "Humidity (%)         object\n",
       "Cloudiness (%)       object\n",
       "Wind Speed (mph)     object\n",
       "dtype: object"
      ]
     },
     "execution_count": 10,
     "metadata": {},
     "output_type": "execute_result"
    }
   ],
   "source": [
    "cities_df.dtypes"
   ]
  },
  {
   "cell_type": "code",
   "execution_count": 11,
   "metadata": {},
   "outputs": [
    {
     "data": {
      "text/html": [
       "<div>\n",
       "<style scoped>\n",
       "    .dataframe tbody tr th:only-of-type {\n",
       "        vertical-align: middle;\n",
       "    }\n",
       "\n",
       "    .dataframe tbody tr th {\n",
       "        vertical-align: top;\n",
       "    }\n",
       "\n",
       "    .dataframe thead th {\n",
       "        text-align: right;\n",
       "    }\n",
       "</style>\n",
       "<table border=\"1\" class=\"dataframe\">\n",
       "  <thead>\n",
       "    <tr style=\"text-align: right;\">\n",
       "      <th></th>\n",
       "      <th>Nearest City</th>\n",
       "      <th>Latitude</th>\n",
       "      <th>Longitude</th>\n",
       "      <th>Temperature (F)</th>\n",
       "      <th>Humidity (%)</th>\n",
       "      <th>Cloudiness (%)</th>\n",
       "      <th>Wind Speed (mph)</th>\n",
       "    </tr>\n",
       "  </thead>\n",
       "  <tbody>\n",
       "    <tr>\n",
       "      <th>0</th>\n",
       "      <td>albany</td>\n",
       "      <td>-72.120226</td>\n",
       "      <td>98.087276</td>\n",
       "      <td>67.44</td>\n",
       "      <td>86.0</td>\n",
       "      <td>64.0</td>\n",
       "      <td>3.00</td>\n",
       "    </tr>\n",
       "    <tr>\n",
       "      <th>1</th>\n",
       "      <td>mataura</td>\n",
       "      <td>-34.555120</td>\n",
       "      <td>-155.334806</td>\n",
       "      <td>39.54</td>\n",
       "      <td>73.0</td>\n",
       "      <td>90.0</td>\n",
       "      <td>3.91</td>\n",
       "    </tr>\n",
       "    <tr>\n",
       "      <th>2</th>\n",
       "      <td>cherskiy</td>\n",
       "      <td>87.208151</td>\n",
       "      <td>161.178220</td>\n",
       "      <td>56.73</td>\n",
       "      <td>36.0</td>\n",
       "      <td>53.0</td>\n",
       "      <td>6.51</td>\n",
       "    </tr>\n",
       "    <tr>\n",
       "      <th>3</th>\n",
       "      <td>maragogi</td>\n",
       "      <td>-11.155066</td>\n",
       "      <td>-32.160852</td>\n",
       "      <td>77.40</td>\n",
       "      <td>78.0</td>\n",
       "      <td>20.0</td>\n",
       "      <td>10.33</td>\n",
       "    </tr>\n",
       "    <tr>\n",
       "      <th>4</th>\n",
       "      <td>ivankiv</td>\n",
       "      <td>50.893011</td>\n",
       "      <td>29.944007</td>\n",
       "      <td>57.36</td>\n",
       "      <td>92.0</td>\n",
       "      <td>0.0</td>\n",
       "      <td>1.99</td>\n",
       "    </tr>\n",
       "    <tr>\n",
       "      <th>...</th>\n",
       "      <td>...</td>\n",
       "      <td>...</td>\n",
       "      <td>...</td>\n",
       "      <td>...</td>\n",
       "      <td>...</td>\n",
       "      <td>...</td>\n",
       "      <td>...</td>\n",
       "    </tr>\n",
       "    <tr>\n",
       "      <th>530</th>\n",
       "      <td>ca mau</td>\n",
       "      <td>8.129915</td>\n",
       "      <td>105.054083</td>\n",
       "      <td>76.33</td>\n",
       "      <td>95.0</td>\n",
       "      <td>100.0</td>\n",
       "      <td>7.14</td>\n",
       "    </tr>\n",
       "    <tr>\n",
       "      <th>531</th>\n",
       "      <td>sistranda</td>\n",
       "      <td>67.919185</td>\n",
       "      <td>7.175898</td>\n",
       "      <td>51.76</td>\n",
       "      <td>89.0</td>\n",
       "      <td>5.0</td>\n",
       "      <td>23.67</td>\n",
       "    </tr>\n",
       "    <tr>\n",
       "      <th>532</th>\n",
       "      <td>talnakh</td>\n",
       "      <td>69.030575</td>\n",
       "      <td>95.050349</td>\n",
       "      <td>17.04</td>\n",
       "      <td>97.0</td>\n",
       "      <td>50.0</td>\n",
       "      <td>2.35</td>\n",
       "    </tr>\n",
       "    <tr>\n",
       "      <th>533</th>\n",
       "      <td>sidi ali</td>\n",
       "      <td>35.030005</td>\n",
       "      <td>0.723707</td>\n",
       "      <td>63.18</td>\n",
       "      <td>82.0</td>\n",
       "      <td>36.0</td>\n",
       "      <td>4.99</td>\n",
       "    </tr>\n",
       "    <tr>\n",
       "      <th>534</th>\n",
       "      <td>stokmarknes</td>\n",
       "      <td>69.334020</td>\n",
       "      <td>14.714322</td>\n",
       "      <td>46.54</td>\n",
       "      <td>83.0</td>\n",
       "      <td>16.0</td>\n",
       "      <td>7.49</td>\n",
       "    </tr>\n",
       "  </tbody>\n",
       "</table>\n",
       "<p>535 rows × 7 columns</p>\n",
       "</div>"
      ],
      "text/plain": [
       "    Nearest City   Latitude   Longitude  Temperature (F)  Humidity (%)  \\\n",
       "0         albany -72.120226   98.087276            67.44          86.0   \n",
       "1        mataura -34.555120 -155.334806            39.54          73.0   \n",
       "2       cherskiy  87.208151  161.178220            56.73          36.0   \n",
       "3       maragogi -11.155066  -32.160852            77.40          78.0   \n",
       "4        ivankiv  50.893011   29.944007            57.36          92.0   \n",
       "..           ...        ...         ...              ...           ...   \n",
       "530       ca mau   8.129915  105.054083            76.33          95.0   \n",
       "531    sistranda  67.919185    7.175898            51.76          89.0   \n",
       "532      talnakh  69.030575   95.050349            17.04          97.0   \n",
       "533     sidi ali  35.030005    0.723707            63.18          82.0   \n",
       "534  stokmarknes  69.334020   14.714322            46.54          83.0   \n",
       "\n",
       "     Cloudiness (%)  Wind Speed (mph)  \n",
       "0              64.0              3.00  \n",
       "1              90.0              3.91  \n",
       "2              53.0              6.51  \n",
       "3              20.0             10.33  \n",
       "4               0.0              1.99  \n",
       "..              ...               ...  \n",
       "530           100.0              7.14  \n",
       "531             5.0             23.67  \n",
       "532            50.0              2.35  \n",
       "533            36.0              4.99  \n",
       "534            16.0              7.49  \n",
       "\n",
       "[535 rows x 7 columns]"
      ]
     },
     "execution_count": 11,
     "metadata": {},
     "output_type": "execute_result"
    }
   ],
   "source": [
    "cities_df['Humidity (%)'] = cities_df['Humidity (%)'].astype(float)\n",
    "cities_df['Cloudiness (%)'] = cities_df['Cloudiness (%)'].astype(float)\n",
    "cities_df['Wind Speed (mph)'] = cities_df['Wind Speed (mph)'].astype(float)\n",
    "cities_df"
   ]
  },
  {
   "cell_type": "code",
   "execution_count": 12,
   "metadata": {},
   "outputs": [
    {
     "data": {
      "text/plain": [
       "Nearest City         object\n",
       "Latitude            float64\n",
       "Longitude           float64\n",
       "Temperature (F)     float64\n",
       "Humidity (%)        float64\n",
       "Cloudiness (%)      float64\n",
       "Wind Speed (mph)    float64\n",
       "dtype: object"
      ]
     },
     "execution_count": 12,
     "metadata": {},
     "output_type": "execute_result"
    }
   ],
   "source": [
    "cities_df.dtypes"
   ]
  },
  {
   "cell_type": "markdown",
   "metadata": {},
   "source": [
    "## Inspect the data and remove the cities where the humidity > 100%.\n",
    "----\n",
    "Skip this step if there are no cities that have humidity > 100%. "
   ]
  },
  {
   "cell_type": "code",
   "execution_count": 13,
   "metadata": {},
   "outputs": [
    {
     "data": {
      "text/html": [
       "<div>\n",
       "<style scoped>\n",
       "    .dataframe tbody tr th:only-of-type {\n",
       "        vertical-align: middle;\n",
       "    }\n",
       "\n",
       "    .dataframe tbody tr th {\n",
       "        vertical-align: top;\n",
       "    }\n",
       "\n",
       "    .dataframe thead th {\n",
       "        text-align: right;\n",
       "    }\n",
       "</style>\n",
       "<table border=\"1\" class=\"dataframe\">\n",
       "  <thead>\n",
       "    <tr style=\"text-align: right;\">\n",
       "      <th></th>\n",
       "      <th>Nearest City</th>\n",
       "      <th>Latitude</th>\n",
       "      <th>Longitude</th>\n",
       "      <th>Temperature (F)</th>\n",
       "      <th>Humidity (%)</th>\n",
       "      <th>Cloudiness (%)</th>\n",
       "      <th>Wind Speed (mph)</th>\n",
       "    </tr>\n",
       "  </thead>\n",
       "  <tbody>\n",
       "  </tbody>\n",
       "</table>\n",
       "</div>"
      ],
      "text/plain": [
       "Empty DataFrame\n",
       "Columns: [Nearest City, Latitude, Longitude, Temperature (F), Humidity (%), Cloudiness (%), Wind Speed (mph)]\n",
       "Index: []"
      ]
     },
     "execution_count": 13,
     "metadata": {},
     "output_type": "execute_result"
    }
   ],
   "source": [
    "cities_df[cities_df['Humidity (%)']>100]"
   ]
  },
  {
   "cell_type": "code",
   "execution_count": 14,
   "metadata": {},
   "outputs": [],
   "source": [
    "#  Get the indices of cities that have humidity over 100%.\n"
   ]
  },
  {
   "cell_type": "code",
   "execution_count": 15,
   "metadata": {},
   "outputs": [],
   "source": [
    "# Make a new DataFrame equal to the city data to drop all humidity outliers by index.\n",
    "# Passing \"inplace=False\" will make a copy of the city_data DataFrame, which we call \"clean_city_data\".\n"
   ]
  },
  {
   "cell_type": "code",
   "execution_count": null,
   "metadata": {},
   "outputs": [],
   "source": [
    "\n"
   ]
  },
  {
   "cell_type": "markdown",
   "metadata": {},
   "source": [
    "## Plotting the Data\n",
    "* Use proper labeling of the plots using plot titles (including date of analysis) and axes labels.\n",
    "* Save the plotted figures as .pngs."
   ]
  },
  {
   "cell_type": "markdown",
   "metadata": {},
   "source": [
    "## Latitude vs. Temperature Plot"
   ]
  },
  {
   "cell_type": "code",
   "execution_count": 16,
   "metadata": {
    "scrolled": true
   },
   "outputs": [
    {
     "data": {
      "image/png": "[encoded data removed]",
      "text/plain": [
       "<Figure size 432x288 with 1 Axes>"
      ]
     },
     "metadata": {
      "needs_background": "light"
     },
     "output_type": "display_data"
    }
   ],
   "source": [
    "plt.scatter(cities_df['Latitude'], cities_df['Temperature (F)'])\n",
    "plt.show()"
   ]
  },
  {
   "cell_type": "markdown",
   "metadata": {},
   "source": [
    "Analysis - The Temperatures increase as the latitude moves from latitudes -90 to 0 and from 90 to 0, 0 being the equator, -90 being southpole and 90 being northpole."
   ]
  },
  {
   "cell_type": "markdown",
   "metadata": {},
   "source": [
    "## Latitude vs. Humidity Plot"
   ]
  },
  {
   "cell_type": "code",
   "execution_count": 17,
   "metadata": {},
   "outputs": [
    {
     "data": {
      "text/plain": [
       "<matplotlib.collections.PathCollection at 0x1736503c730>"
      ]
     },
     "execution_count": 17,
     "metadata": {},
     "output_type": "execute_result"
    },
    {
     "data": {
      "image/png": "[encoded data removed]",
      "text/plain": [
       "<Figure size 432x288 with 1 Axes>"
      ]
     },
     "metadata": {
      "needs_background": "light"
     },
     "output_type": "display_data"
    }
   ],
   "source": [
    "plt.scatter(cities_df['Latitude'], cities_df['Humidity (%)'])"
   ]
  },
  {
   "cell_type": "markdown",
   "metadata": {},
   "source": [
    "Analysis - "
   ]
  },
  {
   "cell_type": "markdown",
   "metadata": {},
   "source": [
    "## Latitude vs. Cloudiness Plot"
   ]
  },
  {
   "cell_type": "code",
   "execution_count": 18,
   "metadata": {},
   "outputs": [
    {
     "data": {
      "text/plain": [
       "<matplotlib.collections.PathCollection at 0x17365097460>"
      ]
     },
     "execution_count": 18,
     "metadata": {},
     "output_type": "execute_result"
    },
    {
     "data": {
      "image/png": "[encoded data removed]",
      "text/plain": [
       "<Figure size 432x288 with 1 Axes>"
      ]
     },
     "metadata": {
      "needs_background": "light"
     },
     "output_type": "display_data"
    }
   ],
   "source": [
    "plt.scatter(cities_df['Latitude'], cities_df['Cloudiness (%)'])"
   ]
  },
  {
   "cell_type": "markdown",
   "metadata": {},
   "source": [
    "Analysis - "
   ]
  },
  {
   "cell_type": "markdown",
   "metadata": {},
   "source": [
    "## Latitude vs. Wind Speed Plot"
   ]
  },
  {
   "cell_type": "code",
   "execution_count": 19,
   "metadata": {},
   "outputs": [
    {
     "data": {
      "text/plain": [
       "<matplotlib.collections.PathCollection at 0x173650ef1f0>"
      ]
     },
     "execution_count": 19,
     "metadata": {},
     "output_type": "execute_result"
    },
    {
     "data": {
      "image/png": "[encoded data removed]",
      "text/plain": [
       "<Figure size 432x288 with 1 Axes>"
      ]
     },
     "metadata": {
      "needs_background": "light"
     },
     "output_type": "display_data"
    }
   ],
   "source": [
    "plt.scatter(cities_df['Latitude'], cities_df['Wind Speed (mph)'])"
   ]
  },
  {
   "cell_type": "markdown",
   "metadata": {},
   "source": [
    "Analysis - "
   ]
  },
  {
   "cell_type": "markdown",
   "metadata": {},
   "source": [
    "## Linear Regression"
   ]
  },
  {
   "cell_type": "code",
   "execution_count": 20,
   "metadata": {},
   "outputs": [
    {
     "data": {
      "text/html": [
       "<div>\n",
       "<style scoped>\n",
       "    .dataframe tbody tr th:only-of-type {\n",
       "        vertical-align: middle;\n",
       "    }\n",
       "\n",
       "    .dataframe tbody tr th {\n",
       "        vertical-align: top;\n",
       "    }\n",
       "\n",
       "    .dataframe thead th {\n",
       "        text-align: right;\n",
       "    }\n",
       "</style>\n",
       "<table border=\"1\" class=\"dataframe\">\n",
       "  <thead>\n",
       "    <tr style=\"text-align: right;\">\n",
       "      <th></th>\n",
       "      <th>Nearest City</th>\n",
       "      <th>Latitude</th>\n",
       "      <th>Longitude</th>\n",
       "      <th>Temperature (F)</th>\n",
       "      <th>Humidity (%)</th>\n",
       "      <th>Cloudiness (%)</th>\n",
       "      <th>Wind Speed (mph)</th>\n",
       "    </tr>\n",
       "  </thead>\n",
       "  <tbody>\n",
       "    <tr>\n",
       "      <th>2</th>\n",
       "      <td>cherskiy</td>\n",
       "      <td>87.208151</td>\n",
       "      <td>161.178220</td>\n",
       "      <td>56.73</td>\n",
       "      <td>36.0</td>\n",
       "      <td>53.0</td>\n",
       "      <td>6.51</td>\n",
       "    </tr>\n",
       "    <tr>\n",
       "      <th>4</th>\n",
       "      <td>ivankiv</td>\n",
       "      <td>50.893011</td>\n",
       "      <td>29.944007</td>\n",
       "      <td>57.36</td>\n",
       "      <td>92.0</td>\n",
       "      <td>0.0</td>\n",
       "      <td>1.99</td>\n",
       "    </tr>\n",
       "    <tr>\n",
       "      <th>8</th>\n",
       "      <td>norman wells</td>\n",
       "      <td>78.181183</td>\n",
       "      <td>-117.402020</td>\n",
       "      <td>57.24</td>\n",
       "      <td>41.0</td>\n",
       "      <td>75.0</td>\n",
       "      <td>14.97</td>\n",
       "    </tr>\n",
       "    <tr>\n",
       "      <th>9</th>\n",
       "      <td>atuona</td>\n",
       "      <td>8.482568</td>\n",
       "      <td>-130.483105</td>\n",
       "      <td>79.02</td>\n",
       "      <td>76.0</td>\n",
       "      <td>72.0</td>\n",
       "      <td>11.90</td>\n",
       "    </tr>\n",
       "    <tr>\n",
       "      <th>10</th>\n",
       "      <td>tuktoyaktuk</td>\n",
       "      <td>88.214118</td>\n",
       "      <td>-117.449598</td>\n",
       "      <td>30.20</td>\n",
       "      <td>69.0</td>\n",
       "      <td>75.0</td>\n",
       "      <td>12.66</td>\n",
       "    </tr>\n",
       "    <tr>\n",
       "      <th>...</th>\n",
       "      <td>...</td>\n",
       "      <td>...</td>\n",
       "      <td>...</td>\n",
       "      <td>...</td>\n",
       "      <td>...</td>\n",
       "      <td>...</td>\n",
       "      <td>...</td>\n",
       "    </tr>\n",
       "    <tr>\n",
       "      <th>530</th>\n",
       "      <td>ca mau</td>\n",
       "      <td>8.129915</td>\n",
       "      <td>105.054083</td>\n",
       "      <td>76.33</td>\n",
       "      <td>95.0</td>\n",
       "      <td>100.0</td>\n",
       "      <td>7.14</td>\n",
       "    </tr>\n",
       "    <tr>\n",
       "      <th>531</th>\n",
       "      <td>sistranda</td>\n",
       "      <td>67.919185</td>\n",
       "      <td>7.175898</td>\n",
       "      <td>51.76</td>\n",
       "      <td>89.0</td>\n",
       "      <td>5.0</td>\n",
       "      <td>23.67</td>\n",
       "    </tr>\n",
       "    <tr>\n",
       "      <th>532</th>\n",
       "      <td>talnakh</td>\n",
       "      <td>69.030575</td>\n",
       "      <td>95.050349</td>\n",
       "      <td>17.04</td>\n",
       "      <td>97.0</td>\n",
       "      <td>50.0</td>\n",
       "      <td>2.35</td>\n",
       "    </tr>\n",
       "    <tr>\n",
       "      <th>533</th>\n",
       "      <td>sidi ali</td>\n",
       "      <td>35.030005</td>\n",
       "      <td>0.723707</td>\n",
       "      <td>63.18</td>\n",
       "      <td>82.0</td>\n",
       "      <td>36.0</td>\n",
       "      <td>4.99</td>\n",
       "    </tr>\n",
       "    <tr>\n",
       "      <th>534</th>\n",
       "      <td>stokmarknes</td>\n",
       "      <td>69.334020</td>\n",
       "      <td>14.714322</td>\n",
       "      <td>46.54</td>\n",
       "      <td>83.0</td>\n",
       "      <td>16.0</td>\n",
       "      <td>7.49</td>\n",
       "    </tr>\n",
       "  </tbody>\n",
       "</table>\n",
       "<p>365 rows × 7 columns</p>\n",
       "</div>"
      ],
      "text/plain": [
       "     Nearest City   Latitude   Longitude  Temperature (F)  Humidity (%)  \\\n",
       "2        cherskiy  87.208151  161.178220            56.73          36.0   \n",
       "4         ivankiv  50.893011   29.944007            57.36          92.0   \n",
       "8    norman wells  78.181183 -117.402020            57.24          41.0   \n",
       "9          atuona   8.482568 -130.483105            79.02          76.0   \n",
       "10    tuktoyaktuk  88.214118 -117.449598            30.20          69.0   \n",
       "..            ...        ...         ...              ...           ...   \n",
       "530        ca mau   8.129915  105.054083            76.33          95.0   \n",
       "531     sistranda  67.919185    7.175898            51.76          89.0   \n",
       "532       talnakh  69.030575   95.050349            17.04          97.0   \n",
       "533      sidi ali  35.030005    0.723707            63.18          82.0   \n",
       "534   stokmarknes  69.334020   14.714322            46.54          83.0   \n",
       "\n",
       "     Cloudiness (%)  Wind Speed (mph)  \n",
       "2              53.0              6.51  \n",
       "4               0.0              1.99  \n",
       "8              75.0             14.97  \n",
       "9              72.0             11.90  \n",
       "10             75.0             12.66  \n",
       "..              ...               ...  \n",
       "530           100.0              7.14  \n",
       "531             5.0             23.67  \n",
       "532            50.0              2.35  \n",
       "533            36.0              4.99  \n",
       "534            16.0              7.49  \n",
       "\n",
       "[365 rows x 7 columns]"
      ]
     },
     "execution_count": 20,
     "metadata": {},
     "output_type": "execute_result"
    }
   ],
   "source": [
    "Northern_df = cities_df[cities_df['Latitude']>0]\n",
    "Northern_df"
   ]
  },
  {
   "cell_type": "code",
   "execution_count": 21,
   "metadata": {},
   "outputs": [
    {
     "data": {
      "text/html": [
       "<div>\n",
       "<style scoped>\n",
       "    .dataframe tbody tr th:only-of-type {\n",
       "        vertical-align: middle;\n",
       "    }\n",
       "\n",
       "    .dataframe tbody tr th {\n",
       "        vertical-align: top;\n",
       "    }\n",
       "\n",
       "    .dataframe thead th {\n",
       "        text-align: right;\n",
       "    }\n",
       "</style>\n",
       "<table border=\"1\" class=\"dataframe\">\n",
       "  <thead>\n",
       "    <tr style=\"text-align: right;\">\n",
       "      <th></th>\n",
       "      <th>Nearest City</th>\n",
       "      <th>Latitude</th>\n",
       "      <th>Longitude</th>\n",
       "      <th>Temperature (F)</th>\n",
       "      <th>Humidity (%)</th>\n",
       "      <th>Cloudiness (%)</th>\n",
       "      <th>Wind Speed (mph)</th>\n",
       "    </tr>\n",
       "  </thead>\n",
       "  <tbody>\n",
       "    <tr>\n",
       "      <th>0</th>\n",
       "      <td>albany</td>\n",
       "      <td>-72.120226</td>\n",
       "      <td>98.087276</td>\n",
       "      <td>67.44</td>\n",
       "      <td>86.0</td>\n",
       "      <td>64.0</td>\n",
       "      <td>3.00</td>\n",
       "    </tr>\n",
       "    <tr>\n",
       "      <th>1</th>\n",
       "      <td>mataura</td>\n",
       "      <td>-34.555120</td>\n",
       "      <td>-155.334806</td>\n",
       "      <td>39.54</td>\n",
       "      <td>73.0</td>\n",
       "      <td>90.0</td>\n",
       "      <td>3.91</td>\n",
       "    </tr>\n",
       "    <tr>\n",
       "      <th>3</th>\n",
       "      <td>maragogi</td>\n",
       "      <td>-11.155066</td>\n",
       "      <td>-32.160852</td>\n",
       "      <td>77.40</td>\n",
       "      <td>78.0</td>\n",
       "      <td>20.0</td>\n",
       "      <td>10.33</td>\n",
       "    </tr>\n",
       "    <tr>\n",
       "      <th>5</th>\n",
       "      <td>rikitea</td>\n",
       "      <td>-73.501084</td>\n",
       "      <td>-132.438795</td>\n",
       "      <td>76.03</td>\n",
       "      <td>72.0</td>\n",
       "      <td>91.0</td>\n",
       "      <td>20.31</td>\n",
       "    </tr>\n",
       "    <tr>\n",
       "      <th>6</th>\n",
       "      <td>meulaboh</td>\n",
       "      <td>-5.072145</td>\n",
       "      <td>90.040229</td>\n",
       "      <td>78.15</td>\n",
       "      <td>89.0</td>\n",
       "      <td>100.0</td>\n",
       "      <td>15.86</td>\n",
       "    </tr>\n",
       "    <tr>\n",
       "      <th>...</th>\n",
       "      <td>...</td>\n",
       "      <td>...</td>\n",
       "      <td>...</td>\n",
       "      <td>...</td>\n",
       "      <td>...</td>\n",
       "      <td>...</td>\n",
       "      <td>...</td>\n",
       "    </tr>\n",
       "    <tr>\n",
       "      <th>507</th>\n",
       "      <td>eten</td>\n",
       "      <td>-7.497281</td>\n",
       "      <td>-80.329306</td>\n",
       "      <td>68.97</td>\n",
       "      <td>82.0</td>\n",
       "      <td>20.0</td>\n",
       "      <td>12.26</td>\n",
       "    </tr>\n",
       "    <tr>\n",
       "      <th>512</th>\n",
       "      <td>san cristobal</td>\n",
       "      <td>-8.268944</td>\n",
       "      <td>-88.082173</td>\n",
       "      <td>78.98</td>\n",
       "      <td>51.0</td>\n",
       "      <td>83.0</td>\n",
       "      <td>5.30</td>\n",
       "    </tr>\n",
       "    <tr>\n",
       "      <th>516</th>\n",
       "      <td>namibe</td>\n",
       "      <td>-10.865570</td>\n",
       "      <td>4.738604</td>\n",
       "      <td>74.19</td>\n",
       "      <td>72.0</td>\n",
       "      <td>0.0</td>\n",
       "      <td>2.30</td>\n",
       "    </tr>\n",
       "    <tr>\n",
       "      <th>522</th>\n",
       "      <td>warmbad</td>\n",
       "      <td>-28.430923</td>\n",
       "      <td>17.819452</td>\n",
       "      <td>65.34</td>\n",
       "      <td>35.0</td>\n",
       "      <td>4.0</td>\n",
       "      <td>5.82</td>\n",
       "    </tr>\n",
       "    <tr>\n",
       "      <th>523</th>\n",
       "      <td>sao raimundo nonato</td>\n",
       "      <td>-9.142211</td>\n",
       "      <td>-43.256115</td>\n",
       "      <td>78.21</td>\n",
       "      <td>38.0</td>\n",
       "      <td>0.0</td>\n",
       "      <td>4.12</td>\n",
       "    </tr>\n",
       "  </tbody>\n",
       "</table>\n",
       "<p>170 rows × 7 columns</p>\n",
       "</div>"
      ],
      "text/plain": [
       "            Nearest City   Latitude   Longitude  Temperature (F)  \\\n",
       "0                 albany -72.120226   98.087276            67.44   \n",
       "1                mataura -34.555120 -155.334806            39.54   \n",
       "3               maragogi -11.155066  -32.160852            77.40   \n",
       "5                rikitea -73.501084 -132.438795            76.03   \n",
       "6               meulaboh  -5.072145   90.040229            78.15   \n",
       "..                   ...        ...         ...              ...   \n",
       "507                 eten  -7.497281  -80.329306            68.97   \n",
       "512        san cristobal  -8.268944  -88.082173            78.98   \n",
       "516               namibe -10.865570    4.738604            74.19   \n",
       "522              warmbad -28.430923   17.819452            65.34   \n",
       "523  sao raimundo nonato  -9.142211  -43.256115            78.21   \n",
       "\n",
       "     Humidity (%)  Cloudiness (%)  Wind Speed (mph)  \n",
       "0            86.0            64.0              3.00  \n",
       "1            73.0            90.0              3.91  \n",
       "3            78.0            20.0             10.33  \n",
       "5            72.0            91.0             20.31  \n",
       "6            89.0           100.0             15.86  \n",
       "..            ...             ...               ...  \n",
       "507          82.0            20.0             12.26  \n",
       "512          51.0            83.0              5.30  \n",
       "516          72.0             0.0              2.30  \n",
       "522          35.0             4.0              5.82  \n",
       "523          38.0             0.0              4.12  \n",
       "\n",
       "[170 rows x 7 columns]"
      ]
     },
     "execution_count": 21,
     "metadata": {},
     "output_type": "execute_result"
    }
   ],
   "source": [
    "Southern_df = cities_df[cities_df['Latitude']<0]\n",
    "Southern_df"
   ]
  },
  {
   "cell_type": "markdown",
   "metadata": {},
   "source": [
    "####  Northern Hemisphere - Max Temp vs. Latitude Linear Regression"
   ]
  },
  {
   "cell_type": "code",
   "execution_count": 22,
   "metadata": {},
   "outputs": [
    {
     "data": {
      "image/png": "[encoded data removed]",
      "text/plain": [
       "<Figure size 432x288 with 1 Axes>"
      ]
     },
     "metadata": {
      "needs_background": "light"
     },
     "output_type": "display_data"
    }
   ],
   "source": [
    "x = Northern_df['Latitude']\n",
    "y = Northern_df['Temperature (F)']\n",
    "(slope, intercept, rvalue, pvalue, stderr) = linregress(x, y)\n",
    "regress_value = x*slope + intercept\n",
    "line_eq = \"y = \" + str(round(slope,2)) + \"x + \" + str(round(intercept,2))\n",
    "plt.scatter(x,y)\n",
    "plt.plot(x,regress_value,\"r-\")\n",
    "plt.annotate(line_eq,(5,30),fontsize=10,color=\"red\")\n",
    "plt.xlabel('Latitude')\n",
    "plt.ylabel('Temperature (F)')\n",
    "plt.show()"
   ]
  },
  {
   "cell_type": "markdown",
   "metadata": {},
   "source": [
    "####  Southern Hemisphere - Max Temp vs. Latitude Linear Regression"
   ]
  },
  {
   "cell_type": "code",
   "execution_count": 23,
   "metadata": {},
   "outputs": [
    {
     "data": {
      "image/png": "[encoded data removed]",
      "text/plain": [
       "<Figure size 432x288 with 1 Axes>"
      ]
     },
     "metadata": {
      "needs_background": "light"
     },
     "output_type": "display_data"
    }
   ],
   "source": [
    "x = Southern_df['Latitude']\n",
    "y = Southern_df['Temperature (F)']\n",
    "(slope, intercept, rvalue, pvalue, stderr) = linregress(x, y)\n",
    "regress_value = x*slope + intercept\n",
    "line_eq = \"y = \" + str(round(slope,2)) + \"x + \" + str(round(intercept,2))\n",
    "plt.scatter(x,y)\n",
    "plt.plot(x,regress_value,\"r-\")\n",
    "plt.annotate(line_eq,(-30,35),fontsize=10,color=\"red\")\n",
    "plt.xlabel('Latitude')\n",
    "plt.ylabel('Temperature (F)')\n",
    "plt.show()"
   ]
  },
  {
   "cell_type": "markdown",
   "metadata": {},
   "source": [
    "####  Northern Hemisphere - Humidity (%) vs. Latitude Linear Regression"
   ]
  },
  {
   "cell_type": "code",
   "execution_count": 24,
   "metadata": {},
   "outputs": [
    {
     "data": {
      "image/png": "[encoded data removed]",
      "text/plain": [
       "<Figure size 432x288 with 1 Axes>"
      ]
     },
     "metadata": {
      "needs_background": "light"
     },
     "output_type": "display_data"
    }
   ],
   "source": [
    "x = Northern_df['Latitude']\n",
    "y = Northern_df['Humidity (%)']\n",
    "(slope, intercept, rvalue, pvalue, stderr) = linregress(x, y)\n",
    "regress_value = x*slope + intercept\n",
    "line_eq = \"y = \" + str(round(slope,2)) + \"x + \" + str(round(intercept,2))\n",
    "plt.scatter(x,y)\n",
    "plt.plot(x,regress_value,\"r-\")\n",
    "plt.annotate(line_eq,(55,10),fontsize=10,color=\"red\")\n",
    "plt.xlabel('Latitude')\n",
    "plt.ylabel('Humidity (%)')\n",
    "plt.show()"
   ]
  },
  {
   "cell_type": "markdown",
   "metadata": {},
   "source": [
    "####  Southern Hemisphere - Humidity (%) vs. Latitude Linear Regression"
   ]
  },
  {
   "cell_type": "code",
   "execution_count": 25,
   "metadata": {},
   "outputs": [
    {
     "data": {
      "image/png": "[encoded data removed]",
      "text/plain": [
       "<Figure size 432x288 with 1 Axes>"
      ]
     },
     "metadata": {
      "needs_background": "light"
     },
     "output_type": "display_data"
    }
   ],
   "source": [
    "x = Southern_df['Latitude']\n",
    "y = Southern_df['Humidity (%)']\n",
    "(slope, intercept, rvalue, pvalue, stderr) = linregress(x, y)\n",
    "regress_value = x*slope + intercept\n",
    "line_eq = \"y = \" + str(round(slope,2)) + \"x + \" + str(round(intercept,2))\n",
    "plt.scatter(x,y)\n",
    "plt.plot(x,regress_value,\"r-\")\n",
    "plt.annotate(line_eq,(-80,20),fontsize=10,color=\"red\")\n",
    "plt.xlabel('Latitude')\n",
    "plt.ylabel('Humidity (%)')\n",
    "plt.show()"
   ]
  },
  {
   "cell_type": "markdown",
   "metadata": {},
   "source": [
    "####  Northern Hemisphere - Cloudiness (%) vs. Latitude Linear Regression"
   ]
  },
  {
   "cell_type": "code",
   "execution_count": 26,
   "metadata": {},
   "outputs": [
    {
     "data": {
      "image/png": "[encoded data removed]",
      "text/plain": [
       "<Figure size 432x288 with 1 Axes>"
      ]
     },
     "metadata": {
      "needs_background": "light"
     },
     "output_type": "display_data"
    }
   ],
   "source": [
    "x = Northern_df['Latitude']\n",
    "y = Northern_df['Cloudiness (%)']\n",
    "(slope, intercept, rvalue, pvalue, stderr) = linregress(x, y)\n",
    "regress_value = x*slope + intercept\n",
    "line_eq = \"y = \" + str(round(slope,2)) + \"x + \" + str(round(intercept,2))\n",
    "plt.scatter(x,y)\n",
    "plt.plot(x,regress_value,\"r-\")\n",
    "plt.annotate(line_eq,(68,5),fontsize=10,color=\"red\")\n",
    "plt.xlabel('Latitude')\n",
    "plt.ylabel('Cloudiness (%)')\n",
    "plt.show()"
   ]
  },
  {
   "cell_type": "markdown",
   "metadata": {},
   "source": [
    "####  Southern Hemisphere - Cloudiness (%) vs. Latitude Linear Regression"
   ]
  },
  {
   "cell_type": "code",
   "execution_count": 27,
   "metadata": {},
   "outputs": [
    {
     "data": {
      "image/png": "[encoded data removed]",
      "text/plain": [
       "<Figure size 432x288 with 1 Axes>"
      ]
     },
     "metadata": {
      "needs_background": "light"
     },
     "output_type": "display_data"
    }
   ],
   "source": [
    "x = Southern_df['Latitude']\n",
    "y = Southern_df['Cloudiness (%)']\n",
    "(slope, intercept, rvalue, pvalue, stderr) = linregress(x, y)\n",
    "regress_value = x*slope + intercept\n",
    "line_eq = \"y = \" + str(round(slope,2)) + \"x + \" + str(round(intercept,2))\n",
    "plt.scatter(x,y)\n",
    "plt.plot(x,regress_value,\"r-\")\n",
    "plt.annotate(line_eq,(-85,5),fontsize=10,color=\"red\")\n",
    "plt.xlabel('Latitude')\n",
    "plt.ylabel('Cloudiness (%)')\n",
    "plt.show()"
   ]
  },
  {
   "cell_type": "markdown",
   "metadata": {},
   "source": [
    "####  Northern Hemisphere - Wind Speed (mph) vs. Latitude Linear Regression"
   ]
  },
  {
   "cell_type": "code",
   "execution_count": 28,
   "metadata": {},
   "outputs": [
    {
     "data": {
      "image/png": "[encoded data removed]",
      "text/plain": [
       "<Figure size 432x288 with 1 Axes>"
      ]
     },
     "metadata": {
      "needs_background": "light"
     },
     "output_type": "display_data"
    }
   ],
   "source": [
    "x = Northern_df['Latitude']\n",
    "y = Northern_df['Wind Speed (mph)']\n",
    "(slope, intercept, rvalue, pvalue, stderr) = linregress(x, y)\n",
    "regress_value = x*slope + intercept\n",
    "line_eq = \"y = \" + str(round(slope,2)) + \"x + \" + str(round(intercept,2))\n",
    "plt.scatter(x,y)\n",
    "plt.plot(x,regress_value,\"r-\")\n",
    "plt.annotate(line_eq,(68,35),fontsize=10,color=\"red\")\n",
    "plt.xlabel('Latitude')\n",
    "plt.ylabel('Wind Speed (mph)')\n",
    "plt.show()"
   ]
  },
  {
   "cell_type": "markdown",
   "metadata": {},
   "source": [
    "####  Southern Hemisphere - Wind Speed (mph) vs. Latitude Linear Regression"
   ]
  },
  {
   "cell_type": "code",
   "execution_count": 29,
   "metadata": {},
   "outputs": [
    {
     "data": {
      "image/png": "[encoded data removed]",
      "text/plain": [
       "<Figure size 432x288 with 1 Axes>"
      ]
     },
     "metadata": {
      "needs_background": "light"
     },
     "output_type": "display_data"
    }
   ],
   "source": [
    "x = Southern_df['Latitude']\n",
    "y = Southern_df['Wind Speed (mph)']\n",
    "(slope, intercept, rvalue, pvalue, stderr) = linregress(x, y)\n",
    "regress_value = x*slope + intercept\n",
    "line_eq = \"y = \" + str(round(slope,2)) + \"x + \" + str(round(intercept,2))\n",
    "plt.scatter(x,y)\n",
    "plt.plot(x,regress_value,\"r-\")\n",
    "plt.annotate(line_eq,(-85,15),fontsize=10,color=\"red\")\n",
    "plt.xlabel('Latitude')\n",
    "plt.ylabel('Wind Speed (mph)')\n",
    "plt.show()"
   ]
  }
 ],
 "metadata": {
  "anaconda-cloud": {},
  "kernel_info": {
   "name": "python3"
  },
  "kernelspec": {
   "display_name": "Python [conda env:root] *",
   "language": "python",
   "name": "conda-root-py"
  },
  "language_info": {
   "codemirror_mode": {
    "name": "ipython",
    "version": 3
   },
   "file_extension": ".py",
   "mimetype": "text/x-python",
   "name": "python",
   "nbconvert_exporter": "python",
   "pygments_lexer": "ipython3",
   "version": "3.8.5"
  },
  "latex_envs": {
   "LaTeX_envs_menu_present": true,
   "autoclose": false,
   "autocomplete": true,
   "bibliofile": "biblio.bib",
   "cite_by": "apalike",
   "current_citInitial": 1,
   "eqLabelWithNumbers": true,
   "eqNumInitial": 1,
   "hotkeys": {
    "equation": "Ctrl-E",
    "itemize": "Ctrl-I"
   },
   "labels_anchors": false,
   "latex_user_defs": false,
   "report_style_numbering": false,
   "user_envs_cfg": false
  },
  "nteract": {
   "version": "0.12.3"
  }
 },
 "nbformat": 4,
 "nbformat_minor": 4
}
