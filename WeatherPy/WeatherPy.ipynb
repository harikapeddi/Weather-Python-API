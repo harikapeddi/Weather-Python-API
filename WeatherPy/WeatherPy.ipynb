{
 "cells": [
  {
   "cell_type": "markdown",
   "metadata": {},
   "source": [
    "# WeatherPy\n",
    "----\n",
    "\n",
    "#### Note\n",
    "* Instructions have been included for each segment. You do not have to follow them exactly, but they are included to help you think through the steps."
   ]
  },
  {
   "cell_type": "code",
   "execution_count": 1,
   "metadata": {
    "scrolled": true
   },
   "outputs": [],
   "source": [
    "import pandas as pd\n",
    "import json\n",
    "import requests\n",
    "from api_keys import weather_api_key\n",
    "import numpy as np\n",
    "from citipy import citipy\n",
    "import random\n",
    "import matplotlib.pyplot as plt\n",
    "import scipy.stats as st\n",
    "from scipy.stats import linregress"
   ]
  },
  {
   "cell_type": "markdown",
   "metadata": {},
   "source": [
    "## Generate Cities List"
   ]
  },
  {
   "cell_type": "code",
   "execution_count": 2,
   "metadata": {},
   "outputs": [
    {
     "name": "stdout",
     "output_type": "stream",
     "text": [
      "659\n",
      "659\n",
      "659\n"
     ]
    }
   ],
   "source": [
    "city_list = []\n",
    "lat_list = []\n",
    "lng_list = []\n",
    "for i in range(0,1500):\n",
    "    lat = np.random.uniform(-90,90)\n",
    "    lng = np.random.uniform(-180,180)\n",
    "    city = citipy.nearest_city(lat,lng).city_name \n",
    "    if city not in city_list: \n",
    "        city_list.append(city)\n",
    "        lat_list.append(lat)\n",
    "        lng_list.append(lng)\n",
    "    \n",
    "print(len(city_list))\n",
    "print(len(lat_list))\n",
    "print(len(lng_list))"
   ]
  },
  {
   "cell_type": "code",
   "execution_count": 3,
   "metadata": {},
   "outputs": [
    {
     "data": {
      "text/html": [
       "<div>\n",
       "<style scoped>\n",
       "    .dataframe tbody tr th:only-of-type {\n",
       "        vertical-align: middle;\n",
       "    }\n",
       "\n",
       "    .dataframe tbody tr th {\n",
       "        vertical-align: top;\n",
       "    }\n",
       "\n",
       "    .dataframe thead th {\n",
       "        text-align: right;\n",
       "    }\n",
       "</style>\n",
       "<table border=\"1\" class=\"dataframe\">\n",
       "  <thead>\n",
       "    <tr style=\"text-align: right;\">\n",
       "      <th></th>\n",
       "      <th>Nearest City</th>\n",
       "      <th>Latitude</th>\n",
       "      <th>Longitude</th>\n",
       "    </tr>\n",
       "  </thead>\n",
       "  <tbody>\n",
       "    <tr>\n",
       "      <th>0</th>\n",
       "      <td>sankheda</td>\n",
       "      <td>21.972025</td>\n",
       "      <td>73.779098</td>\n",
       "    </tr>\n",
       "    <tr>\n",
       "      <th>1</th>\n",
       "      <td>jamestown</td>\n",
       "      <td>-39.538875</td>\n",
       "      <td>-8.884986</td>\n",
       "    </tr>\n",
       "    <tr>\n",
       "      <th>2</th>\n",
       "      <td>cidreira</td>\n",
       "      <td>-53.676566</td>\n",
       "      <td>-27.616971</td>\n",
       "    </tr>\n",
       "    <tr>\n",
       "      <th>3</th>\n",
       "      <td>fairlie</td>\n",
       "      <td>-44.337486</td>\n",
       "      <td>170.244063</td>\n",
       "    </tr>\n",
       "    <tr>\n",
       "      <th>4</th>\n",
       "      <td>estevan</td>\n",
       "      <td>48.946029</td>\n",
       "      <td>-102.682740</td>\n",
       "    </tr>\n",
       "    <tr>\n",
       "      <th>...</th>\n",
       "      <td>...</td>\n",
       "      <td>...</td>\n",
       "      <td>...</td>\n",
       "    </tr>\n",
       "    <tr>\n",
       "      <th>654</th>\n",
       "      <td>vaikam</td>\n",
       "      <td>9.747670</td>\n",
       "      <td>76.353942</td>\n",
       "    </tr>\n",
       "    <tr>\n",
       "      <th>655</th>\n",
       "      <td>san isidro</td>\n",
       "      <td>6.161389</td>\n",
       "      <td>129.789512</td>\n",
       "    </tr>\n",
       "    <tr>\n",
       "      <th>656</th>\n",
       "      <td>paamiut</td>\n",
       "      <td>60.559438</td>\n",
       "      <td>-51.687735</td>\n",
       "    </tr>\n",
       "    <tr>\n",
       "      <th>657</th>\n",
       "      <td>chipinge</td>\n",
       "      <td>-21.206469</td>\n",
       "      <td>32.930337</td>\n",
       "    </tr>\n",
       "    <tr>\n",
       "      <th>658</th>\n",
       "      <td>shunyi</td>\n",
       "      <td>40.077290</td>\n",
       "      <td>117.002410</td>\n",
       "    </tr>\n",
       "  </tbody>\n",
       "</table>\n",
       "<p>659 rows × 3 columns</p>\n",
       "</div>"
      ],
      "text/plain": [
       "    Nearest City   Latitude   Longitude\n",
       "0       sankheda  21.972025   73.779098\n",
       "1      jamestown -39.538875   -8.884986\n",
       "2       cidreira -53.676566  -27.616971\n",
       "3        fairlie -44.337486  170.244063\n",
       "4        estevan  48.946029 -102.682740\n",
       "..           ...        ...         ...\n",
       "654       vaikam   9.747670   76.353942\n",
       "655   san isidro   6.161389  129.789512\n",
       "656      paamiut  60.559438  -51.687735\n",
       "657     chipinge -21.206469   32.930337\n",
       "658       shunyi  40.077290  117.002410\n",
       "\n",
       "[659 rows x 3 columns]"
      ]
     },
     "execution_count": 3,
     "metadata": {},
     "output_type": "execute_result"
    }
   ],
   "source": [
    "cities_df = pd.DataFrame({'Nearest City' : city_list, 'Latitude' : lat_list, 'Longitude': lng_list})\n",
    "cities_df = cities_df.rename(columns={0:'Nearest City'})\n",
    "cities_df"
   ]
  },
  {
   "cell_type": "code",
   "execution_count": 4,
   "metadata": {},
   "outputs": [
    {
     "data": {
      "text/html": [
       "<div>\n",
       "<style scoped>\n",
       "    .dataframe tbody tr th:only-of-type {\n",
       "        vertical-align: middle;\n",
       "    }\n",
       "\n",
       "    .dataframe tbody tr th {\n",
       "        vertical-align: top;\n",
       "    }\n",
       "\n",
       "    .dataframe thead th {\n",
       "        text-align: right;\n",
       "    }\n",
       "</style>\n",
       "<table border=\"1\" class=\"dataframe\">\n",
       "  <thead>\n",
       "    <tr style=\"text-align: right;\">\n",
       "      <th></th>\n",
       "      <th>Nearest City</th>\n",
       "      <th>Latitude</th>\n",
       "      <th>Longitude</th>\n",
       "    </tr>\n",
       "  </thead>\n",
       "  <tbody>\n",
       "    <tr>\n",
       "      <th>0</th>\n",
       "      <td>sankheda</td>\n",
       "      <td>21.972025</td>\n",
       "      <td>73.779098</td>\n",
       "    </tr>\n",
       "    <tr>\n",
       "      <th>1</th>\n",
       "      <td>jamestown</td>\n",
       "      <td>-39.538875</td>\n",
       "      <td>-8.884986</td>\n",
       "    </tr>\n",
       "    <tr>\n",
       "      <th>2</th>\n",
       "      <td>cidreira</td>\n",
       "      <td>-53.676566</td>\n",
       "      <td>-27.616971</td>\n",
       "    </tr>\n",
       "    <tr>\n",
       "      <th>3</th>\n",
       "      <td>fairlie</td>\n",
       "      <td>-44.337486</td>\n",
       "      <td>170.244063</td>\n",
       "    </tr>\n",
       "    <tr>\n",
       "      <th>4</th>\n",
       "      <td>estevan</td>\n",
       "      <td>48.946029</td>\n",
       "      <td>-102.682740</td>\n",
       "    </tr>\n",
       "    <tr>\n",
       "      <th>...</th>\n",
       "      <td>...</td>\n",
       "      <td>...</td>\n",
       "      <td>...</td>\n",
       "    </tr>\n",
       "    <tr>\n",
       "      <th>654</th>\n",
       "      <td>vaikam</td>\n",
       "      <td>9.747670</td>\n",
       "      <td>76.353942</td>\n",
       "    </tr>\n",
       "    <tr>\n",
       "      <th>655</th>\n",
       "      <td>san isidro</td>\n",
       "      <td>6.161389</td>\n",
       "      <td>129.789512</td>\n",
       "    </tr>\n",
       "    <tr>\n",
       "      <th>656</th>\n",
       "      <td>paamiut</td>\n",
       "      <td>60.559438</td>\n",
       "      <td>-51.687735</td>\n",
       "    </tr>\n",
       "    <tr>\n",
       "      <th>657</th>\n",
       "      <td>chipinge</td>\n",
       "      <td>-21.206469</td>\n",
       "      <td>32.930337</td>\n",
       "    </tr>\n",
       "    <tr>\n",
       "      <th>658</th>\n",
       "      <td>shunyi</td>\n",
       "      <td>40.077290</td>\n",
       "      <td>117.002410</td>\n",
       "    </tr>\n",
       "  </tbody>\n",
       "</table>\n",
       "<p>659 rows × 3 columns</p>\n",
       "</div>"
      ],
      "text/plain": [
       "    Nearest City   Latitude   Longitude\n",
       "0       sankheda  21.972025   73.779098\n",
       "1      jamestown -39.538875   -8.884986\n",
       "2       cidreira -53.676566  -27.616971\n",
       "3        fairlie -44.337486  170.244063\n",
       "4        estevan  48.946029 -102.682740\n",
       "..           ...        ...         ...\n",
       "654       vaikam   9.747670   76.353942\n",
       "655   san isidro   6.161389  129.789512\n",
       "656      paamiut  60.559438  -51.687735\n",
       "657     chipinge -21.206469   32.930337\n",
       "658       shunyi  40.077290  117.002410\n",
       "\n",
       "[659 rows x 3 columns]"
      ]
     },
     "execution_count": 4,
     "metadata": {},
     "output_type": "execute_result"
    }
   ],
   "source": [
    "cities_df"
   ]
  },
  {
   "cell_type": "markdown",
   "metadata": {},
   "source": [
    "### Perform API Calls\n",
    "* Perform a weather check on each city using a series of successive API calls.\n",
    "* Include a print log of each city as it'sbeing processed (with the city number and city name).\n"
   ]
  },
  {
   "cell_type": "code",
   "execution_count": 5,
   "metadata": {
    "scrolled": true
   },
   "outputs": [
    {
     "name": "stdout",
     "output_type": "stream",
     "text": [
      "Missing City records for 11 : barawe ... skipping.\n",
      "Missing City records for 35 : belushya guba ... skipping.\n",
      "Missing City records for 58 : barentsburg ... skipping.\n",
      "Missing City records for 68 : amderma ... skipping.\n",
      "Missing City records for 76 : taolanaro ... skipping.\n",
      "Missing City records for 85 : rawannawi ... skipping.\n",
      "Missing City records for 94 : illoqqortoormiut ... skipping.\n",
      "Missing City records for 121 : vaitupu ... skipping.\n",
      "Missing City records for 141 : lolua ... skipping.\n",
      "Missing City records for 142 : tsihombe ... skipping.\n",
      "Missing City records for 146 : toliary ... skipping.\n",
      "Missing City records for 147 : samusu ... skipping.\n",
      "Missing City records for 151 : qabis ... skipping.\n",
      "Missing City records for 158 : attawapiskat ... skipping.\n",
      "Missing City records for 179 : gurgan ... skipping.\n",
      "Missing City records for 194 : tunduru ... skipping.\n",
      "Missing City records for 198 : wahran ... skipping.\n",
      "Missing City records for 213 : saleaula ... skipping.\n",
      "Missing City records for 223 : galiwinku ... skipping.\n",
      "Missing City records for 235 : mrirt ... skipping.\n",
      "Missing City records for 273 : nizhneyansk ... skipping.\n",
      "Missing City records for 277 : vitimskiy ... skipping.\n",
      "Missing City records for 281 : a ... skipping.\n",
      "Missing City records for 287 : targu-neamt ... skipping.\n",
      "Missing City records for 325 : tokzar ... skipping.\n",
      "Missing City records for 333 : satitoa ... skipping.\n",
      "Missing City records for 340 : hunza ... skipping.\n",
      "Missing City records for 342 : dzhusaly ... skipping.\n",
      "Missing City records for 354 : mys shmidta ... skipping.\n",
      "Missing City records for 357 : sentyabrskiy ... skipping.\n",
      "Missing City records for 365 : astipalaia ... skipping.\n",
      "Missing City records for 369 : tumannyy ... skipping.\n",
      "Missing City records for 379 : longlac ... skipping.\n",
      "Missing City records for 386 : rungata ... skipping.\n",
      "Missing City records for 408 : umzimvubu ... skipping.\n",
      "Missing City records for 410 : hihifo ... skipping.\n",
      "Missing City records for 424 : maghama ... skipping.\n",
      "Missing City records for 425 : marcona ... skipping.\n",
      "Missing City records for 466 : ruatoria ... skipping.\n",
      "Missing City records for 472 : tidore ... skipping.\n",
      "Missing City records for 483 : rolim de moura ... skipping.\n",
      "Missing City records for 486 : ambodifototra ... skipping.\n",
      "Missing City records for 489 : warqla ... skipping.\n",
      "Missing City records for 509 : gangotri ... skipping.\n",
      "Missing City records for 511 : ondorhaan ... skipping.\n",
      "Missing City records for 516 : formoso do araguaia ... skipping.\n",
      "Missing City records for 535 : louisbourg ... skipping.\n",
      "Missing City records for 542 : halalo ... skipping.\n",
      "Missing City records for 555 : palabuhanratu ... skipping.\n",
      "Missing City records for 559 : burica ... skipping.\n",
      "Missing City records for 577 : phan rang ... skipping.\n",
      "Missing City records for 603 : tuggurt ... skipping.\n",
      "Missing City records for 610 : grand river south east ... skipping.\n",
      "Missing City records for 620 : sidi qasim ... skipping.\n",
      "Missing City records for 627 : artyk ... skipping.\n",
      "Missing City records for 633 : grand centre ... skipping.\n",
      "Missing City records for 636 : sorvag ... skipping.\n",
      "Missing City records for 638 : yirol ... skipping.\n"
     ]
    }
   ],
   "source": [
    "url = \"http://api.openweathermap.org/data/2.5/weather?q=\"\n",
    "\n",
    "units = 'imperial'\n",
    "\n",
    "cities_df['Temperature (F)'] = \"\"\n",
    "cities_df['Humidity (%)'] = \"\"\n",
    "cities_df['Cloudiness (%)'] = \"\"\n",
    "cities_df['Wind Speed (mph)'] = \"\"\n",
    "\n",
    "for index, row in cities_df.iterrows():\n",
    "    query_url = f\"{url}{row['Nearest City']}&appid={weather_api_key}&units={units}\"\n",
    "    response = requests.get(query_url).json()\n",
    "    \n",
    "    try:\n",
    "        cities_df.loc[index, 'Temperature (F)'] = response['main']['temp']\n",
    "        cities_df.loc[index, 'Humidity (%)'] = response['main']['humidity']\n",
    "        cities_df.loc[index, 'Cloudiness (%)'] = response['clouds']['all']\n",
    "        cities_df.loc[index, 'Wind Speed (mph)'] = response['wind']['speed']\n",
    "    except (KeyError, IndexError):\n",
    "        print(f\"Missing City records for {index} : {row['Nearest City']} ... skipping.\")\n",
    "  "
   ]
  },
  {
   "cell_type": "code",
   "execution_count": 6,
   "metadata": {},
   "outputs": [
    {
     "data": {
      "text/html": [
       "<div>\n",
       "<style scoped>\n",
       "    .dataframe tbody tr th:only-of-type {\n",
       "        vertical-align: middle;\n",
       "    }\n",
       "\n",
       "    .dataframe tbody tr th {\n",
       "        vertical-align: top;\n",
       "    }\n",
       "\n",
       "    .dataframe thead th {\n",
       "        text-align: right;\n",
       "    }\n",
       "</style>\n",
       "<table border=\"1\" class=\"dataframe\">\n",
       "  <thead>\n",
       "    <tr style=\"text-align: right;\">\n",
       "      <th></th>\n",
       "      <th>Nearest City</th>\n",
       "      <th>Latitude</th>\n",
       "      <th>Longitude</th>\n",
       "      <th>Temperature (F)</th>\n",
       "      <th>Humidity (%)</th>\n",
       "      <th>Cloudiness (%)</th>\n",
       "      <th>Wind Speed (mph)</th>\n",
       "    </tr>\n",
       "  </thead>\n",
       "  <tbody>\n",
       "    <tr>\n",
       "      <th>0</th>\n",
       "      <td>sankheda</td>\n",
       "      <td>21.972025</td>\n",
       "      <td>73.779098</td>\n",
       "      <td>87.8</td>\n",
       "      <td>53</td>\n",
       "      <td>100</td>\n",
       "      <td>9.44</td>\n",
       "    </tr>\n",
       "    <tr>\n",
       "      <th>1</th>\n",
       "      <td>jamestown</td>\n",
       "      <td>-39.538875</td>\n",
       "      <td>-8.884986</td>\n",
       "      <td>80.26</td>\n",
       "      <td>47</td>\n",
       "      <td>20</td>\n",
       "      <td>13.8</td>\n",
       "    </tr>\n",
       "    <tr>\n",
       "      <th>2</th>\n",
       "      <td>cidreira</td>\n",
       "      <td>-53.676566</td>\n",
       "      <td>-27.616971</td>\n",
       "      <td>58.48</td>\n",
       "      <td>66</td>\n",
       "      <td>0</td>\n",
       "      <td>9.78</td>\n",
       "    </tr>\n",
       "    <tr>\n",
       "      <th>3</th>\n",
       "      <td>fairlie</td>\n",
       "      <td>-44.337486</td>\n",
       "      <td>170.244063</td>\n",
       "      <td>46.56</td>\n",
       "      <td>89</td>\n",
       "      <td>56</td>\n",
       "      <td>4.34</td>\n",
       "    </tr>\n",
       "    <tr>\n",
       "      <th>4</th>\n",
       "      <td>estevan</td>\n",
       "      <td>48.946029</td>\n",
       "      <td>-102.682740</td>\n",
       "      <td>48.33</td>\n",
       "      <td>81</td>\n",
       "      <td>90</td>\n",
       "      <td>25.32</td>\n",
       "    </tr>\n",
       "    <tr>\n",
       "      <th>...</th>\n",
       "      <td>...</td>\n",
       "      <td>...</td>\n",
       "      <td>...</td>\n",
       "      <td>...</td>\n",
       "      <td>...</td>\n",
       "      <td>...</td>\n",
       "      <td>...</td>\n",
       "    </tr>\n",
       "    <tr>\n",
       "      <th>654</th>\n",
       "      <td>vaikam</td>\n",
       "      <td>9.747670</td>\n",
       "      <td>76.353942</td>\n",
       "      <td>77.02</td>\n",
       "      <td>89</td>\n",
       "      <td>100</td>\n",
       "      <td>5.73</td>\n",
       "    </tr>\n",
       "    <tr>\n",
       "      <th>655</th>\n",
       "      <td>san isidro</td>\n",
       "      <td>6.161389</td>\n",
       "      <td>129.789512</td>\n",
       "      <td>63.09</td>\n",
       "      <td>90</td>\n",
       "      <td>90</td>\n",
       "      <td>1.01</td>\n",
       "    </tr>\n",
       "    <tr>\n",
       "      <th>656</th>\n",
       "      <td>paamiut</td>\n",
       "      <td>60.559438</td>\n",
       "      <td>-51.687735</td>\n",
       "      <td>35.2</td>\n",
       "      <td>70</td>\n",
       "      <td>78</td>\n",
       "      <td>8.25</td>\n",
       "    </tr>\n",
       "    <tr>\n",
       "      <th>657</th>\n",
       "      <td>chipinge</td>\n",
       "      <td>-21.206469</td>\n",
       "      <td>32.930337</td>\n",
       "      <td>48.7</td>\n",
       "      <td>64</td>\n",
       "      <td>0</td>\n",
       "      <td>2.55</td>\n",
       "    </tr>\n",
       "    <tr>\n",
       "      <th>658</th>\n",
       "      <td>shunyi</td>\n",
       "      <td>40.077290</td>\n",
       "      <td>117.002410</td>\n",
       "      <td>59.38</td>\n",
       "      <td>77</td>\n",
       "      <td>0</td>\n",
       "      <td>2.24</td>\n",
       "    </tr>\n",
       "  </tbody>\n",
       "</table>\n",
       "<p>659 rows × 7 columns</p>\n",
       "</div>"
      ],
      "text/plain": [
       "    Nearest City   Latitude   Longitude Temperature (F) Humidity (%)  \\\n",
       "0       sankheda  21.972025   73.779098            87.8           53   \n",
       "1      jamestown -39.538875   -8.884986           80.26           47   \n",
       "2       cidreira -53.676566  -27.616971           58.48           66   \n",
       "3        fairlie -44.337486  170.244063           46.56           89   \n",
       "4        estevan  48.946029 -102.682740           48.33           81   \n",
       "..           ...        ...         ...             ...          ...   \n",
       "654       vaikam   9.747670   76.353942           77.02           89   \n",
       "655   san isidro   6.161389  129.789512           63.09           90   \n",
       "656      paamiut  60.559438  -51.687735            35.2           70   \n",
       "657     chipinge -21.206469   32.930337            48.7           64   \n",
       "658       shunyi  40.077290  117.002410           59.38           77   \n",
       "\n",
       "    Cloudiness (%) Wind Speed (mph)  \n",
       "0              100             9.44  \n",
       "1               20             13.8  \n",
       "2                0             9.78  \n",
       "3               56             4.34  \n",
       "4               90            25.32  \n",
       "..             ...              ...  \n",
       "654            100             5.73  \n",
       "655             90             1.01  \n",
       "656             78             8.25  \n",
       "657              0             2.55  \n",
       "658              0             2.24  \n",
       "\n",
       "[659 rows x 7 columns]"
      ]
     },
     "execution_count": 6,
     "metadata": {},
     "output_type": "execute_result"
    }
   ],
   "source": [
    "cities_df"
   ]
  },
  {
   "cell_type": "code",
   "execution_count": 7,
   "metadata": {},
   "outputs": [
    {
     "data": {
      "text/html": [
       "<div>\n",
       "<style scoped>\n",
       "    .dataframe tbody tr th:only-of-type {\n",
       "        vertical-align: middle;\n",
       "    }\n",
       "\n",
       "    .dataframe tbody tr th {\n",
       "        vertical-align: top;\n",
       "    }\n",
       "\n",
       "    .dataframe thead th {\n",
       "        text-align: right;\n",
       "    }\n",
       "</style>\n",
       "<table border=\"1\" class=\"dataframe\">\n",
       "  <thead>\n",
       "    <tr style=\"text-align: right;\">\n",
       "      <th></th>\n",
       "      <th>Nearest City</th>\n",
       "      <th>Latitude</th>\n",
       "      <th>Longitude</th>\n",
       "      <th>Temperature (F)</th>\n",
       "      <th>Humidity (%)</th>\n",
       "      <th>Cloudiness (%)</th>\n",
       "      <th>Wind Speed (mph)</th>\n",
       "    </tr>\n",
       "  </thead>\n",
       "  <tbody>\n",
       "    <tr>\n",
       "      <th>0</th>\n",
       "      <td>sankheda</td>\n",
       "      <td>21.972025</td>\n",
       "      <td>73.779098</td>\n",
       "      <td>87.80</td>\n",
       "      <td>53</td>\n",
       "      <td>100</td>\n",
       "      <td>9.44</td>\n",
       "    </tr>\n",
       "    <tr>\n",
       "      <th>1</th>\n",
       "      <td>jamestown</td>\n",
       "      <td>-39.538875</td>\n",
       "      <td>-8.884986</td>\n",
       "      <td>80.26</td>\n",
       "      <td>47</td>\n",
       "      <td>20</td>\n",
       "      <td>13.8</td>\n",
       "    </tr>\n",
       "    <tr>\n",
       "      <th>2</th>\n",
       "      <td>cidreira</td>\n",
       "      <td>-53.676566</td>\n",
       "      <td>-27.616971</td>\n",
       "      <td>58.48</td>\n",
       "      <td>66</td>\n",
       "      <td>0</td>\n",
       "      <td>9.78</td>\n",
       "    </tr>\n",
       "    <tr>\n",
       "      <th>3</th>\n",
       "      <td>fairlie</td>\n",
       "      <td>-44.337486</td>\n",
       "      <td>170.244063</td>\n",
       "      <td>46.56</td>\n",
       "      <td>89</td>\n",
       "      <td>56</td>\n",
       "      <td>4.34</td>\n",
       "    </tr>\n",
       "    <tr>\n",
       "      <th>4</th>\n",
       "      <td>estevan</td>\n",
       "      <td>48.946029</td>\n",
       "      <td>-102.682740</td>\n",
       "      <td>48.33</td>\n",
       "      <td>81</td>\n",
       "      <td>90</td>\n",
       "      <td>25.32</td>\n",
       "    </tr>\n",
       "    <tr>\n",
       "      <th>...</th>\n",
       "      <td>...</td>\n",
       "      <td>...</td>\n",
       "      <td>...</td>\n",
       "      <td>...</td>\n",
       "      <td>...</td>\n",
       "      <td>...</td>\n",
       "      <td>...</td>\n",
       "    </tr>\n",
       "    <tr>\n",
       "      <th>654</th>\n",
       "      <td>vaikam</td>\n",
       "      <td>9.747670</td>\n",
       "      <td>76.353942</td>\n",
       "      <td>77.02</td>\n",
       "      <td>89</td>\n",
       "      <td>100</td>\n",
       "      <td>5.73</td>\n",
       "    </tr>\n",
       "    <tr>\n",
       "      <th>655</th>\n",
       "      <td>san isidro</td>\n",
       "      <td>6.161389</td>\n",
       "      <td>129.789512</td>\n",
       "      <td>63.09</td>\n",
       "      <td>90</td>\n",
       "      <td>90</td>\n",
       "      <td>1.01</td>\n",
       "    </tr>\n",
       "    <tr>\n",
       "      <th>656</th>\n",
       "      <td>paamiut</td>\n",
       "      <td>60.559438</td>\n",
       "      <td>-51.687735</td>\n",
       "      <td>35.20</td>\n",
       "      <td>70</td>\n",
       "      <td>78</td>\n",
       "      <td>8.25</td>\n",
       "    </tr>\n",
       "    <tr>\n",
       "      <th>657</th>\n",
       "      <td>chipinge</td>\n",
       "      <td>-21.206469</td>\n",
       "      <td>32.930337</td>\n",
       "      <td>48.70</td>\n",
       "      <td>64</td>\n",
       "      <td>0</td>\n",
       "      <td>2.55</td>\n",
       "    </tr>\n",
       "    <tr>\n",
       "      <th>658</th>\n",
       "      <td>shunyi</td>\n",
       "      <td>40.077290</td>\n",
       "      <td>117.002410</td>\n",
       "      <td>59.38</td>\n",
       "      <td>77</td>\n",
       "      <td>0</td>\n",
       "      <td>2.24</td>\n",
       "    </tr>\n",
       "  </tbody>\n",
       "</table>\n",
       "<p>601 rows × 7 columns</p>\n",
       "</div>"
      ],
      "text/plain": [
       "    Nearest City   Latitude   Longitude  Temperature (F) Humidity (%)  \\\n",
       "0       sankheda  21.972025   73.779098            87.80           53   \n",
       "1      jamestown -39.538875   -8.884986            80.26           47   \n",
       "2       cidreira -53.676566  -27.616971            58.48           66   \n",
       "3        fairlie -44.337486  170.244063            46.56           89   \n",
       "4        estevan  48.946029 -102.682740            48.33           81   \n",
       "..           ...        ...         ...              ...          ...   \n",
       "654       vaikam   9.747670   76.353942            77.02           89   \n",
       "655   san isidro   6.161389  129.789512            63.09           90   \n",
       "656      paamiut  60.559438  -51.687735            35.20           70   \n",
       "657     chipinge -21.206469   32.930337            48.70           64   \n",
       "658       shunyi  40.077290  117.002410            59.38           77   \n",
       "\n",
       "    Cloudiness (%) Wind Speed (mph)  \n",
       "0              100             9.44  \n",
       "1               20             13.8  \n",
       "2                0             9.78  \n",
       "3               56             4.34  \n",
       "4               90            25.32  \n",
       "..             ...              ...  \n",
       "654            100             5.73  \n",
       "655             90             1.01  \n",
       "656             78             8.25  \n",
       "657              0             2.55  \n",
       "658              0             2.24  \n",
       "\n",
       "[601 rows x 7 columns]"
      ]
     },
     "execution_count": 7,
     "metadata": {},
     "output_type": "execute_result"
    }
   ],
   "source": [
    "cities_df['Temperature (F)'] = cities_df['Temperature (F)'].replace(\"\", np.nan)\n",
    "cities_df = cities_df.dropna(axis=0, subset=['Temperature (F)'])\n",
    "cities_df"
   ]
  },
  {
   "cell_type": "code",
   "execution_count": 8,
   "metadata": {},
   "outputs": [
    {
     "data": {
      "text/html": [
       "<div>\n",
       "<style scoped>\n",
       "    .dataframe tbody tr th:only-of-type {\n",
       "        vertical-align: middle;\n",
       "    }\n",
       "\n",
       "    .dataframe tbody tr th {\n",
       "        vertical-align: top;\n",
       "    }\n",
       "\n",
       "    .dataframe thead th {\n",
       "        text-align: right;\n",
       "    }\n",
       "</style>\n",
       "<table border=\"1\" class=\"dataframe\">\n",
       "  <thead>\n",
       "    <tr style=\"text-align: right;\">\n",
       "      <th></th>\n",
       "      <th>Nearest City</th>\n",
       "      <th>Latitude</th>\n",
       "      <th>Longitude</th>\n",
       "      <th>Temperature (F)</th>\n",
       "      <th>Humidity (%)</th>\n",
       "      <th>Cloudiness (%)</th>\n",
       "      <th>Wind Speed (mph)</th>\n",
       "    </tr>\n",
       "  </thead>\n",
       "  <tbody>\n",
       "    <tr>\n",
       "      <th>0</th>\n",
       "      <td>sankheda</td>\n",
       "      <td>21.972025</td>\n",
       "      <td>73.779098</td>\n",
       "      <td>87.80</td>\n",
       "      <td>53</td>\n",
       "      <td>100</td>\n",
       "      <td>9.44</td>\n",
       "    </tr>\n",
       "    <tr>\n",
       "      <th>1</th>\n",
       "      <td>jamestown</td>\n",
       "      <td>-39.538875</td>\n",
       "      <td>-8.884986</td>\n",
       "      <td>80.26</td>\n",
       "      <td>47</td>\n",
       "      <td>20</td>\n",
       "      <td>13.8</td>\n",
       "    </tr>\n",
       "    <tr>\n",
       "      <th>2</th>\n",
       "      <td>cidreira</td>\n",
       "      <td>-53.676566</td>\n",
       "      <td>-27.616971</td>\n",
       "      <td>58.48</td>\n",
       "      <td>66</td>\n",
       "      <td>0</td>\n",
       "      <td>9.78</td>\n",
       "    </tr>\n",
       "    <tr>\n",
       "      <th>3</th>\n",
       "      <td>fairlie</td>\n",
       "      <td>-44.337486</td>\n",
       "      <td>170.244063</td>\n",
       "      <td>46.56</td>\n",
       "      <td>89</td>\n",
       "      <td>56</td>\n",
       "      <td>4.34</td>\n",
       "    </tr>\n",
       "    <tr>\n",
       "      <th>4</th>\n",
       "      <td>estevan</td>\n",
       "      <td>48.946029</td>\n",
       "      <td>-102.682740</td>\n",
       "      <td>48.33</td>\n",
       "      <td>81</td>\n",
       "      <td>90</td>\n",
       "      <td>25.32</td>\n",
       "    </tr>\n",
       "    <tr>\n",
       "      <th>...</th>\n",
       "      <td>...</td>\n",
       "      <td>...</td>\n",
       "      <td>...</td>\n",
       "      <td>...</td>\n",
       "      <td>...</td>\n",
       "      <td>...</td>\n",
       "      <td>...</td>\n",
       "    </tr>\n",
       "    <tr>\n",
       "      <th>596</th>\n",
       "      <td>vaikam</td>\n",
       "      <td>9.747670</td>\n",
       "      <td>76.353942</td>\n",
       "      <td>77.02</td>\n",
       "      <td>89</td>\n",
       "      <td>100</td>\n",
       "      <td>5.73</td>\n",
       "    </tr>\n",
       "    <tr>\n",
       "      <th>597</th>\n",
       "      <td>san isidro</td>\n",
       "      <td>6.161389</td>\n",
       "      <td>129.789512</td>\n",
       "      <td>63.09</td>\n",
       "      <td>90</td>\n",
       "      <td>90</td>\n",
       "      <td>1.01</td>\n",
       "    </tr>\n",
       "    <tr>\n",
       "      <th>598</th>\n",
       "      <td>paamiut</td>\n",
       "      <td>60.559438</td>\n",
       "      <td>-51.687735</td>\n",
       "      <td>35.20</td>\n",
       "      <td>70</td>\n",
       "      <td>78</td>\n",
       "      <td>8.25</td>\n",
       "    </tr>\n",
       "    <tr>\n",
       "      <th>599</th>\n",
       "      <td>chipinge</td>\n",
       "      <td>-21.206469</td>\n",
       "      <td>32.930337</td>\n",
       "      <td>48.70</td>\n",
       "      <td>64</td>\n",
       "      <td>0</td>\n",
       "      <td>2.55</td>\n",
       "    </tr>\n",
       "    <tr>\n",
       "      <th>600</th>\n",
       "      <td>shunyi</td>\n",
       "      <td>40.077290</td>\n",
       "      <td>117.002410</td>\n",
       "      <td>59.38</td>\n",
       "      <td>77</td>\n",
       "      <td>0</td>\n",
       "      <td>2.24</td>\n",
       "    </tr>\n",
       "  </tbody>\n",
       "</table>\n",
       "<p>601 rows × 7 columns</p>\n",
       "</div>"
      ],
      "text/plain": [
       "    Nearest City   Latitude   Longitude  Temperature (F) Humidity (%)  \\\n",
       "0       sankheda  21.972025   73.779098            87.80           53   \n",
       "1      jamestown -39.538875   -8.884986            80.26           47   \n",
       "2       cidreira -53.676566  -27.616971            58.48           66   \n",
       "3        fairlie -44.337486  170.244063            46.56           89   \n",
       "4        estevan  48.946029 -102.682740            48.33           81   \n",
       "..           ...        ...         ...              ...          ...   \n",
       "596       vaikam   9.747670   76.353942            77.02           89   \n",
       "597   san isidro   6.161389  129.789512            63.09           90   \n",
       "598      paamiut  60.559438  -51.687735            35.20           70   \n",
       "599     chipinge -21.206469   32.930337            48.70           64   \n",
       "600       shunyi  40.077290  117.002410            59.38           77   \n",
       "\n",
       "    Cloudiness (%) Wind Speed (mph)  \n",
       "0              100             9.44  \n",
       "1               20             13.8  \n",
       "2                0             9.78  \n",
       "3               56             4.34  \n",
       "4               90            25.32  \n",
       "..             ...              ...  \n",
       "596            100             5.73  \n",
       "597             90             1.01  \n",
       "598             78             8.25  \n",
       "599              0             2.55  \n",
       "600              0             2.24  \n",
       "\n",
       "[601 rows x 7 columns]"
      ]
     },
     "execution_count": 8,
     "metadata": {},
     "output_type": "execute_result"
    }
   ],
   "source": [
    "cities_df = cities_df.reset_index(drop=True)\n",
    "cities_df"
   ]
  },
  {
   "cell_type": "markdown",
   "metadata": {},
   "source": [
    "### Convert Raw Data to DataFrame\n",
    "* Export the city data into a .csv.\n",
    "* Display the DataFrame"
   ]
  },
  {
   "cell_type": "code",
   "execution_count": 9,
   "metadata": {},
   "outputs": [],
   "source": [
    "cities_df.to_csv('Cities_Weather_Data.csv')"
   ]
  },
  {
   "cell_type": "code",
   "execution_count": 10,
   "metadata": {},
   "outputs": [
    {
     "data": {
      "text/plain": [
       "Nearest City         object\n",
       "Latitude            float64\n",
       "Longitude           float64\n",
       "Temperature (F)     float64\n",
       "Humidity (%)         object\n",
       "Cloudiness (%)       object\n",
       "Wind Speed (mph)     object\n",
       "dtype: object"
      ]
     },
     "execution_count": 10,
     "metadata": {},
     "output_type": "execute_result"
    }
   ],
   "source": [
    "cities_df.dtypes"
   ]
  },
  {
   "cell_type": "code",
   "execution_count": 11,
   "metadata": {},
   "outputs": [
    {
     "data": {
      "text/html": [
       "<div>\n",
       "<style scoped>\n",
       "    .dataframe tbody tr th:only-of-type {\n",
       "        vertical-align: middle;\n",
       "    }\n",
       "\n",
       "    .dataframe tbody tr th {\n",
       "        vertical-align: top;\n",
       "    }\n",
       "\n",
       "    .dataframe thead th {\n",
       "        text-align: right;\n",
       "    }\n",
       "</style>\n",
       "<table border=\"1\" class=\"dataframe\">\n",
       "  <thead>\n",
       "    <tr style=\"text-align: right;\">\n",
       "      <th></th>\n",
       "      <th>Nearest City</th>\n",
       "      <th>Latitude</th>\n",
       "      <th>Longitude</th>\n",
       "      <th>Temperature (F)</th>\n",
       "      <th>Humidity (%)</th>\n",
       "      <th>Cloudiness (%)</th>\n",
       "      <th>Wind Speed (mph)</th>\n",
       "    </tr>\n",
       "  </thead>\n",
       "  <tbody>\n",
       "    <tr>\n",
       "      <th>0</th>\n",
       "      <td>sankheda</td>\n",
       "      <td>21.972025</td>\n",
       "      <td>73.779098</td>\n",
       "      <td>87.80</td>\n",
       "      <td>53.0</td>\n",
       "      <td>100.0</td>\n",
       "      <td>9.44</td>\n",
       "    </tr>\n",
       "    <tr>\n",
       "      <th>1</th>\n",
       "      <td>jamestown</td>\n",
       "      <td>-39.538875</td>\n",
       "      <td>-8.884986</td>\n",
       "      <td>80.26</td>\n",
       "      <td>47.0</td>\n",
       "      <td>20.0</td>\n",
       "      <td>13.80</td>\n",
       "    </tr>\n",
       "    <tr>\n",
       "      <th>2</th>\n",
       "      <td>cidreira</td>\n",
       "      <td>-53.676566</td>\n",
       "      <td>-27.616971</td>\n",
       "      <td>58.48</td>\n",
       "      <td>66.0</td>\n",
       "      <td>0.0</td>\n",
       "      <td>9.78</td>\n",
       "    </tr>\n",
       "    <tr>\n",
       "      <th>3</th>\n",
       "      <td>fairlie</td>\n",
       "      <td>-44.337486</td>\n",
       "      <td>170.244063</td>\n",
       "      <td>46.56</td>\n",
       "      <td>89.0</td>\n",
       "      <td>56.0</td>\n",
       "      <td>4.34</td>\n",
       "    </tr>\n",
       "    <tr>\n",
       "      <th>4</th>\n",
       "      <td>estevan</td>\n",
       "      <td>48.946029</td>\n",
       "      <td>-102.682740</td>\n",
       "      <td>48.33</td>\n",
       "      <td>81.0</td>\n",
       "      <td>90.0</td>\n",
       "      <td>25.32</td>\n",
       "    </tr>\n",
       "    <tr>\n",
       "      <th>...</th>\n",
       "      <td>...</td>\n",
       "      <td>...</td>\n",
       "      <td>...</td>\n",
       "      <td>...</td>\n",
       "      <td>...</td>\n",
       "      <td>...</td>\n",
       "      <td>...</td>\n",
       "    </tr>\n",
       "    <tr>\n",
       "      <th>596</th>\n",
       "      <td>vaikam</td>\n",
       "      <td>9.747670</td>\n",
       "      <td>76.353942</td>\n",
       "      <td>77.02</td>\n",
       "      <td>89.0</td>\n",
       "      <td>100.0</td>\n",
       "      <td>5.73</td>\n",
       "    </tr>\n",
       "    <tr>\n",
       "      <th>597</th>\n",
       "      <td>san isidro</td>\n",
       "      <td>6.161389</td>\n",
       "      <td>129.789512</td>\n",
       "      <td>63.09</td>\n",
       "      <td>90.0</td>\n",
       "      <td>90.0</td>\n",
       "      <td>1.01</td>\n",
       "    </tr>\n",
       "    <tr>\n",
       "      <th>598</th>\n",
       "      <td>paamiut</td>\n",
       "      <td>60.559438</td>\n",
       "      <td>-51.687735</td>\n",
       "      <td>35.20</td>\n",
       "      <td>70.0</td>\n",
       "      <td>78.0</td>\n",
       "      <td>8.25</td>\n",
       "    </tr>\n",
       "    <tr>\n",
       "      <th>599</th>\n",
       "      <td>chipinge</td>\n",
       "      <td>-21.206469</td>\n",
       "      <td>32.930337</td>\n",
       "      <td>48.70</td>\n",
       "      <td>64.0</td>\n",
       "      <td>0.0</td>\n",
       "      <td>2.55</td>\n",
       "    </tr>\n",
       "    <tr>\n",
       "      <th>600</th>\n",
       "      <td>shunyi</td>\n",
       "      <td>40.077290</td>\n",
       "      <td>117.002410</td>\n",
       "      <td>59.38</td>\n",
       "      <td>77.0</td>\n",
       "      <td>0.0</td>\n",
       "      <td>2.24</td>\n",
       "    </tr>\n",
       "  </tbody>\n",
       "</table>\n",
       "<p>601 rows × 7 columns</p>\n",
       "</div>"
      ],
      "text/plain": [
       "    Nearest City   Latitude   Longitude  Temperature (F)  Humidity (%)  \\\n",
       "0       sankheda  21.972025   73.779098            87.80          53.0   \n",
       "1      jamestown -39.538875   -8.884986            80.26          47.0   \n",
       "2       cidreira -53.676566  -27.616971            58.48          66.0   \n",
       "3        fairlie -44.337486  170.244063            46.56          89.0   \n",
       "4        estevan  48.946029 -102.682740            48.33          81.0   \n",
       "..           ...        ...         ...              ...           ...   \n",
       "596       vaikam   9.747670   76.353942            77.02          89.0   \n",
       "597   san isidro   6.161389  129.789512            63.09          90.0   \n",
       "598      paamiut  60.559438  -51.687735            35.20          70.0   \n",
       "599     chipinge -21.206469   32.930337            48.70          64.0   \n",
       "600       shunyi  40.077290  117.002410            59.38          77.0   \n",
       "\n",
       "     Cloudiness (%)  Wind Speed (mph)  \n",
       "0             100.0              9.44  \n",
       "1              20.0             13.80  \n",
       "2               0.0              9.78  \n",
       "3              56.0              4.34  \n",
       "4              90.0             25.32  \n",
       "..              ...               ...  \n",
       "596           100.0              5.73  \n",
       "597            90.0              1.01  \n",
       "598            78.0              8.25  \n",
       "599             0.0              2.55  \n",
       "600             0.0              2.24  \n",
       "\n",
       "[601 rows x 7 columns]"
      ]
     },
     "execution_count": 11,
     "metadata": {},
     "output_type": "execute_result"
    }
   ],
   "source": [
    "cities_df['Humidity (%)'] = cities_df['Humidity (%)'].astype(float)\n",
    "cities_df['Cloudiness (%)'] = cities_df['Cloudiness (%)'].astype(float)\n",
    "cities_df['Wind Speed (mph)'] = cities_df['Wind Speed (mph)'].astype(float)\n",
    "cities_df"
   ]
  },
  {
   "cell_type": "code",
   "execution_count": 12,
   "metadata": {},
   "outputs": [
    {
     "data": {
      "text/plain": [
       "Nearest City         object\n",
       "Latitude            float64\n",
       "Longitude           float64\n",
       "Temperature (F)     float64\n",
       "Humidity (%)        float64\n",
       "Cloudiness (%)      float64\n",
       "Wind Speed (mph)    float64\n",
       "dtype: object"
      ]
     },
     "execution_count": 12,
     "metadata": {},
     "output_type": "execute_result"
    }
   ],
   "source": [
    "cities_df.dtypes"
   ]
  },
  {
   "cell_type": "markdown",
   "metadata": {},
   "source": [
    "## Inspect the data and remove the cities where the humidity > 100%.\n",
    "----\n",
    "Skip this step if there are no cities that have humidity > 100%. "
   ]
  },
  {
   "cell_type": "code",
   "execution_count": 13,
   "metadata": {},
   "outputs": [
    {
     "data": {
      "text/html": [
       "<div>\n",
       "<style scoped>\n",
       "    .dataframe tbody tr th:only-of-type {\n",
       "        vertical-align: middle;\n",
       "    }\n",
       "\n",
       "    .dataframe tbody tr th {\n",
       "        vertical-align: top;\n",
       "    }\n",
       "\n",
       "    .dataframe thead th {\n",
       "        text-align: right;\n",
       "    }\n",
       "</style>\n",
       "<table border=\"1\" class=\"dataframe\">\n",
       "  <thead>\n",
       "    <tr style=\"text-align: right;\">\n",
       "      <th></th>\n",
       "      <th>Nearest City</th>\n",
       "      <th>Latitude</th>\n",
       "      <th>Longitude</th>\n",
       "      <th>Temperature (F)</th>\n",
       "      <th>Humidity (%)</th>\n",
       "      <th>Cloudiness (%)</th>\n",
       "      <th>Wind Speed (mph)</th>\n",
       "    </tr>\n",
       "  </thead>\n",
       "  <tbody>\n",
       "  </tbody>\n",
       "</table>\n",
       "</div>"
      ],
      "text/plain": [
       "Empty DataFrame\n",
       "Columns: [Nearest City, Latitude, Longitude, Temperature (F), Humidity (%), Cloudiness (%), Wind Speed (mph)]\n",
       "Index: []"
      ]
     },
     "execution_count": 13,
     "metadata": {},
     "output_type": "execute_result"
    }
   ],
   "source": [
    "cities_df[cities_df['Humidity (%)']>100]"
   ]
  },
  {
   "cell_type": "code",
   "execution_count": 14,
   "metadata": {},
   "outputs": [],
   "source": [
    "#  Get the indices of cities that have humidity over 100%.\n"
   ]
  },
  {
   "cell_type": "code",
   "execution_count": 15,
   "metadata": {},
   "outputs": [],
   "source": [
    "# Make a new DataFrame equal to the city data to drop all humidity outliers by index.\n",
    "# Passing \"inplace=False\" will make a copy of the city_data DataFrame, which we call \"clean_city_data\".\n"
   ]
  },
  {
   "cell_type": "code",
   "execution_count": null,
   "metadata": {},
   "outputs": [],
   "source": [
    "\n"
   ]
  },
  {
   "cell_type": "markdown",
   "metadata": {},
   "source": [
    "## Plotting the Data\n",
    "* Use proper labeling of the plots using plot titles (including date of analysis) and axes labels.\n",
    "* Save the plotted figures as .pngs."
   ]
  },
  {
   "cell_type": "markdown",
   "metadata": {},
   "source": [
    "## Latitude vs. Temperature Plot"
   ]
  },
  {
   "cell_type": "code",
   "execution_count": 16,
   "metadata": {
    "scrolled": true
   },
   "outputs": [
    {
     "data": {
      "image/png": "[encoded data removed]",
      "text/plain": [
       "<Figure size 432x288 with 1 Axes>"
      ]
     },
     "metadata": {
      "needs_background": "light"
     },
     "output_type": "display_data"
    }
   ],
   "source": [
    "plt.scatter(cities_df['Latitude'], cities_df['Temperature (F)'])\n",
    "plt.show()"
   ]
  },
  {
   "cell_type": "markdown",
   "metadata": {},
   "source": [
    "Analysis - The Temperatures increase as the latitude moves from latitudes -90 to 0 and from 90 to 0, 0 being the equator, -90 being southpole and 90 being northpole."
   ]
  },
  {
   "cell_type": "markdown",
   "metadata": {},
   "source": [
    "## Latitude vs. Humidity Plot"
   ]
  },
  {
   "cell_type": "code",
   "execution_count": 17,
   "metadata": {},
   "outputs": [
    {
     "data": {
      "text/plain": [
       "<matplotlib.collections.PathCollection at 0x20178b4feb0>"
      ]
     },
     "execution_count": 17,
     "metadata": {},
     "output_type": "execute_result"
    },
    {
     "data": {
      "image/png": "[encoded data removed]",
      "text/plain": [
       "<Figure size 432x288 with 1 Axes>"
      ]
     },
     "metadata": {
      "needs_background": "light"
     },
     "output_type": "display_data"
    }
   ],
   "source": [
    "plt.scatter(cities_df['Latitude'], cities_df['Humidity (%)'])"
   ]
  },
  {
   "cell_type": "markdown",
   "metadata": {},
   "source": [
    "Analysis - "
   ]
  },
  {
   "cell_type": "markdown",
   "metadata": {},
   "source": [
    "## Latitude vs. Cloudiness Plot"
   ]
  },
  {
   "cell_type": "code",
   "execution_count": 18,
   "metadata": {},
   "outputs": [
    {
     "data": {
      "text/plain": [
       "<matplotlib.collections.PathCollection at 0x20178bab610>"
      ]
     },
     "execution_count": 18,
     "metadata": {},
     "output_type": "execute_result"
    },
    {
     "data": {
      "image/png": "[encoded data removed]",
      "text/plain": [
       "<Figure size 432x288 with 1 Axes>"
      ]
     },
     "metadata": {
      "needs_background": "light"
     },
     "output_type": "display_data"
    }
   ],
   "source": [
    "plt.scatter(cities_df['Latitude'], cities_df['Cloudiness (%)'])"
   ]
  },
  {
   "cell_type": "markdown",
   "metadata": {},
   "source": [
    "Analysis - "
   ]
  },
  {
   "cell_type": "markdown",
   "metadata": {},
   "source": [
    "## Latitude vs. Wind Speed Plot"
   ]
  },
  {
   "cell_type": "code",
   "execution_count": 19,
   "metadata": {},
   "outputs": [
    {
     "data": {
      "text/plain": [
       "<matplotlib.collections.PathCollection at 0x20178bfee80>"
      ]
     },
     "execution_count": 19,
     "metadata": {},
     "output_type": "execute_result"
    },
    {
     "data": {
      "image/png": "[encoded data removed]",
      "text/plain": [
       "<Figure size 432x288 with 1 Axes>"
      ]
     },
     "metadata": {
      "needs_background": "light"
     },
     "output_type": "display_data"
    }
   ],
   "source": [
    "plt.scatter(cities_df['Latitude'], cities_df['Wind Speed (mph)'])"
   ]
  },
  {
   "cell_type": "markdown",
   "metadata": {},
   "source": [
    "Analysis - "
   ]
  },
  {
   "cell_type": "markdown",
   "metadata": {},
   "source": [
    "## Linear Regression"
   ]
  },
  {
   "cell_type": "code",
   "execution_count": 20,
   "metadata": {},
   "outputs": [
    {
     "data": {
      "text/html": [
       "<div>\n",
       "<style scoped>\n",
       "    .dataframe tbody tr th:only-of-type {\n",
       "        vertical-align: middle;\n",
       "    }\n",
       "\n",
       "    .dataframe tbody tr th {\n",
       "        vertical-align: top;\n",
       "    }\n",
       "\n",
       "    .dataframe thead th {\n",
       "        text-align: right;\n",
       "    }\n",
       "</style>\n",
       "<table border=\"1\" class=\"dataframe\">\n",
       "  <thead>\n",
       "    <tr style=\"text-align: right;\">\n",
       "      <th></th>\n",
       "      <th>Nearest City</th>\n",
       "      <th>Latitude</th>\n",
       "      <th>Longitude</th>\n",
       "      <th>Temperature (F)</th>\n",
       "      <th>Humidity (%)</th>\n",
       "      <th>Cloudiness (%)</th>\n",
       "      <th>Wind Speed (mph)</th>\n",
       "    </tr>\n",
       "  </thead>\n",
       "  <tbody>\n",
       "    <tr>\n",
       "      <th>0</th>\n",
       "      <td>sankheda</td>\n",
       "      <td>21.972025</td>\n",
       "      <td>73.779098</td>\n",
       "      <td>87.80</td>\n",
       "      <td>53.0</td>\n",
       "      <td>100.0</td>\n",
       "      <td>9.44</td>\n",
       "    </tr>\n",
       "    <tr>\n",
       "      <th>4</th>\n",
       "      <td>estevan</td>\n",
       "      <td>48.946029</td>\n",
       "      <td>-102.682740</td>\n",
       "      <td>48.33</td>\n",
       "      <td>81.0</td>\n",
       "      <td>90.0</td>\n",
       "      <td>25.32</td>\n",
       "    </tr>\n",
       "    <tr>\n",
       "      <th>5</th>\n",
       "      <td>provideniya</td>\n",
       "      <td>57.565470</td>\n",
       "      <td>-170.780972</td>\n",
       "      <td>46.51</td>\n",
       "      <td>57.0</td>\n",
       "      <td>0.0</td>\n",
       "      <td>15.66</td>\n",
       "    </tr>\n",
       "    <tr>\n",
       "      <th>6</th>\n",
       "      <td>katsuura</td>\n",
       "      <td>26.834490</td>\n",
       "      <td>145.466467</td>\n",
       "      <td>68.20</td>\n",
       "      <td>77.0</td>\n",
       "      <td>95.0</td>\n",
       "      <td>13.87</td>\n",
       "    </tr>\n",
       "    <tr>\n",
       "      <th>7</th>\n",
       "      <td>pasighat</td>\n",
       "      <td>30.221908</td>\n",
       "      <td>95.905156</td>\n",
       "      <td>74.46</td>\n",
       "      <td>91.0</td>\n",
       "      <td>90.0</td>\n",
       "      <td>3.87</td>\n",
       "    </tr>\n",
       "    <tr>\n",
       "      <th>...</th>\n",
       "      <td>...</td>\n",
       "      <td>...</td>\n",
       "      <td>...</td>\n",
       "      <td>...</td>\n",
       "      <td>...</td>\n",
       "      <td>...</td>\n",
       "      <td>...</td>\n",
       "    </tr>\n",
       "    <tr>\n",
       "      <th>595</th>\n",
       "      <td>mata</td>\n",
       "      <td>21.280135</td>\n",
       "      <td>111.574424</td>\n",
       "      <td>59.59</td>\n",
       "      <td>51.0</td>\n",
       "      <td>100.0</td>\n",
       "      <td>4.25</td>\n",
       "    </tr>\n",
       "    <tr>\n",
       "      <th>596</th>\n",
       "      <td>vaikam</td>\n",
       "      <td>9.747670</td>\n",
       "      <td>76.353942</td>\n",
       "      <td>77.02</td>\n",
       "      <td>89.0</td>\n",
       "      <td>100.0</td>\n",
       "      <td>5.73</td>\n",
       "    </tr>\n",
       "    <tr>\n",
       "      <th>597</th>\n",
       "      <td>san isidro</td>\n",
       "      <td>6.161389</td>\n",
       "      <td>129.789512</td>\n",
       "      <td>63.09</td>\n",
       "      <td>90.0</td>\n",
       "      <td>90.0</td>\n",
       "      <td>1.01</td>\n",
       "    </tr>\n",
       "    <tr>\n",
       "      <th>598</th>\n",
       "      <td>paamiut</td>\n",
       "      <td>60.559438</td>\n",
       "      <td>-51.687735</td>\n",
       "      <td>35.20</td>\n",
       "      <td>70.0</td>\n",
       "      <td>78.0</td>\n",
       "      <td>8.25</td>\n",
       "    </tr>\n",
       "    <tr>\n",
       "      <th>600</th>\n",
       "      <td>shunyi</td>\n",
       "      <td>40.077290</td>\n",
       "      <td>117.002410</td>\n",
       "      <td>59.38</td>\n",
       "      <td>77.0</td>\n",
       "      <td>0.0</td>\n",
       "      <td>2.24</td>\n",
       "    </tr>\n",
       "  </tbody>\n",
       "</table>\n",
       "<p>403 rows × 7 columns</p>\n",
       "</div>"
      ],
      "text/plain": [
       "    Nearest City   Latitude   Longitude  Temperature (F)  Humidity (%)  \\\n",
       "0       sankheda  21.972025   73.779098            87.80          53.0   \n",
       "4        estevan  48.946029 -102.682740            48.33          81.0   \n",
       "5    provideniya  57.565470 -170.780972            46.51          57.0   \n",
       "6       katsuura  26.834490  145.466467            68.20          77.0   \n",
       "7       pasighat  30.221908   95.905156            74.46          91.0   \n",
       "..           ...        ...         ...              ...           ...   \n",
       "595         mata  21.280135  111.574424            59.59          51.0   \n",
       "596       vaikam   9.747670   76.353942            77.02          89.0   \n",
       "597   san isidro   6.161389  129.789512            63.09          90.0   \n",
       "598      paamiut  60.559438  -51.687735            35.20          70.0   \n",
       "600       shunyi  40.077290  117.002410            59.38          77.0   \n",
       "\n",
       "     Cloudiness (%)  Wind Speed (mph)  \n",
       "0             100.0              9.44  \n",
       "4              90.0             25.32  \n",
       "5               0.0             15.66  \n",
       "6              95.0             13.87  \n",
       "7              90.0              3.87  \n",
       "..              ...               ...  \n",
       "595           100.0              4.25  \n",
       "596           100.0              5.73  \n",
       "597            90.0              1.01  \n",
       "598            78.0              8.25  \n",
       "600             0.0              2.24  \n",
       "\n",
       "[403 rows x 7 columns]"
      ]
     },
     "execution_count": 20,
     "metadata": {},
     "output_type": "execute_result"
    }
   ],
   "source": [
    "Northern_df = cities_df[cities_df['Latitude']>0]\n",
    "Northern_df"
   ]
  },
  {
   "cell_type": "code",
   "execution_count": 21,
   "metadata": {},
   "outputs": [
    {
     "data": {
      "text/html": [
       "<div>\n",
       "<style scoped>\n",
       "    .dataframe tbody tr th:only-of-type {\n",
       "        vertical-align: middle;\n",
       "    }\n",
       "\n",
       "    .dataframe tbody tr th {\n",
       "        vertical-align: top;\n",
       "    }\n",
       "\n",
       "    .dataframe thead th {\n",
       "        text-align: right;\n",
       "    }\n",
       "</style>\n",
       "<table border=\"1\" class=\"dataframe\">\n",
       "  <thead>\n",
       "    <tr style=\"text-align: right;\">\n",
       "      <th></th>\n",
       "      <th>Nearest City</th>\n",
       "      <th>Latitude</th>\n",
       "      <th>Longitude</th>\n",
       "      <th>Temperature (F)</th>\n",
       "      <th>Humidity (%)</th>\n",
       "      <th>Cloudiness (%)</th>\n",
       "      <th>Wind Speed (mph)</th>\n",
       "    </tr>\n",
       "  </thead>\n",
       "  <tbody>\n",
       "    <tr>\n",
       "      <th>1</th>\n",
       "      <td>jamestown</td>\n",
       "      <td>-39.538875</td>\n",
       "      <td>-8.884986</td>\n",
       "      <td>80.26</td>\n",
       "      <td>47.0</td>\n",
       "      <td>20.0</td>\n",
       "      <td>13.80</td>\n",
       "    </tr>\n",
       "    <tr>\n",
       "      <th>2</th>\n",
       "      <td>cidreira</td>\n",
       "      <td>-53.676566</td>\n",
       "      <td>-27.616971</td>\n",
       "      <td>58.48</td>\n",
       "      <td>66.0</td>\n",
       "      <td>0.0</td>\n",
       "      <td>9.78</td>\n",
       "    </tr>\n",
       "    <tr>\n",
       "      <th>3</th>\n",
       "      <td>fairlie</td>\n",
       "      <td>-44.337486</td>\n",
       "      <td>170.244063</td>\n",
       "      <td>46.56</td>\n",
       "      <td>89.0</td>\n",
       "      <td>56.0</td>\n",
       "      <td>4.34</td>\n",
       "    </tr>\n",
       "    <tr>\n",
       "      <th>8</th>\n",
       "      <td>rikitea</td>\n",
       "      <td>-27.527914</td>\n",
       "      <td>-123.261294</td>\n",
       "      <td>76.95</td>\n",
       "      <td>79.0</td>\n",
       "      <td>55.0</td>\n",
       "      <td>11.27</td>\n",
       "    </tr>\n",
       "    <tr>\n",
       "      <th>10</th>\n",
       "      <td>hermanus</td>\n",
       "      <td>-73.572679</td>\n",
       "      <td>-3.695595</td>\n",
       "      <td>57.90</td>\n",
       "      <td>74.0</td>\n",
       "      <td>61.0</td>\n",
       "      <td>7.52</td>\n",
       "    </tr>\n",
       "    <tr>\n",
       "      <th>...</th>\n",
       "      <td>...</td>\n",
       "      <td>...</td>\n",
       "      <td>...</td>\n",
       "      <td>...</td>\n",
       "      <td>...</td>\n",
       "      <td>...</td>\n",
       "      <td>...</td>\n",
       "    </tr>\n",
       "    <tr>\n",
       "      <th>576</th>\n",
       "      <td>monte alegre</td>\n",
       "      <td>-2.272013</td>\n",
       "      <td>-54.107597</td>\n",
       "      <td>81.73</td>\n",
       "      <td>74.0</td>\n",
       "      <td>83.0</td>\n",
       "      <td>3.00</td>\n",
       "    </tr>\n",
       "    <tr>\n",
       "      <th>578</th>\n",
       "      <td>lithgow</td>\n",
       "      <td>-33.903722</td>\n",
       "      <td>149.897118</td>\n",
       "      <td>47.52</td>\n",
       "      <td>86.0</td>\n",
       "      <td>44.0</td>\n",
       "      <td>9.93</td>\n",
       "    </tr>\n",
       "    <tr>\n",
       "      <th>584</th>\n",
       "      <td>charagua</td>\n",
       "      <td>-19.851985</td>\n",
       "      <td>-62.042943</td>\n",
       "      <td>71.17</td>\n",
       "      <td>64.0</td>\n",
       "      <td>14.0</td>\n",
       "      <td>1.88</td>\n",
       "    </tr>\n",
       "    <tr>\n",
       "      <th>585</th>\n",
       "      <td>jaguaruna</td>\n",
       "      <td>-29.466296</td>\n",
       "      <td>-48.566534</td>\n",
       "      <td>57.36</td>\n",
       "      <td>69.0</td>\n",
       "      <td>4.0</td>\n",
       "      <td>0.78</td>\n",
       "    </tr>\n",
       "    <tr>\n",
       "      <th>599</th>\n",
       "      <td>chipinge</td>\n",
       "      <td>-21.206469</td>\n",
       "      <td>32.930337</td>\n",
       "      <td>48.70</td>\n",
       "      <td>64.0</td>\n",
       "      <td>0.0</td>\n",
       "      <td>2.55</td>\n",
       "    </tr>\n",
       "  </tbody>\n",
       "</table>\n",
       "<p>198 rows × 7 columns</p>\n",
       "</div>"
      ],
      "text/plain": [
       "     Nearest City   Latitude   Longitude  Temperature (F)  Humidity (%)  \\\n",
       "1       jamestown -39.538875   -8.884986            80.26          47.0   \n",
       "2        cidreira -53.676566  -27.616971            58.48          66.0   \n",
       "3         fairlie -44.337486  170.244063            46.56          89.0   \n",
       "8         rikitea -27.527914 -123.261294            76.95          79.0   \n",
       "10       hermanus -73.572679   -3.695595            57.90          74.0   \n",
       "..            ...        ...         ...              ...           ...   \n",
       "576  monte alegre  -2.272013  -54.107597            81.73          74.0   \n",
       "578       lithgow -33.903722  149.897118            47.52          86.0   \n",
       "584      charagua -19.851985  -62.042943            71.17          64.0   \n",
       "585     jaguaruna -29.466296  -48.566534            57.36          69.0   \n",
       "599      chipinge -21.206469   32.930337            48.70          64.0   \n",
       "\n",
       "     Cloudiness (%)  Wind Speed (mph)  \n",
       "1              20.0             13.80  \n",
       "2               0.0              9.78  \n",
       "3              56.0              4.34  \n",
       "8              55.0             11.27  \n",
       "10             61.0              7.52  \n",
       "..              ...               ...  \n",
       "576            83.0              3.00  \n",
       "578            44.0              9.93  \n",
       "584            14.0              1.88  \n",
       "585             4.0              0.78  \n",
       "599             0.0              2.55  \n",
       "\n",
       "[198 rows x 7 columns]"
      ]
     },
     "execution_count": 21,
     "metadata": {},
     "output_type": "execute_result"
    }
   ],
   "source": [
    "Southern_df = cities_df[cities_df['Latitude']<0]\n",
    "Southern_df"
   ]
  },
  {
   "cell_type": "markdown",
   "metadata": {},
   "source": [
    "####  Northern Hemisphere - Max Temp vs. Latitude Linear Regression"
   ]
  },
  {
   "cell_type": "code",
   "execution_count": 22,
   "metadata": {},
   "outputs": [
    {
     "data": {
      "image/png": "[encoded data removed]",
      "text/plain": [
       "<Figure size 432x288 with 1 Axes>"
      ]
     },
     "metadata": {
      "needs_background": "light"
     },
     "output_type": "display_data"
    }
   ],
   "source": [
    "x = Northern_df['Latitude']\n",
    "y = Northern_df['Temperature (F)']\n",
    "(slope, intercept, rvalue, pvalue, stderr) = linregress(x, y)\n",
    "regress_value = x*slope + intercept\n",
    "line_eq = \"y = \" + str(round(slope,2)) + \"x + \" + str(round(intercept,2))\n",
    "plt.scatter(x,y)\n",
    "plt.plot(x,regress_value,\"r-\")\n",
    "plt.annotate(line_eq,(5,30),fontsize=10,color=\"red\")\n",
    "plt.xlabel('Latitude')\n",
    "plt.ylabel('Temperature (F)')\n",
    "plt.show()"
   ]
  },
  {
   "cell_type": "markdown",
   "metadata": {},
   "source": [
    "####  Southern Hemisphere - Max Temp vs. Latitude Linear Regression"
   ]
  },
  {
   "cell_type": "code",
   "execution_count": 23,
   "metadata": {},
   "outputs": [
    {
     "data": {
      "image/png": "[encoded data removed]",
      "text/plain": [
       "<Figure size 432x288 with 1 Axes>"
      ]
     },
     "metadata": {
      "needs_background": "light"
     },
     "output_type": "display_data"
    }
   ],
   "source": [
    "x = Southern_df['Latitude']\n",
    "y = Southern_df['Temperature (F)']\n",
    "(slope, intercept, rvalue, pvalue, stderr) = linregress(x, y)\n",
    "regress_value = x*slope + intercept\n",
    "line_eq = \"y = \" + str(round(slope,2)) + \"x + \" + str(round(intercept,2))\n",
    "plt.scatter(x,y)\n",
    "plt.plot(x,regress_value,\"r-\")\n",
    "plt.annotate(line_eq,(-30,35),fontsize=10,color=\"red\")\n",
    "plt.xlabel('Latitude')\n",
    "plt.ylabel('Temperature (F)')\n",
    "plt.show()"
   ]
  },
  {
   "cell_type": "markdown",
   "metadata": {},
   "source": [
    "####  Northern Hemisphere - Humidity (%) vs. Latitude Linear Regression"
   ]
  },
  {
   "cell_type": "code",
   "execution_count": 24,
   "metadata": {},
   "outputs": [
    {
     "data": {
      "image/png": "[encoded data removed]",
      "text/plain": [
       "<Figure size 432x288 with 1 Axes>"
      ]
     },
     "metadata": {
      "needs_background": "light"
     },
     "output_type": "display_data"
    }
   ],
   "source": [
    "x = Northern_df['Latitude']\n",
    "y = Northern_df['Humidity (%)']\n",
    "(slope, intercept, rvalue, pvalue, stderr) = linregress(x, y)\n",
    "regress_value = x*slope + intercept\n",
    "line_eq = \"y = \" + str(round(slope,2)) + \"x + \" + str(round(intercept,2))\n",
    "plt.scatter(x,y)\n",
    "plt.plot(x,regress_value,\"r-\")\n",
    "plt.annotate(line_eq,(55,10),fontsize=10,color=\"red\")\n",
    "plt.xlabel('Latitude')\n",
    "plt.ylabel('Humidity (%)')\n",
    "plt.show()"
   ]
  },
  {
   "cell_type": "markdown",
   "metadata": {},
   "source": [
    "####  Southern Hemisphere - Humidity (%) vs. Latitude Linear Regression"
   ]
  },
  {
   "cell_type": "code",
   "execution_count": 25,
   "metadata": {},
   "outputs": [
    {
     "data": {
      "image/png": "[encoded data removed]",
      "text/plain": [
       "<Figure size 432x288 with 1 Axes>"
      ]
     },
     "metadata": {
      "needs_background": "light"
     },
     "output_type": "display_data"
    }
   ],
   "source": [
    "x = Southern_df['Latitude']\n",
    "y = Southern_df['Humidity (%)']\n",
    "(slope, intercept, rvalue, pvalue, stderr) = linregress(x, y)\n",
    "regress_value = x*slope + intercept\n",
    "line_eq = \"y = \" + str(round(slope,2)) + \"x + \" + str(round(intercept,2))\n",
    "plt.scatter(x,y)\n",
    "plt.plot(x,regress_value,\"r-\")\n",
    "plt.annotate(line_eq,(-80,20),fontsize=10,color=\"red\")\n",
    "plt.xlabel('Latitude')\n",
    "plt.ylabel('Humidity (%)')\n",
    "plt.show()"
   ]
  },
  {
   "cell_type": "markdown",
   "metadata": {},
   "source": [
    "####  Northern Hemisphere - Cloudiness (%) vs. Latitude Linear Regression"
   ]
  },
  {
   "cell_type": "code",
   "execution_count": 26,
   "metadata": {},
   "outputs": [
    {
     "data": {
      "image/png": "[encoded data removed]",
      "text/plain": [
       "<Figure size 432x288 with 1 Axes>"
      ]
     },
     "metadata": {
      "needs_background": "light"
     },
     "output_type": "display_data"
    }
   ],
   "source": [
    "x = Northern_df['Latitude']\n",
    "y = Northern_df['Cloudiness (%)']\n",
    "(slope, intercept, rvalue, pvalue, stderr) = linregress(x, y)\n",
    "regress_value = x*slope + intercept\n",
    "line_eq = \"y = \" + str(round(slope,2)) + \"x + \" + str(round(intercept,2))\n",
    "plt.scatter(x,y)\n",
    "plt.plot(x,regress_value,\"r-\")\n",
    "plt.annotate(line_eq,(68,5),fontsize=10,color=\"red\")\n",
    "plt.xlabel('Latitude')\n",
    "plt.ylabel('Cloudiness (%)')\n",
    "plt.show()"
   ]
  },
  {
   "cell_type": "markdown",
   "metadata": {},
   "source": [
    "####  Southern Hemisphere - Cloudiness (%) vs. Latitude Linear Regression"
   ]
  },
  {
   "cell_type": "code",
   "execution_count": 27,
   "metadata": {},
   "outputs": [
    {
     "data": {
      "image/png": "[encoded data removed]",
      "text/plain": [
       "<Figure size 432x288 with 1 Axes>"
      ]
     },
     "metadata": {
      "needs_background": "light"
     },
     "output_type": "display_data"
    }
   ],
   "source": [
    "x = Southern_df['Latitude']\n",
    "y = Southern_df['Cloudiness (%)']\n",
    "(slope, intercept, rvalue, pvalue, stderr) = linregress(x, y)\n",
    "regress_value = x*slope + intercept\n",
    "line_eq = \"y = \" + str(round(slope,2)) + \"x + \" + str(round(intercept,2))\n",
    "plt.scatter(x,y)\n",
    "plt.plot(x,regress_value,\"r-\")\n",
    "plt.annotate(line_eq,(-85,5),fontsize=10,color=\"red\")\n",
    "plt.xlabel('Latitude')\n",
    "plt.ylabel('Cloudiness (%)')\n",
    "plt.show()"
   ]
  },
  {
   "cell_type": "markdown",
   "metadata": {},
   "source": [
    "####  Northern Hemisphere - Wind Speed (mph) vs. Latitude Linear Regression"
   ]
  },
  {
   "cell_type": "code",
   "execution_count": 28,
   "metadata": {},
   "outputs": [
    {
     "data": {
      "image/png": "[encoded data removed]",
      "text/plain": [
       "<Figure size 432x288 with 1 Axes>"
      ]
     },
     "metadata": {
      "needs_background": "light"
     },
     "output_type": "display_data"
    }
   ],
   "source": [
    "x = Northern_df['Latitude']\n",
    "y = Northern_df['Wind Speed (mph)']\n",
    "(slope, intercept, rvalue, pvalue, stderr) = linregress(x, y)\n",
    "regress_value = x*slope + intercept\n",
    "line_eq = \"y = \" + str(round(slope,2)) + \"x + \" + str(round(intercept,2))\n",
    "plt.scatter(x,y)\n",
    "plt.plot(x,regress_value,\"r-\")\n",
    "plt.annotate(line_eq,(68,35),fontsize=10,color=\"red\")\n",
    "plt.xlabel('Latitude')\n",
    "plt.ylabel('Wind Speed (mph)')\n",
    "plt.show()"
   ]
  },
  {
   "cell_type": "markdown",
   "metadata": {},
   "source": [
    "####  Southern Hemisphere - Wind Speed (mph) vs. Latitude Linear Regression"
   ]
  },
  {
   "cell_type": "code",
   "execution_count": 29,
   "metadata": {},
   "outputs": [
    {
     "data": {
      "image/png": "[encoded data removed]",
      "text/plain": [
       "<Figure size 432x288 with 1 Axes>"
      ]
     },
     "metadata": {
      "needs_background": "light"
     },
     "output_type": "display_data"
    }
   ],
   "source": [
    "x = Southern_df['Latitude']\n",
    "y = Southern_df['Wind Speed (mph)']\n",
    "(slope, intercept, rvalue, pvalue, stderr) = linregress(x, y)\n",
    "regress_value = x*slope + intercept\n",
    "line_eq = \"y = \" + str(round(slope,2)) + \"x + \" + str(round(intercept,2))\n",
    "plt.scatter(x,y)\n",
    "plt.plot(x,regress_value,\"r-\")\n",
    "plt.annotate(line_eq,(-85,15),fontsize=10,color=\"red\")\n",
    "plt.xlabel('Latitude')\n",
    "plt.ylabel('Wind Speed (mph)')\n",
    "plt.show()"
   ]
  }
 ],
 "metadata": {
  "anaconda-cloud": {},
  "kernel_info": {
   "name": "python3"
  },
  "kernelspec": {
   "display_name": "Python [conda env:root] *",
   "language": "python",
   "name": "conda-root-py"
  },
  "language_info": {
   "codemirror_mode": {
    "name": "ipython",
    "version": 3
   },
   "file_extension": ".py",
   "mimetype": "text/x-python",
   "name": "python",
   "nbconvert_exporter": "python",
   "pygments_lexer": "ipython3",
   "version": "3.8.5"
  },
  "latex_envs": {
   "LaTeX_envs_menu_present": true,
   "autoclose": false,
   "autocomplete": true,
   "bibliofile": "biblio.bib",
   "cite_by": "apalike",
   "current_citInitial": 1,
   "eqLabelWithNumbers": true,
   "eqNumInitial": 1,
   "hotkeys": {
    "equation": "Ctrl-E",
    "itemize": "Ctrl-I"
   },
   "labels_anchors": false,
   "latex_user_defs": false,
   "report_style_numbering": false,
   "user_envs_cfg": false
  },
  "nteract": {
   "version": "0.12.3"
  }
 },
 "nbformat": 4,
 "nbformat_minor": 4
}
