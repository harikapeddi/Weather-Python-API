{
 "cells": [
  {
   "cell_type": "markdown",
   "metadata": {},
   "source": [
    "# WeatherPy\n",
    "----\n",
    "\n",
    "#### Note\n",
    "* Instructions have been included for each segment. You do not have to follow them exactly, but they are included to help you think through the steps."
   ]
  },
  {
   "cell_type": "code",
   "execution_count": 91,
   "metadata": {
    "scrolled": true
   },
   "outputs": [],
   "source": [
    "import pandas as pd\n",
    "import json\n",
    "import requests\n",
    "from api_keys import weather_api_key\n",
    "import numpy as np\n",
    "from citipy import citipy\n",
    "import random\n",
    "import matplotlib.pyplot as plt\n",
    "import scipy.stats as st\n",
    "from scipy.stats import linregress"
   ]
  },
  {
   "cell_type": "markdown",
   "metadata": {},
   "source": [
    "## Generate Cities List"
   ]
  },
  {
   "cell_type": "code",
   "execution_count": 64,
   "metadata": {},
   "outputs": [
    {
     "name": "stdout",
     "output_type": "stream",
     "text": [
      "583\n",
      "583\n",
      "583\n"
     ]
    }
   ],
   "source": [
    "city_list = []\n",
    "lat_list = []\n",
    "lng_list = []\n",
    "for i in range(0,1500):\n",
    "    lat = np.random.uniform(-90,90)\n",
    "    lng = np.random.uniform(-180,180)\n",
    "    city = citipy.nearest_city(lat,lng).city_name \n",
    "    if city not in city_list: \n",
    "        city_list.append(city)\n",
    "        lat_list.append(lat)\n",
    "        lng_list.append(lng)\n",
    "    \n",
    "print(len(city_list))\n",
    "print(len(lat_list))\n",
    "print(len(lng_list))"
   ]
  },
  {
   "cell_type": "code",
   "execution_count": 67,
   "metadata": {},
   "outputs": [
    {
     "data": {
      "text/html": [
       "<div>\n",
       "<style scoped>\n",
       "    .dataframe tbody tr th:only-of-type {\n",
       "        vertical-align: middle;\n",
       "    }\n",
       "\n",
       "    .dataframe tbody tr th {\n",
       "        vertical-align: top;\n",
       "    }\n",
       "\n",
       "    .dataframe thead th {\n",
       "        text-align: right;\n",
       "    }\n",
       "</style>\n",
       "<table border=\"1\" class=\"dataframe\">\n",
       "  <thead>\n",
       "    <tr style=\"text-align: right;\">\n",
       "      <th></th>\n",
       "      <th>Nearest City</th>\n",
       "      <th>Latitude</th>\n",
       "      <th>Longitude</th>\n",
       "    </tr>\n",
       "  </thead>\n",
       "  <tbody>\n",
       "    <tr>\n",
       "      <th>0</th>\n",
       "      <td>buon me thuot</td>\n",
       "      <td>12.498408</td>\n",
       "      <td>108.538659</td>\n",
       "    </tr>\n",
       "    <tr>\n",
       "      <th>1</th>\n",
       "      <td>busselton</td>\n",
       "      <td>-63.632887</td>\n",
       "      <td>86.729264</td>\n",
       "    </tr>\n",
       "    <tr>\n",
       "      <th>2</th>\n",
       "      <td>lavrentiya</td>\n",
       "      <td>72.063390</td>\n",
       "      <td>-173.120898</td>\n",
       "    </tr>\n",
       "    <tr>\n",
       "      <th>3</th>\n",
       "      <td>urussu</td>\n",
       "      <td>54.807694</td>\n",
       "      <td>53.373693</td>\n",
       "    </tr>\n",
       "    <tr>\n",
       "      <th>4</th>\n",
       "      <td>belaya gora</td>\n",
       "      <td>69.699525</td>\n",
       "      <td>146.233149</td>\n",
       "    </tr>\n",
       "    <tr>\n",
       "      <th>...</th>\n",
       "      <td>...</td>\n",
       "      <td>...</td>\n",
       "      <td>...</td>\n",
       "    </tr>\n",
       "    <tr>\n",
       "      <th>578</th>\n",
       "      <td>chunskiy</td>\n",
       "      <td>56.687720</td>\n",
       "      <td>100.225521</td>\n",
       "    </tr>\n",
       "    <tr>\n",
       "      <th>579</th>\n",
       "      <td>jaisinghnagar</td>\n",
       "      <td>23.781938</td>\n",
       "      <td>81.419756</td>\n",
       "    </tr>\n",
       "    <tr>\n",
       "      <th>580</th>\n",
       "      <td>xuanhua</td>\n",
       "      <td>39.748033</td>\n",
       "      <td>114.794620</td>\n",
       "    </tr>\n",
       "    <tr>\n",
       "      <th>581</th>\n",
       "      <td>constitucion</td>\n",
       "      <td>22.376346</td>\n",
       "      <td>-113.096267</td>\n",
       "    </tr>\n",
       "    <tr>\n",
       "      <th>582</th>\n",
       "      <td>tuapse</td>\n",
       "      <td>43.891005</td>\n",
       "      <td>38.870589</td>\n",
       "    </tr>\n",
       "  </tbody>\n",
       "</table>\n",
       "<p>583 rows × 3 columns</p>\n",
       "</div>"
      ],
      "text/plain": [
       "      Nearest City   Latitude   Longitude\n",
       "0    buon me thuot  12.498408  108.538659\n",
       "1        busselton -63.632887   86.729264\n",
       "2       lavrentiya  72.063390 -173.120898\n",
       "3           urussu  54.807694   53.373693\n",
       "4      belaya gora  69.699525  146.233149\n",
       "..             ...        ...         ...\n",
       "578       chunskiy  56.687720  100.225521\n",
       "579  jaisinghnagar  23.781938   81.419756\n",
       "580        xuanhua  39.748033  114.794620\n",
       "581   constitucion  22.376346 -113.096267\n",
       "582         tuapse  43.891005   38.870589\n",
       "\n",
       "[583 rows x 3 columns]"
      ]
     },
     "execution_count": 67,
     "metadata": {},
     "output_type": "execute_result"
    }
   ],
   "source": [
    "cities_df = pd.DataFrame({'Nearest City' : city_list, 'Latitude' : lat_list, 'Longitude': lng_list})\n",
    "cities_df = cities_df.rename(columns={0:'Nearest City'})\n",
    "cities_df"
   ]
  },
  {
   "cell_type": "code",
   "execution_count": 68,
   "metadata": {},
   "outputs": [
    {
     "data": {
      "text/html": [
       "<div>\n",
       "<style scoped>\n",
       "    .dataframe tbody tr th:only-of-type {\n",
       "        vertical-align: middle;\n",
       "    }\n",
       "\n",
       "    .dataframe tbody tr th {\n",
       "        vertical-align: top;\n",
       "    }\n",
       "\n",
       "    .dataframe thead th {\n",
       "        text-align: right;\n",
       "    }\n",
       "</style>\n",
       "<table border=\"1\" class=\"dataframe\">\n",
       "  <thead>\n",
       "    <tr style=\"text-align: right;\">\n",
       "      <th></th>\n",
       "      <th>Nearest City</th>\n",
       "      <th>Latitude</th>\n",
       "      <th>Longitude</th>\n",
       "    </tr>\n",
       "  </thead>\n",
       "  <tbody>\n",
       "    <tr>\n",
       "      <th>0</th>\n",
       "      <td>buon me thuot</td>\n",
       "      <td>12.498408</td>\n",
       "      <td>108.538659</td>\n",
       "    </tr>\n",
       "    <tr>\n",
       "      <th>1</th>\n",
       "      <td>busselton</td>\n",
       "      <td>-63.632887</td>\n",
       "      <td>86.729264</td>\n",
       "    </tr>\n",
       "    <tr>\n",
       "      <th>2</th>\n",
       "      <td>lavrentiya</td>\n",
       "      <td>72.063390</td>\n",
       "      <td>-173.120898</td>\n",
       "    </tr>\n",
       "    <tr>\n",
       "      <th>3</th>\n",
       "      <td>urussu</td>\n",
       "      <td>54.807694</td>\n",
       "      <td>53.373693</td>\n",
       "    </tr>\n",
       "    <tr>\n",
       "      <th>4</th>\n",
       "      <td>belaya gora</td>\n",
       "      <td>69.699525</td>\n",
       "      <td>146.233149</td>\n",
       "    </tr>\n",
       "    <tr>\n",
       "      <th>...</th>\n",
       "      <td>...</td>\n",
       "      <td>...</td>\n",
       "      <td>...</td>\n",
       "    </tr>\n",
       "    <tr>\n",
       "      <th>578</th>\n",
       "      <td>chunskiy</td>\n",
       "      <td>56.687720</td>\n",
       "      <td>100.225521</td>\n",
       "    </tr>\n",
       "    <tr>\n",
       "      <th>579</th>\n",
       "      <td>jaisinghnagar</td>\n",
       "      <td>23.781938</td>\n",
       "      <td>81.419756</td>\n",
       "    </tr>\n",
       "    <tr>\n",
       "      <th>580</th>\n",
       "      <td>xuanhua</td>\n",
       "      <td>39.748033</td>\n",
       "      <td>114.794620</td>\n",
       "    </tr>\n",
       "    <tr>\n",
       "      <th>581</th>\n",
       "      <td>constitucion</td>\n",
       "      <td>22.376346</td>\n",
       "      <td>-113.096267</td>\n",
       "    </tr>\n",
       "    <tr>\n",
       "      <th>582</th>\n",
       "      <td>tuapse</td>\n",
       "      <td>43.891005</td>\n",
       "      <td>38.870589</td>\n",
       "    </tr>\n",
       "  </tbody>\n",
       "</table>\n",
       "<p>583 rows × 3 columns</p>\n",
       "</div>"
      ],
      "text/plain": [
       "      Nearest City   Latitude   Longitude\n",
       "0    buon me thuot  12.498408  108.538659\n",
       "1        busselton -63.632887   86.729264\n",
       "2       lavrentiya  72.063390 -173.120898\n",
       "3           urussu  54.807694   53.373693\n",
       "4      belaya gora  69.699525  146.233149\n",
       "..             ...        ...         ...\n",
       "578       chunskiy  56.687720  100.225521\n",
       "579  jaisinghnagar  23.781938   81.419756\n",
       "580        xuanhua  39.748033  114.794620\n",
       "581   constitucion  22.376346 -113.096267\n",
       "582         tuapse  43.891005   38.870589\n",
       "\n",
       "[583 rows x 3 columns]"
      ]
     },
     "execution_count": 68,
     "metadata": {},
     "output_type": "execute_result"
    }
   ],
   "source": [
    "cities_df"
   ]
  },
  {
   "cell_type": "markdown",
   "metadata": {},
   "source": [
    "### Perform API Calls\n",
    "* Perform a weather check on each city using a series of successive API calls.\n",
    "* Include a print log of each city as it'sbeing processed (with the city number and city name).\n"
   ]
  },
  {
   "cell_type": "code",
   "execution_count": 69,
   "metadata": {
    "scrolled": true
   },
   "outputs": [
    {
     "name": "stdout",
     "output_type": "stream",
     "text": [
      "Missing City records for 0 : buon me thuot ... skipping.\n",
      "Missing City records for 10 : ayios matthaios ... skipping.\n",
      "Missing City records for 59 : mys shmidta ... skipping.\n",
      "Missing City records for 71 : taolanaro ... skipping.\n",
      "Missing City records for 79 : grand river south east ... skipping.\n",
      "Missing City records for 107 : huajuapan ... skipping.\n",
      "Missing City records for 114 : kazalinsk ... skipping.\n",
      "Missing City records for 118 : one hundred mile house ... skipping.\n",
      "Missing City records for 121 : temaraia ... skipping.\n",
      "Missing City records for 132 : nizhneyansk ... skipping.\n",
      "Missing City records for 133 : barentsburg ... skipping.\n",
      "Missing City records for 140 : illoqqortoormiut ... skipping.\n",
      "Missing City records for 144 : tsihombe ... skipping.\n",
      "Missing City records for 169 : lolua ... skipping.\n",
      "Missing City records for 180 : yandoon ... skipping.\n",
      "Missing City records for 184 : doctor pedro p. pena ... skipping.\n",
      "Missing City records for 205 : belushya guba ... skipping.\n",
      "Missing City records for 212 : meyungs ... skipping.\n",
      "Missing City records for 216 : vaitupu ... skipping.\n",
      "Missing City records for 230 : longlac ... skipping.\n",
      "Missing City records for 276 : rawannawi ... skipping.\n",
      "Missing City records for 284 : amderma ... skipping.\n",
      "Missing City records for 300 : kamenskoye ... skipping.\n",
      "Missing City records for 301 : falealupo ... skipping.\n",
      "Missing City records for 322 : marcona ... skipping.\n",
      "Missing City records for 323 : umzimvubu ... skipping.\n",
      "Missing City records for 328 : lucmayan ... skipping.\n",
      "Missing City records for 334 : guajara-mirim ... skipping.\n",
      "Missing City records for 353 : suzu ... skipping.\n",
      "Missing City records for 368 : attawapiskat ... skipping.\n",
      "Missing City records for 375 : saleaula ... skipping.\n",
      "Missing City records for 377 : artyk ... skipping.\n",
      "Missing City records for 384 : marv dasht ... skipping.\n",
      "Missing City records for 387 : sentyabrskiy ... skipping.\n",
      "Missing City records for 398 : juifang ... skipping.\n",
      "Missing City records for 407 : karaul ... skipping.\n",
      "Missing City records for 412 : barawe ... skipping.\n",
      "Missing City records for 423 : louisbourg ... skipping.\n",
      "Missing City records for 443 : palabuhanratu ... skipping.\n",
      "Missing City records for 450 : aflu ... skipping.\n",
      "Missing City records for 458 : chagda ... skipping.\n",
      "Missing City records for 481 : kegayli ... skipping.\n",
      "Missing City records for 486 : tabiauea ... skipping.\n",
      "Missing City records for 492 : sataua ... skipping.\n",
      "Missing City records for 494 : toliary ... skipping.\n",
      "Missing City records for 497 : warqla ... skipping.\n",
      "Missing City records for 502 : alotau ... skipping.\n",
      "Missing City records for 505 : bur gabo ... skipping.\n",
      "Missing City records for 506 : halalo ... skipping.\n",
      "Missing City records for 515 : labutta ... skipping.\n",
      "Missing City records for 523 : kesennuma ... skipping.\n",
      "Missing City records for 556 : litoral del san juan ... skipping.\n",
      "Missing City records for 558 : samusu ... skipping.\n",
      "Missing City records for 564 : manzil tamim ... skipping.\n"
     ]
    }
   ],
   "source": [
    "url = \"http://api.openweathermap.org/data/2.5/weather?q=\"\n",
    "\n",
    "units = 'imperial'\n",
    "\n",
    "cities_df['Temperature (F)'] = \"\"\n",
    "cities_df['Humidity (%)'] = \"\"\n",
    "cities_df['Cloudiness (%)'] = \"\"\n",
    "cities_df['Wind Speed (mph)'] = \"\"\n",
    "\n",
    "for index, row in cities_df.iterrows():\n",
    "    query_url = f\"{url}{row['Nearest City']}&appid={weather_api_key}&units={units}\"\n",
    "    response = requests.get(query_url).json()\n",
    "    \n",
    "    try:\n",
    "        cities_df.loc[index, 'Temperature (F)'] = response['main']['temp']\n",
    "        cities_df.loc[index, 'Humidity (%)'] = response['main']['humidity']\n",
    "        cities_df.loc[index, 'Cloudiness (%)'] = response['clouds']['all']\n",
    "        cities_df.loc[index, 'Wind Speed (mph)'] = response['wind']['speed']\n",
    "    except (KeyError, IndexError):\n",
    "        print(f\"Missing City records for {index} : {row['Nearest City']} ... skipping.\")\n",
    "  "
   ]
  },
  {
   "cell_type": "code",
   "execution_count": 70,
   "metadata": {},
   "outputs": [
    {
     "data": {
      "text/html": [
       "<div>\n",
       "<style scoped>\n",
       "    .dataframe tbody tr th:only-of-type {\n",
       "        vertical-align: middle;\n",
       "    }\n",
       "\n",
       "    .dataframe tbody tr th {\n",
       "        vertical-align: top;\n",
       "    }\n",
       "\n",
       "    .dataframe thead th {\n",
       "        text-align: right;\n",
       "    }\n",
       "</style>\n",
       "<table border=\"1\" class=\"dataframe\">\n",
       "  <thead>\n",
       "    <tr style=\"text-align: right;\">\n",
       "      <th></th>\n",
       "      <th>Nearest City</th>\n",
       "      <th>Latitude</th>\n",
       "      <th>Longitude</th>\n",
       "      <th>Temperature (F)</th>\n",
       "      <th>Humidity (%)</th>\n",
       "      <th>Cloudiness (%)</th>\n",
       "      <th>Wind Speed (mph)</th>\n",
       "    </tr>\n",
       "  </thead>\n",
       "  <tbody>\n",
       "    <tr>\n",
       "      <th>0</th>\n",
       "      <td>buon me thuot</td>\n",
       "      <td>12.498408</td>\n",
       "      <td>108.538659</td>\n",
       "      <td></td>\n",
       "      <td></td>\n",
       "      <td></td>\n",
       "      <td></td>\n",
       "    </tr>\n",
       "    <tr>\n",
       "      <th>1</th>\n",
       "      <td>busselton</td>\n",
       "      <td>-63.632887</td>\n",
       "      <td>86.729264</td>\n",
       "      <td>44.04</td>\n",
       "      <td>77</td>\n",
       "      <td>100</td>\n",
       "      <td>9.6</td>\n",
       "    </tr>\n",
       "    <tr>\n",
       "      <th>2</th>\n",
       "      <td>lavrentiya</td>\n",
       "      <td>72.063390</td>\n",
       "      <td>-173.120898</td>\n",
       "      <td>38.34</td>\n",
       "      <td>84</td>\n",
       "      <td>76</td>\n",
       "      <td>10.56</td>\n",
       "    </tr>\n",
       "    <tr>\n",
       "      <th>3</th>\n",
       "      <td>urussu</td>\n",
       "      <td>54.807694</td>\n",
       "      <td>53.373693</td>\n",
       "      <td>53.24</td>\n",
       "      <td>92</td>\n",
       "      <td>95</td>\n",
       "      <td>9.55</td>\n",
       "    </tr>\n",
       "    <tr>\n",
       "      <th>4</th>\n",
       "      <td>belaya gora</td>\n",
       "      <td>69.699525</td>\n",
       "      <td>146.233149</td>\n",
       "      <td>49.95</td>\n",
       "      <td>50</td>\n",
       "      <td>49</td>\n",
       "      <td>13.51</td>\n",
       "    </tr>\n",
       "    <tr>\n",
       "      <th>...</th>\n",
       "      <td>...</td>\n",
       "      <td>...</td>\n",
       "      <td>...</td>\n",
       "      <td>...</td>\n",
       "      <td>...</td>\n",
       "      <td>...</td>\n",
       "      <td>...</td>\n",
       "    </tr>\n",
       "    <tr>\n",
       "      <th>578</th>\n",
       "      <td>chunskiy</td>\n",
       "      <td>56.687720</td>\n",
       "      <td>100.225521</td>\n",
       "      <td>40.62</td>\n",
       "      <td>81</td>\n",
       "      <td>100</td>\n",
       "      <td>4.63</td>\n",
       "    </tr>\n",
       "    <tr>\n",
       "      <th>579</th>\n",
       "      <td>jaisinghnagar</td>\n",
       "      <td>23.781938</td>\n",
       "      <td>81.419756</td>\n",
       "      <td>78.76</td>\n",
       "      <td>27</td>\n",
       "      <td>94</td>\n",
       "      <td>4.43</td>\n",
       "    </tr>\n",
       "    <tr>\n",
       "      <th>580</th>\n",
       "      <td>xuanhua</td>\n",
       "      <td>39.748033</td>\n",
       "      <td>114.794620</td>\n",
       "      <td>60.49</td>\n",
       "      <td>51</td>\n",
       "      <td>33</td>\n",
       "      <td>5.73</td>\n",
       "    </tr>\n",
       "    <tr>\n",
       "      <th>581</th>\n",
       "      <td>constitucion</td>\n",
       "      <td>22.376346</td>\n",
       "      <td>-113.096267</td>\n",
       "      <td>56.95</td>\n",
       "      <td>79</td>\n",
       "      <td>99</td>\n",
       "      <td>11.18</td>\n",
       "    </tr>\n",
       "    <tr>\n",
       "      <th>582</th>\n",
       "      <td>tuapse</td>\n",
       "      <td>43.891005</td>\n",
       "      <td>38.870589</td>\n",
       "      <td>56.48</td>\n",
       "      <td>89</td>\n",
       "      <td>1</td>\n",
       "      <td>3.04</td>\n",
       "    </tr>\n",
       "  </tbody>\n",
       "</table>\n",
       "<p>583 rows × 7 columns</p>\n",
       "</div>"
      ],
      "text/plain": [
       "      Nearest City   Latitude   Longitude Temperature (F) Humidity (%)  \\\n",
       "0    buon me thuot  12.498408  108.538659                                \n",
       "1        busselton -63.632887   86.729264           44.04           77   \n",
       "2       lavrentiya  72.063390 -173.120898           38.34           84   \n",
       "3           urussu  54.807694   53.373693           53.24           92   \n",
       "4      belaya gora  69.699525  146.233149           49.95           50   \n",
       "..             ...        ...         ...             ...          ...   \n",
       "578       chunskiy  56.687720  100.225521           40.62           81   \n",
       "579  jaisinghnagar  23.781938   81.419756           78.76           27   \n",
       "580        xuanhua  39.748033  114.794620           60.49           51   \n",
       "581   constitucion  22.376346 -113.096267           56.95           79   \n",
       "582         tuapse  43.891005   38.870589           56.48           89   \n",
       "\n",
       "    Cloudiness (%) Wind Speed (mph)  \n",
       "0                                    \n",
       "1              100              9.6  \n",
       "2               76            10.56  \n",
       "3               95             9.55  \n",
       "4               49            13.51  \n",
       "..             ...              ...  \n",
       "578            100             4.63  \n",
       "579             94             4.43  \n",
       "580             33             5.73  \n",
       "581             99            11.18  \n",
       "582              1             3.04  \n",
       "\n",
       "[583 rows x 7 columns]"
      ]
     },
     "execution_count": 70,
     "metadata": {},
     "output_type": "execute_result"
    }
   ],
   "source": [
    "cities_df"
   ]
  },
  {
   "cell_type": "code",
   "execution_count": 73,
   "metadata": {},
   "outputs": [
    {
     "data": {
      "text/html": [
       "<div>\n",
       "<style scoped>\n",
       "    .dataframe tbody tr th:only-of-type {\n",
       "        vertical-align: middle;\n",
       "    }\n",
       "\n",
       "    .dataframe tbody tr th {\n",
       "        vertical-align: top;\n",
       "    }\n",
       "\n",
       "    .dataframe thead th {\n",
       "        text-align: right;\n",
       "    }\n",
       "</style>\n",
       "<table border=\"1\" class=\"dataframe\">\n",
       "  <thead>\n",
       "    <tr style=\"text-align: right;\">\n",
       "      <th></th>\n",
       "      <th>Nearest City</th>\n",
       "      <th>Latitude</th>\n",
       "      <th>Longitude</th>\n",
       "      <th>Temperature (F)</th>\n",
       "      <th>Humidity (%)</th>\n",
       "      <th>Cloudiness (%)</th>\n",
       "      <th>Wind Speed (mph)</th>\n",
       "    </tr>\n",
       "  </thead>\n",
       "  <tbody>\n",
       "    <tr>\n",
       "      <th>0</th>\n",
       "      <td>busselton</td>\n",
       "      <td>-63.632887</td>\n",
       "      <td>86.729264</td>\n",
       "      <td>44.04</td>\n",
       "      <td>77</td>\n",
       "      <td>100</td>\n",
       "      <td>9.6</td>\n",
       "    </tr>\n",
       "    <tr>\n",
       "      <th>1</th>\n",
       "      <td>lavrentiya</td>\n",
       "      <td>72.063390</td>\n",
       "      <td>-173.120898</td>\n",
       "      <td>38.34</td>\n",
       "      <td>84</td>\n",
       "      <td>76</td>\n",
       "      <td>10.56</td>\n",
       "    </tr>\n",
       "    <tr>\n",
       "      <th>2</th>\n",
       "      <td>urussu</td>\n",
       "      <td>54.807694</td>\n",
       "      <td>53.373693</td>\n",
       "      <td>53.24</td>\n",
       "      <td>92</td>\n",
       "      <td>95</td>\n",
       "      <td>9.55</td>\n",
       "    </tr>\n",
       "    <tr>\n",
       "      <th>3</th>\n",
       "      <td>belaya gora</td>\n",
       "      <td>69.699525</td>\n",
       "      <td>146.233149</td>\n",
       "      <td>49.95</td>\n",
       "      <td>50</td>\n",
       "      <td>49</td>\n",
       "      <td>13.51</td>\n",
       "    </tr>\n",
       "    <tr>\n",
       "      <th>4</th>\n",
       "      <td>albany</td>\n",
       "      <td>-58.223640</td>\n",
       "      <td>123.310477</td>\n",
       "      <td>76.41</td>\n",
       "      <td>58</td>\n",
       "      <td>98</td>\n",
       "      <td>8.08</td>\n",
       "    </tr>\n",
       "    <tr>\n",
       "      <th>...</th>\n",
       "      <td>...</td>\n",
       "      <td>...</td>\n",
       "      <td>...</td>\n",
       "      <td>...</td>\n",
       "      <td>...</td>\n",
       "      <td>...</td>\n",
       "      <td>...</td>\n",
       "    </tr>\n",
       "    <tr>\n",
       "      <th>524</th>\n",
       "      <td>chunskiy</td>\n",
       "      <td>56.687720</td>\n",
       "      <td>100.225521</td>\n",
       "      <td>40.62</td>\n",
       "      <td>81</td>\n",
       "      <td>100</td>\n",
       "      <td>4.63</td>\n",
       "    </tr>\n",
       "    <tr>\n",
       "      <th>525</th>\n",
       "      <td>jaisinghnagar</td>\n",
       "      <td>23.781938</td>\n",
       "      <td>81.419756</td>\n",
       "      <td>78.76</td>\n",
       "      <td>27</td>\n",
       "      <td>94</td>\n",
       "      <td>4.43</td>\n",
       "    </tr>\n",
       "    <tr>\n",
       "      <th>526</th>\n",
       "      <td>xuanhua</td>\n",
       "      <td>39.748033</td>\n",
       "      <td>114.794620</td>\n",
       "      <td>60.49</td>\n",
       "      <td>51</td>\n",
       "      <td>33</td>\n",
       "      <td>5.73</td>\n",
       "    </tr>\n",
       "    <tr>\n",
       "      <th>527</th>\n",
       "      <td>constitucion</td>\n",
       "      <td>22.376346</td>\n",
       "      <td>-113.096267</td>\n",
       "      <td>56.95</td>\n",
       "      <td>79</td>\n",
       "      <td>99</td>\n",
       "      <td>11.18</td>\n",
       "    </tr>\n",
       "    <tr>\n",
       "      <th>528</th>\n",
       "      <td>tuapse</td>\n",
       "      <td>43.891005</td>\n",
       "      <td>38.870589</td>\n",
       "      <td>56.48</td>\n",
       "      <td>89</td>\n",
       "      <td>1</td>\n",
       "      <td>3.04</td>\n",
       "    </tr>\n",
       "  </tbody>\n",
       "</table>\n",
       "<p>529 rows × 7 columns</p>\n",
       "</div>"
      ],
      "text/plain": [
       "      Nearest City   Latitude   Longitude  Temperature (F) Humidity (%)  \\\n",
       "0        busselton -63.632887   86.729264            44.04           77   \n",
       "1       lavrentiya  72.063390 -173.120898            38.34           84   \n",
       "2           urussu  54.807694   53.373693            53.24           92   \n",
       "3      belaya gora  69.699525  146.233149            49.95           50   \n",
       "4           albany -58.223640  123.310477            76.41           58   \n",
       "..             ...        ...         ...              ...          ...   \n",
       "524       chunskiy  56.687720  100.225521            40.62           81   \n",
       "525  jaisinghnagar  23.781938   81.419756            78.76           27   \n",
       "526        xuanhua  39.748033  114.794620            60.49           51   \n",
       "527   constitucion  22.376346 -113.096267            56.95           79   \n",
       "528         tuapse  43.891005   38.870589            56.48           89   \n",
       "\n",
       "    Cloudiness (%) Wind Speed (mph)  \n",
       "0              100              9.6  \n",
       "1               76            10.56  \n",
       "2               95             9.55  \n",
       "3               49            13.51  \n",
       "4               98             8.08  \n",
       "..             ...              ...  \n",
       "524            100             4.63  \n",
       "525             94             4.43  \n",
       "526             33             5.73  \n",
       "527             99            11.18  \n",
       "528              1             3.04  \n",
       "\n",
       "[529 rows x 7 columns]"
      ]
     },
     "execution_count": 73,
     "metadata": {},
     "output_type": "execute_result"
    }
   ],
   "source": [
    "cities_df['Temperature (F)'] = cities_df['Temperature (F)'].replace(\"\", np.nan)\n",
    "cities_df = cities_df.dropna(axis=0, subset=['Temperature (F)'])\n",
    "cities_df"
   ]
  },
  {
   "cell_type": "code",
   "execution_count": 75,
   "metadata": {},
   "outputs": [
    {
     "data": {
      "text/html": [
       "<div>\n",
       "<style scoped>\n",
       "    .dataframe tbody tr th:only-of-type {\n",
       "        vertical-align: middle;\n",
       "    }\n",
       "\n",
       "    .dataframe tbody tr th {\n",
       "        vertical-align: top;\n",
       "    }\n",
       "\n",
       "    .dataframe thead th {\n",
       "        text-align: right;\n",
       "    }\n",
       "</style>\n",
       "<table border=\"1\" class=\"dataframe\">\n",
       "  <thead>\n",
       "    <tr style=\"text-align: right;\">\n",
       "      <th></th>\n",
       "      <th>Nearest City</th>\n",
       "      <th>Latitude</th>\n",
       "      <th>Longitude</th>\n",
       "      <th>Temperature (F)</th>\n",
       "      <th>Humidity (%)</th>\n",
       "      <th>Cloudiness (%)</th>\n",
       "      <th>Wind Speed (mph)</th>\n",
       "    </tr>\n",
       "  </thead>\n",
       "  <tbody>\n",
       "    <tr>\n",
       "      <th>0</th>\n",
       "      <td>busselton</td>\n",
       "      <td>-63.632887</td>\n",
       "      <td>86.729264</td>\n",
       "      <td>44.04</td>\n",
       "      <td>77</td>\n",
       "      <td>100</td>\n",
       "      <td>9.6</td>\n",
       "    </tr>\n",
       "    <tr>\n",
       "      <th>1</th>\n",
       "      <td>lavrentiya</td>\n",
       "      <td>72.063390</td>\n",
       "      <td>-173.120898</td>\n",
       "      <td>38.34</td>\n",
       "      <td>84</td>\n",
       "      <td>76</td>\n",
       "      <td>10.56</td>\n",
       "    </tr>\n",
       "    <tr>\n",
       "      <th>2</th>\n",
       "      <td>urussu</td>\n",
       "      <td>54.807694</td>\n",
       "      <td>53.373693</td>\n",
       "      <td>53.24</td>\n",
       "      <td>92</td>\n",
       "      <td>95</td>\n",
       "      <td>9.55</td>\n",
       "    </tr>\n",
       "    <tr>\n",
       "      <th>3</th>\n",
       "      <td>belaya gora</td>\n",
       "      <td>69.699525</td>\n",
       "      <td>146.233149</td>\n",
       "      <td>49.95</td>\n",
       "      <td>50</td>\n",
       "      <td>49</td>\n",
       "      <td>13.51</td>\n",
       "    </tr>\n",
       "    <tr>\n",
       "      <th>4</th>\n",
       "      <td>albany</td>\n",
       "      <td>-58.223640</td>\n",
       "      <td>123.310477</td>\n",
       "      <td>76.41</td>\n",
       "      <td>58</td>\n",
       "      <td>98</td>\n",
       "      <td>8.08</td>\n",
       "    </tr>\n",
       "    <tr>\n",
       "      <th>...</th>\n",
       "      <td>...</td>\n",
       "      <td>...</td>\n",
       "      <td>...</td>\n",
       "      <td>...</td>\n",
       "      <td>...</td>\n",
       "      <td>...</td>\n",
       "      <td>...</td>\n",
       "    </tr>\n",
       "    <tr>\n",
       "      <th>524</th>\n",
       "      <td>chunskiy</td>\n",
       "      <td>56.687720</td>\n",
       "      <td>100.225521</td>\n",
       "      <td>40.62</td>\n",
       "      <td>81</td>\n",
       "      <td>100</td>\n",
       "      <td>4.63</td>\n",
       "    </tr>\n",
       "    <tr>\n",
       "      <th>525</th>\n",
       "      <td>jaisinghnagar</td>\n",
       "      <td>23.781938</td>\n",
       "      <td>81.419756</td>\n",
       "      <td>78.76</td>\n",
       "      <td>27</td>\n",
       "      <td>94</td>\n",
       "      <td>4.43</td>\n",
       "    </tr>\n",
       "    <tr>\n",
       "      <th>526</th>\n",
       "      <td>xuanhua</td>\n",
       "      <td>39.748033</td>\n",
       "      <td>114.794620</td>\n",
       "      <td>60.49</td>\n",
       "      <td>51</td>\n",
       "      <td>33</td>\n",
       "      <td>5.73</td>\n",
       "    </tr>\n",
       "    <tr>\n",
       "      <th>527</th>\n",
       "      <td>constitucion</td>\n",
       "      <td>22.376346</td>\n",
       "      <td>-113.096267</td>\n",
       "      <td>56.95</td>\n",
       "      <td>79</td>\n",
       "      <td>99</td>\n",
       "      <td>11.18</td>\n",
       "    </tr>\n",
       "    <tr>\n",
       "      <th>528</th>\n",
       "      <td>tuapse</td>\n",
       "      <td>43.891005</td>\n",
       "      <td>38.870589</td>\n",
       "      <td>56.48</td>\n",
       "      <td>89</td>\n",
       "      <td>1</td>\n",
       "      <td>3.04</td>\n",
       "    </tr>\n",
       "  </tbody>\n",
       "</table>\n",
       "<p>529 rows × 7 columns</p>\n",
       "</div>"
      ],
      "text/plain": [
       "      Nearest City   Latitude   Longitude  Temperature (F) Humidity (%)  \\\n",
       "0        busselton -63.632887   86.729264            44.04           77   \n",
       "1       lavrentiya  72.063390 -173.120898            38.34           84   \n",
       "2           urussu  54.807694   53.373693            53.24           92   \n",
       "3      belaya gora  69.699525  146.233149            49.95           50   \n",
       "4           albany -58.223640  123.310477            76.41           58   \n",
       "..             ...        ...         ...              ...          ...   \n",
       "524       chunskiy  56.687720  100.225521            40.62           81   \n",
       "525  jaisinghnagar  23.781938   81.419756            78.76           27   \n",
       "526        xuanhua  39.748033  114.794620            60.49           51   \n",
       "527   constitucion  22.376346 -113.096267            56.95           79   \n",
       "528         tuapse  43.891005   38.870589            56.48           89   \n",
       "\n",
       "    Cloudiness (%) Wind Speed (mph)  \n",
       "0              100              9.6  \n",
       "1               76            10.56  \n",
       "2               95             9.55  \n",
       "3               49            13.51  \n",
       "4               98             8.08  \n",
       "..             ...              ...  \n",
       "524            100             4.63  \n",
       "525             94             4.43  \n",
       "526             33             5.73  \n",
       "527             99            11.18  \n",
       "528              1             3.04  \n",
       "\n",
       "[529 rows x 7 columns]"
      ]
     },
     "execution_count": 75,
     "metadata": {},
     "output_type": "execute_result"
    }
   ],
   "source": [
    "cities_df = cities_df.reset_index(drop=True)\n",
    "cities_df"
   ]
  },
  {
   "cell_type": "markdown",
   "metadata": {},
   "source": [
    "### Convert Raw Data to DataFrame\n",
    "* Export the city data into a .csv.\n",
    "* Display the DataFrame"
   ]
  },
  {
   "cell_type": "code",
   "execution_count": 77,
   "metadata": {},
   "outputs": [],
   "source": [
    "cities_df.to_csv('Cities_Weather_Data.csv')"
   ]
  },
  {
   "cell_type": "code",
   "execution_count": 78,
   "metadata": {},
   "outputs": [
    {
     "data": {
      "text/plain": [
       "Nearest City         object\n",
       "Latitude            float64\n",
       "Longitude           float64\n",
       "Temperature (F)     float64\n",
       "Humidity (%)         object\n",
       "Cloudiness (%)       object\n",
       "Wind Speed (mph)     object\n",
       "dtype: object"
      ]
     },
     "execution_count": 78,
     "metadata": {},
     "output_type": "execute_result"
    }
   ],
   "source": [
    "cities_df.dtypes"
   ]
  },
  {
   "cell_type": "code",
   "execution_count": 79,
   "metadata": {},
   "outputs": [
    {
     "data": {
      "text/html": [
       "<div>\n",
       "<style scoped>\n",
       "    .dataframe tbody tr th:only-of-type {\n",
       "        vertical-align: middle;\n",
       "    }\n",
       "\n",
       "    .dataframe tbody tr th {\n",
       "        vertical-align: top;\n",
       "    }\n",
       "\n",
       "    .dataframe thead th {\n",
       "        text-align: right;\n",
       "    }\n",
       "</style>\n",
       "<table border=\"1\" class=\"dataframe\">\n",
       "  <thead>\n",
       "    <tr style=\"text-align: right;\">\n",
       "      <th></th>\n",
       "      <th>Nearest City</th>\n",
       "      <th>Latitude</th>\n",
       "      <th>Longitude</th>\n",
       "      <th>Temperature (F)</th>\n",
       "      <th>Humidity (%)</th>\n",
       "      <th>Cloudiness (%)</th>\n",
       "      <th>Wind Speed (mph)</th>\n",
       "    </tr>\n",
       "  </thead>\n",
       "  <tbody>\n",
       "    <tr>\n",
       "      <th>0</th>\n",
       "      <td>busselton</td>\n",
       "      <td>-63.632887</td>\n",
       "      <td>86.729264</td>\n",
       "      <td>44.04</td>\n",
       "      <td>77.0</td>\n",
       "      <td>100.0</td>\n",
       "      <td>9.60</td>\n",
       "    </tr>\n",
       "    <tr>\n",
       "      <th>1</th>\n",
       "      <td>lavrentiya</td>\n",
       "      <td>72.063390</td>\n",
       "      <td>-173.120898</td>\n",
       "      <td>38.34</td>\n",
       "      <td>84.0</td>\n",
       "      <td>76.0</td>\n",
       "      <td>10.56</td>\n",
       "    </tr>\n",
       "    <tr>\n",
       "      <th>2</th>\n",
       "      <td>urussu</td>\n",
       "      <td>54.807694</td>\n",
       "      <td>53.373693</td>\n",
       "      <td>53.24</td>\n",
       "      <td>92.0</td>\n",
       "      <td>95.0</td>\n",
       "      <td>9.55</td>\n",
       "    </tr>\n",
       "    <tr>\n",
       "      <th>3</th>\n",
       "      <td>belaya gora</td>\n",
       "      <td>69.699525</td>\n",
       "      <td>146.233149</td>\n",
       "      <td>49.95</td>\n",
       "      <td>50.0</td>\n",
       "      <td>49.0</td>\n",
       "      <td>13.51</td>\n",
       "    </tr>\n",
       "    <tr>\n",
       "      <th>4</th>\n",
       "      <td>albany</td>\n",
       "      <td>-58.223640</td>\n",
       "      <td>123.310477</td>\n",
       "      <td>76.41</td>\n",
       "      <td>58.0</td>\n",
       "      <td>98.0</td>\n",
       "      <td>8.08</td>\n",
       "    </tr>\n",
       "    <tr>\n",
       "      <th>...</th>\n",
       "      <td>...</td>\n",
       "      <td>...</td>\n",
       "      <td>...</td>\n",
       "      <td>...</td>\n",
       "      <td>...</td>\n",
       "      <td>...</td>\n",
       "      <td>...</td>\n",
       "    </tr>\n",
       "    <tr>\n",
       "      <th>524</th>\n",
       "      <td>chunskiy</td>\n",
       "      <td>56.687720</td>\n",
       "      <td>100.225521</td>\n",
       "      <td>40.62</td>\n",
       "      <td>81.0</td>\n",
       "      <td>100.0</td>\n",
       "      <td>4.63</td>\n",
       "    </tr>\n",
       "    <tr>\n",
       "      <th>525</th>\n",
       "      <td>jaisinghnagar</td>\n",
       "      <td>23.781938</td>\n",
       "      <td>81.419756</td>\n",
       "      <td>78.76</td>\n",
       "      <td>27.0</td>\n",
       "      <td>94.0</td>\n",
       "      <td>4.43</td>\n",
       "    </tr>\n",
       "    <tr>\n",
       "      <th>526</th>\n",
       "      <td>xuanhua</td>\n",
       "      <td>39.748033</td>\n",
       "      <td>114.794620</td>\n",
       "      <td>60.49</td>\n",
       "      <td>51.0</td>\n",
       "      <td>33.0</td>\n",
       "      <td>5.73</td>\n",
       "    </tr>\n",
       "    <tr>\n",
       "      <th>527</th>\n",
       "      <td>constitucion</td>\n",
       "      <td>22.376346</td>\n",
       "      <td>-113.096267</td>\n",
       "      <td>56.95</td>\n",
       "      <td>79.0</td>\n",
       "      <td>99.0</td>\n",
       "      <td>11.18</td>\n",
       "    </tr>\n",
       "    <tr>\n",
       "      <th>528</th>\n",
       "      <td>tuapse</td>\n",
       "      <td>43.891005</td>\n",
       "      <td>38.870589</td>\n",
       "      <td>56.48</td>\n",
       "      <td>89.0</td>\n",
       "      <td>1.0</td>\n",
       "      <td>3.04</td>\n",
       "    </tr>\n",
       "  </tbody>\n",
       "</table>\n",
       "<p>529 rows × 7 columns</p>\n",
       "</div>"
      ],
      "text/plain": [
       "      Nearest City   Latitude   Longitude  Temperature (F)  Humidity (%)  \\\n",
       "0        busselton -63.632887   86.729264            44.04          77.0   \n",
       "1       lavrentiya  72.063390 -173.120898            38.34          84.0   \n",
       "2           urussu  54.807694   53.373693            53.24          92.0   \n",
       "3      belaya gora  69.699525  146.233149            49.95          50.0   \n",
       "4           albany -58.223640  123.310477            76.41          58.0   \n",
       "..             ...        ...         ...              ...           ...   \n",
       "524       chunskiy  56.687720  100.225521            40.62          81.0   \n",
       "525  jaisinghnagar  23.781938   81.419756            78.76          27.0   \n",
       "526        xuanhua  39.748033  114.794620            60.49          51.0   \n",
       "527   constitucion  22.376346 -113.096267            56.95          79.0   \n",
       "528         tuapse  43.891005   38.870589            56.48          89.0   \n",
       "\n",
       "     Cloudiness (%)  Wind Speed (mph)  \n",
       "0             100.0              9.60  \n",
       "1              76.0             10.56  \n",
       "2              95.0              9.55  \n",
       "3              49.0             13.51  \n",
       "4              98.0              8.08  \n",
       "..              ...               ...  \n",
       "524           100.0              4.63  \n",
       "525            94.0              4.43  \n",
       "526            33.0              5.73  \n",
       "527            99.0             11.18  \n",
       "528             1.0              3.04  \n",
       "\n",
       "[529 rows x 7 columns]"
      ]
     },
     "execution_count": 79,
     "metadata": {},
     "output_type": "execute_result"
    }
   ],
   "source": [
    "cities_df['Humidity (%)'] = cities_df['Humidity (%)'].astype(float)\n",
    "cities_df['Cloudiness (%)'] = cities_df['Cloudiness (%)'].astype(float)\n",
    "cities_df['Wind Speed (mph)'] = cities_df['Wind Speed (mph)'].astype(float)\n",
    "cities_df"
   ]
  },
  {
   "cell_type": "code",
   "execution_count": 80,
   "metadata": {},
   "outputs": [
    {
     "data": {
      "text/plain": [
       "Nearest City         object\n",
       "Latitude            float64\n",
       "Longitude           float64\n",
       "Temperature (F)     float64\n",
       "Humidity (%)        float64\n",
       "Cloudiness (%)      float64\n",
       "Wind Speed (mph)    float64\n",
       "dtype: object"
      ]
     },
     "execution_count": 80,
     "metadata": {},
     "output_type": "execute_result"
    }
   ],
   "source": [
    "cities_df.dtypes"
   ]
  },
  {
   "cell_type": "markdown",
   "metadata": {},
   "source": [
    "## Inspect the data and remove the cities where the humidity > 100%.\n",
    "----\n",
    "Skip this step if there are no cities that have humidity > 100%. "
   ]
  },
  {
   "cell_type": "code",
   "execution_count": 81,
   "metadata": {},
   "outputs": [
    {
     "data": {
      "text/html": [
       "<div>\n",
       "<style scoped>\n",
       "    .dataframe tbody tr th:only-of-type {\n",
       "        vertical-align: middle;\n",
       "    }\n",
       "\n",
       "    .dataframe tbody tr th {\n",
       "        vertical-align: top;\n",
       "    }\n",
       "\n",
       "    .dataframe thead th {\n",
       "        text-align: right;\n",
       "    }\n",
       "</style>\n",
       "<table border=\"1\" class=\"dataframe\">\n",
       "  <thead>\n",
       "    <tr style=\"text-align: right;\">\n",
       "      <th></th>\n",
       "      <th>Nearest City</th>\n",
       "      <th>Latitude</th>\n",
       "      <th>Longitude</th>\n",
       "      <th>Temperature (F)</th>\n",
       "      <th>Humidity (%)</th>\n",
       "      <th>Cloudiness (%)</th>\n",
       "      <th>Wind Speed (mph)</th>\n",
       "    </tr>\n",
       "  </thead>\n",
       "  <tbody>\n",
       "  </tbody>\n",
       "</table>\n",
       "</div>"
      ],
      "text/plain": [
       "Empty DataFrame\n",
       "Columns: [Nearest City, Latitude, Longitude, Temperature (F), Humidity (%), Cloudiness (%), Wind Speed (mph)]\n",
       "Index: []"
      ]
     },
     "execution_count": 81,
     "metadata": {},
     "output_type": "execute_result"
    }
   ],
   "source": [
    "cities_df[cities_df['Humidity (%)']>100]"
   ]
  },
  {
   "cell_type": "code",
   "execution_count": 82,
   "metadata": {},
   "outputs": [],
   "source": [
    "#  Get the indices of cities that have humidity over 100%.\n"
   ]
  },
  {
   "cell_type": "code",
   "execution_count": 83,
   "metadata": {},
   "outputs": [],
   "source": [
    "# Make a new DataFrame equal to the city data to drop all humidity outliers by index.\n",
    "# Passing \"inplace=False\" will make a copy of the city_data DataFrame, which we call \"clean_city_data\".\n"
   ]
  },
  {
   "cell_type": "code",
   "execution_count": null,
   "metadata": {},
   "outputs": [],
   "source": [
    "\n"
   ]
  },
  {
   "cell_type": "markdown",
   "metadata": {},
   "source": [
    "## Plotting the Data\n",
    "* Use proper labeling of the plots using plot titles (including date of analysis) and axes labels.\n",
    "* Save the plotted figures as .pngs."
   ]
  },
  {
   "cell_type": "markdown",
   "metadata": {},
   "source": [
    "## Latitude vs. Temperature Plot"
   ]
  },
  {
   "cell_type": "code",
   "execution_count": 94,
   "metadata": {
    "scrolled": true
   },
   "outputs": [
    {
     "data": {
      "image/png": "[encoded data removed]",
      "text/plain": [
       "<Figure size 432x288 with 1 Axes>"
      ]
     },
     "metadata": {
      "needs_background": "light"
     },
     "output_type": "display_data"
    }
   ],
   "source": [
    "plt.scatter(cities_df['Latitude'], cities_df['Temperature (F)'])\n",
    "plt.show()"
   ]
  },
  {
   "cell_type": "markdown",
   "metadata": {},
   "source": [
    "Analysis - The Temperatures increase as the latitude moves from latitudes -90 to 0 and from 90 to 0, 0 being the equator, -90 being southpole and 90 being northpole."
   ]
  },
  {
   "cell_type": "markdown",
   "metadata": {},
   "source": [
    "## Latitude vs. Humidity Plot"
   ]
  },
  {
   "cell_type": "code",
   "execution_count": 85,
   "metadata": {},
   "outputs": [
    {
     "data": {
      "text/plain": [
       "<matplotlib.collections.PathCollection at 0x1afa4006610>"
      ]
     },
     "execution_count": 85,
     "metadata": {},
     "output_type": "execute_result"
    },
    {
     "data": {
      "image/png": "[encoded data removed]",
      "text/plain": [
       "<Figure size 432x288 with 1 Axes>"
      ]
     },
     "metadata": {
      "needs_background": "light"
     },
     "output_type": "display_data"
    }
   ],
   "source": [
    "plt.scatter(cities_df['Latitude'], cities_df['Humidity (%)'])"
   ]
  },
  {
   "cell_type": "markdown",
   "metadata": {},
   "source": [
    "Analysis - "
   ]
  },
  {
   "cell_type": "markdown",
   "metadata": {},
   "source": [
    "## Latitude vs. Cloudiness Plot"
   ]
  },
  {
   "cell_type": "code",
   "execution_count": 86,
   "metadata": {},
   "outputs": [
    {
     "data": {
      "text/plain": [
       "<matplotlib.collections.PathCollection at 0x1afa5042d30>"
      ]
     },
     "execution_count": 86,
     "metadata": {},
     "output_type": "execute_result"
    },
    {
     "data": {
      "image/png": "[encoded data removed]",
      "text/plain": [
       "<Figure size 432x288 with 1 Axes>"
      ]
     },
     "metadata": {
      "needs_background": "light"
     },
     "output_type": "display_data"
    }
   ],
   "source": [
    "plt.scatter(cities_df['Latitude'], cities_df['Cloudiness (%)'])"
   ]
  },
  {
   "cell_type": "markdown",
   "metadata": {},
   "source": [
    "Analysis - "
   ]
  },
  {
   "cell_type": "markdown",
   "metadata": {},
   "source": [
    "## Latitude vs. Wind Speed Plot"
   ]
  },
  {
   "cell_type": "code",
   "execution_count": 87,
   "metadata": {},
   "outputs": [
    {
     "data": {
      "text/plain": [
       "<matplotlib.collections.PathCollection at 0x1afa5099790>"
      ]
     },
     "execution_count": 87,
     "metadata": {},
     "output_type": "execute_result"
    },
    {
     "data": {
      "image/png": "[encoded data removed]",
      "text/plain": [
       "<Figure size 432x288 with 1 Axes>"
      ]
     },
     "metadata": {
      "needs_background": "light"
     },
     "output_type": "display_data"
    }
   ],
   "source": [
    "plt.scatter(cities_df['Latitude'], cities_df['Wind Speed (mph)'])"
   ]
  },
  {
   "cell_type": "markdown",
   "metadata": {},
   "source": [
    "Analysis - "
   ]
  },
  {
   "cell_type": "markdown",
   "metadata": {},
   "source": [
    "## Linear Regression"
   ]
  },
  {
   "cell_type": "code",
   "execution_count": 88,
   "metadata": {},
   "outputs": [
    {
     "data": {
      "text/html": [
       "<div>\n",
       "<style scoped>\n",
       "    .dataframe tbody tr th:only-of-type {\n",
       "        vertical-align: middle;\n",
       "    }\n",
       "\n",
       "    .dataframe tbody tr th {\n",
       "        vertical-align: top;\n",
       "    }\n",
       "\n",
       "    .dataframe thead th {\n",
       "        text-align: right;\n",
       "    }\n",
       "</style>\n",
       "<table border=\"1\" class=\"dataframe\">\n",
       "  <thead>\n",
       "    <tr style=\"text-align: right;\">\n",
       "      <th></th>\n",
       "      <th>Nearest City</th>\n",
       "      <th>Latitude</th>\n",
       "      <th>Longitude</th>\n",
       "      <th>Temperature (F)</th>\n",
       "      <th>Humidity (%)</th>\n",
       "      <th>Cloudiness (%)</th>\n",
       "      <th>Wind Speed (mph)</th>\n",
       "    </tr>\n",
       "  </thead>\n",
       "  <tbody>\n",
       "    <tr>\n",
       "      <th>1</th>\n",
       "      <td>lavrentiya</td>\n",
       "      <td>72.063390</td>\n",
       "      <td>-173.120898</td>\n",
       "      <td>38.34</td>\n",
       "      <td>84.0</td>\n",
       "      <td>76.0</td>\n",
       "      <td>10.56</td>\n",
       "    </tr>\n",
       "    <tr>\n",
       "      <th>2</th>\n",
       "      <td>urussu</td>\n",
       "      <td>54.807694</td>\n",
       "      <td>53.373693</td>\n",
       "      <td>53.24</td>\n",
       "      <td>92.0</td>\n",
       "      <td>95.0</td>\n",
       "      <td>9.55</td>\n",
       "    </tr>\n",
       "    <tr>\n",
       "      <th>3</th>\n",
       "      <td>belaya gora</td>\n",
       "      <td>69.699525</td>\n",
       "      <td>146.233149</td>\n",
       "      <td>49.95</td>\n",
       "      <td>50.0</td>\n",
       "      <td>49.0</td>\n",
       "      <td>13.51</td>\n",
       "    </tr>\n",
       "    <tr>\n",
       "      <th>5</th>\n",
       "      <td>kayerkan</td>\n",
       "      <td>72.605425</td>\n",
       "      <td>87.167239</td>\n",
       "      <td>19.89</td>\n",
       "      <td>98.0</td>\n",
       "      <td>81.0</td>\n",
       "      <td>9.33</td>\n",
       "    </tr>\n",
       "    <tr>\n",
       "      <th>9</th>\n",
       "      <td>tasiilaq</td>\n",
       "      <td>64.895247</td>\n",
       "      <td>-33.763123</td>\n",
       "      <td>35.76</td>\n",
       "      <td>89.0</td>\n",
       "      <td>100.0</td>\n",
       "      <td>46.57</td>\n",
       "    </tr>\n",
       "    <tr>\n",
       "      <th>...</th>\n",
       "      <td>...</td>\n",
       "      <td>...</td>\n",
       "      <td>...</td>\n",
       "      <td>...</td>\n",
       "      <td>...</td>\n",
       "      <td>...</td>\n",
       "      <td>...</td>\n",
       "    </tr>\n",
       "    <tr>\n",
       "      <th>524</th>\n",
       "      <td>chunskiy</td>\n",
       "      <td>56.687720</td>\n",
       "      <td>100.225521</td>\n",
       "      <td>40.62</td>\n",
       "      <td>81.0</td>\n",
       "      <td>100.0</td>\n",
       "      <td>4.63</td>\n",
       "    </tr>\n",
       "    <tr>\n",
       "      <th>525</th>\n",
       "      <td>jaisinghnagar</td>\n",
       "      <td>23.781938</td>\n",
       "      <td>81.419756</td>\n",
       "      <td>78.76</td>\n",
       "      <td>27.0</td>\n",
       "      <td>94.0</td>\n",
       "      <td>4.43</td>\n",
       "    </tr>\n",
       "    <tr>\n",
       "      <th>526</th>\n",
       "      <td>xuanhua</td>\n",
       "      <td>39.748033</td>\n",
       "      <td>114.794620</td>\n",
       "      <td>60.49</td>\n",
       "      <td>51.0</td>\n",
       "      <td>33.0</td>\n",
       "      <td>5.73</td>\n",
       "    </tr>\n",
       "    <tr>\n",
       "      <th>527</th>\n",
       "      <td>constitucion</td>\n",
       "      <td>22.376346</td>\n",
       "      <td>-113.096267</td>\n",
       "      <td>56.95</td>\n",
       "      <td>79.0</td>\n",
       "      <td>99.0</td>\n",
       "      <td>11.18</td>\n",
       "    </tr>\n",
       "    <tr>\n",
       "      <th>528</th>\n",
       "      <td>tuapse</td>\n",
       "      <td>43.891005</td>\n",
       "      <td>38.870589</td>\n",
       "      <td>56.48</td>\n",
       "      <td>89.0</td>\n",
       "      <td>1.0</td>\n",
       "      <td>3.04</td>\n",
       "    </tr>\n",
       "  </tbody>\n",
       "</table>\n",
       "<p>364 rows × 7 columns</p>\n",
       "</div>"
      ],
      "text/plain": [
       "      Nearest City   Latitude   Longitude  Temperature (F)  Humidity (%)  \\\n",
       "1       lavrentiya  72.063390 -173.120898            38.34          84.0   \n",
       "2           urussu  54.807694   53.373693            53.24          92.0   \n",
       "3      belaya gora  69.699525  146.233149            49.95          50.0   \n",
       "5         kayerkan  72.605425   87.167239            19.89          98.0   \n",
       "9         tasiilaq  64.895247  -33.763123            35.76          89.0   \n",
       "..             ...        ...         ...              ...           ...   \n",
       "524       chunskiy  56.687720  100.225521            40.62          81.0   \n",
       "525  jaisinghnagar  23.781938   81.419756            78.76          27.0   \n",
       "526        xuanhua  39.748033  114.794620            60.49          51.0   \n",
       "527   constitucion  22.376346 -113.096267            56.95          79.0   \n",
       "528         tuapse  43.891005   38.870589            56.48          89.0   \n",
       "\n",
       "     Cloudiness (%)  Wind Speed (mph)  \n",
       "1              76.0             10.56  \n",
       "2              95.0              9.55  \n",
       "3              49.0             13.51  \n",
       "5              81.0              9.33  \n",
       "9             100.0             46.57  \n",
       "..              ...               ...  \n",
       "524           100.0              4.63  \n",
       "525            94.0              4.43  \n",
       "526            33.0              5.73  \n",
       "527            99.0             11.18  \n",
       "528             1.0              3.04  \n",
       "\n",
       "[364 rows x 7 columns]"
      ]
     },
     "execution_count": 88,
     "metadata": {},
     "output_type": "execute_result"
    }
   ],
   "source": [
    "Northern_df = cities_df[cities_df['Latitude']>0]\n",
    "Northern_df"
   ]
  },
  {
   "cell_type": "code",
   "execution_count": 89,
   "metadata": {},
   "outputs": [
    {
     "data": {
      "text/html": [
       "<div>\n",
       "<style scoped>\n",
       "    .dataframe tbody tr th:only-of-type {\n",
       "        vertical-align: middle;\n",
       "    }\n",
       "\n",
       "    .dataframe tbody tr th {\n",
       "        vertical-align: top;\n",
       "    }\n",
       "\n",
       "    .dataframe thead th {\n",
       "        text-align: right;\n",
       "    }\n",
       "</style>\n",
       "<table border=\"1\" class=\"dataframe\">\n",
       "  <thead>\n",
       "    <tr style=\"text-align: right;\">\n",
       "      <th></th>\n",
       "      <th>Nearest City</th>\n",
       "      <th>Latitude</th>\n",
       "      <th>Longitude</th>\n",
       "      <th>Temperature (F)</th>\n",
       "      <th>Humidity (%)</th>\n",
       "      <th>Cloudiness (%)</th>\n",
       "      <th>Wind Speed (mph)</th>\n",
       "    </tr>\n",
       "  </thead>\n",
       "  <tbody>\n",
       "    <tr>\n",
       "      <th>0</th>\n",
       "      <td>busselton</td>\n",
       "      <td>-63.632887</td>\n",
       "      <td>86.729264</td>\n",
       "      <td>44.04</td>\n",
       "      <td>77.0</td>\n",
       "      <td>100.0</td>\n",
       "      <td>9.60</td>\n",
       "    </tr>\n",
       "    <tr>\n",
       "      <th>4</th>\n",
       "      <td>albany</td>\n",
       "      <td>-58.223640</td>\n",
       "      <td>123.310477</td>\n",
       "      <td>76.41</td>\n",
       "      <td>58.0</td>\n",
       "      <td>98.0</td>\n",
       "      <td>8.08</td>\n",
       "    </tr>\n",
       "    <tr>\n",
       "      <th>6</th>\n",
       "      <td>vaini</td>\n",
       "      <td>-25.577300</td>\n",
       "      <td>-172.878700</td>\n",
       "      <td>68.16</td>\n",
       "      <td>94.0</td>\n",
       "      <td>90.0</td>\n",
       "      <td>3.44</td>\n",
       "    </tr>\n",
       "    <tr>\n",
       "      <th>7</th>\n",
       "      <td>luderitz</td>\n",
       "      <td>-27.305103</td>\n",
       "      <td>8.558945</td>\n",
       "      <td>61.05</td>\n",
       "      <td>75.0</td>\n",
       "      <td>0.0</td>\n",
       "      <td>10.65</td>\n",
       "    </tr>\n",
       "    <tr>\n",
       "      <th>8</th>\n",
       "      <td>ushuaia</td>\n",
       "      <td>-78.471642</td>\n",
       "      <td>-29.020700</td>\n",
       "      <td>31.66</td>\n",
       "      <td>86.0</td>\n",
       "      <td>90.0</td>\n",
       "      <td>20.71</td>\n",
       "    </tr>\n",
       "    <tr>\n",
       "      <th>...</th>\n",
       "      <td>...</td>\n",
       "      <td>...</td>\n",
       "      <td>...</td>\n",
       "      <td>...</td>\n",
       "      <td>...</td>\n",
       "      <td>...</td>\n",
       "      <td>...</td>\n",
       "    </tr>\n",
       "    <tr>\n",
       "      <th>516</th>\n",
       "      <td>wanaka</td>\n",
       "      <td>-40.708847</td>\n",
       "      <td>166.756707</td>\n",
       "      <td>44.46</td>\n",
       "      <td>36.0</td>\n",
       "      <td>82.0</td>\n",
       "      <td>2.15</td>\n",
       "    </tr>\n",
       "    <tr>\n",
       "      <th>518</th>\n",
       "      <td>banjar</td>\n",
       "      <td>-16.635233</td>\n",
       "      <td>104.901340</td>\n",
       "      <td>80.46</td>\n",
       "      <td>89.0</td>\n",
       "      <td>53.0</td>\n",
       "      <td>2.24</td>\n",
       "    </tr>\n",
       "    <tr>\n",
       "      <th>519</th>\n",
       "      <td>unai</td>\n",
       "      <td>-16.377549</td>\n",
       "      <td>-47.029517</td>\n",
       "      <td>76.75</td>\n",
       "      <td>51.0</td>\n",
       "      <td>16.0</td>\n",
       "      <td>2.57</td>\n",
       "    </tr>\n",
       "    <tr>\n",
       "      <th>520</th>\n",
       "      <td>sao desiderio</td>\n",
       "      <td>-12.763519</td>\n",
       "      <td>-44.939803</td>\n",
       "      <td>77.81</td>\n",
       "      <td>28.0</td>\n",
       "      <td>18.0</td>\n",
       "      <td>4.32</td>\n",
       "    </tr>\n",
       "    <tr>\n",
       "      <th>523</th>\n",
       "      <td>tautira</td>\n",
       "      <td>-15.682663</td>\n",
       "      <td>-144.547432</td>\n",
       "      <td>86.02</td>\n",
       "      <td>74.0</td>\n",
       "      <td>49.0</td>\n",
       "      <td>5.73</td>\n",
       "    </tr>\n",
       "  </tbody>\n",
       "</table>\n",
       "<p>165 rows × 7 columns</p>\n",
       "</div>"
      ],
      "text/plain": [
       "      Nearest City   Latitude   Longitude  Temperature (F)  Humidity (%)  \\\n",
       "0        busselton -63.632887   86.729264            44.04          77.0   \n",
       "4           albany -58.223640  123.310477            76.41          58.0   \n",
       "6            vaini -25.577300 -172.878700            68.16          94.0   \n",
       "7         luderitz -27.305103    8.558945            61.05          75.0   \n",
       "8          ushuaia -78.471642  -29.020700            31.66          86.0   \n",
       "..             ...        ...         ...              ...           ...   \n",
       "516         wanaka -40.708847  166.756707            44.46          36.0   \n",
       "518         banjar -16.635233  104.901340            80.46          89.0   \n",
       "519           unai -16.377549  -47.029517            76.75          51.0   \n",
       "520  sao desiderio -12.763519  -44.939803            77.81          28.0   \n",
       "523        tautira -15.682663 -144.547432            86.02          74.0   \n",
       "\n",
       "     Cloudiness (%)  Wind Speed (mph)  \n",
       "0             100.0              9.60  \n",
       "4              98.0              8.08  \n",
       "6              90.0              3.44  \n",
       "7               0.0             10.65  \n",
       "8              90.0             20.71  \n",
       "..              ...               ...  \n",
       "516            82.0              2.15  \n",
       "518            53.0              2.24  \n",
       "519            16.0              2.57  \n",
       "520            18.0              4.32  \n",
       "523            49.0              5.73  \n",
       "\n",
       "[165 rows x 7 columns]"
      ]
     },
     "execution_count": 89,
     "metadata": {},
     "output_type": "execute_result"
    }
   ],
   "source": [
    "Southern_df = cities_df[cities_df['Latitude']<0]\n",
    "Southern_df"
   ]
  },
  {
   "cell_type": "markdown",
   "metadata": {},
   "source": [
    "####  Northern Hemisphere - Max Temp vs. Latitude Linear Regression"
   ]
  },
  {
   "cell_type": "code",
   "execution_count": 100,
   "metadata": {},
   "outputs": [
    {
     "data": {
      "image/png": "[encoded data removed]",
      "text/plain": [
       "<Figure size 432x288 with 1 Axes>"
      ]
     },
     "metadata": {
      "needs_background": "light"
     },
     "output_type": "display_data"
    }
   ],
   "source": [
    "x = Northern_df['Latitude']\n",
    "y = Northern_df['Temperature (F)']\n",
    "(slope, intercept, rvalue, pvalue, stderr) = linregress(x, y)\n",
    "regress_value = x*slope + intercept\n",
    "line_eq = \"y = \" + str(round(slope,2)) + \"x + \" + str(round(intercept,2))\n",
    "plt.scatter(x,y)\n",
    "plt.plot(x,regress_value,\"r-\")\n",
    "plt.annotate(line_eq,(5,30),fontsize=10,color=\"red\")\n",
    "plt.xlabel('Latitude')\n",
    "plt.ylabel('Temperature (F)')\n",
    "plt.show()"
   ]
  },
  {
   "cell_type": "markdown",
   "metadata": {},
   "source": [
    "####  Southern Hemisphere - Max Temp vs. Latitude Linear Regression"
   ]
  },
  {
   "cell_type": "code",
   "execution_count": 98,
   "metadata": {},
   "outputs": [
    {
     "data": {
      "image/png": "[encoded data removed]",
      "text/plain": [
       "<Figure size 432x288 with 1 Axes>"
      ]
     },
     "metadata": {
      "needs_background": "light"
     },
     "output_type": "display_data"
    }
   ],
   "source": [
    "x = Southern_df['Latitude']\n",
    "y = Southern_df['Temperature (F)']\n",
    "(slope, intercept, rvalue, pvalue, stderr) = linregress(x, y)\n",
    "regress_value = x*slope + intercept\n",
    "line_eq = \"y = \" + str(round(slope,2)) + \"x + \" + str(round(intercept,2))\n",
    "plt.scatter(x,y)\n",
    "plt.plot(x,regress_value,\"r-\")\n",
    "plt.annotate(line_eq,(-30,35),fontsize=10,color=\"red\")\n",
    "plt.xlabel('Latitude')\n",
    "plt.ylabel('Temperature (F)')\n",
    "plt.show()"
   ]
  },
  {
   "cell_type": "markdown",
   "metadata": {},
   "source": [
    "####  Northern Hemisphere - Humidity (%) vs. Latitude Linear Regression"
   ]
  },
  {
   "cell_type": "code",
   "execution_count": 103,
   "metadata": {},
   "outputs": [
    {
     "data": {
      "image/png": "[encoded data removed]",
      "text/plain": [
       "<Figure size 432x288 with 1 Axes>"
      ]
     },
     "metadata": {
      "needs_background": "light"
     },
     "output_type": "display_data"
    }
   ],
   "source": [
    "x = Northern_df['Latitude']\n",
    "y = Northern_df['Humidity (%)']\n",
    "(slope, intercept, rvalue, pvalue, stderr) = linregress(x, y)\n",
    "regress_value = x*slope + intercept\n",
    "line_eq = \"y = \" + str(round(slope,2)) + \"x + \" + str(round(intercept,2))\n",
    "plt.scatter(x,y)\n",
    "plt.plot(x,regress_value,\"r-\")\n",
    "plt.annotate(line_eq,(55,10),fontsize=10,color=\"red\")\n",
    "plt.xlabel('Latitude')\n",
    "plt.ylabel('Humidity (%)')\n",
    "plt.show()"
   ]
  },
  {
   "cell_type": "markdown",
   "metadata": {},
   "source": [
    "####  Southern Hemisphere - Humidity (%) vs. Latitude Linear Regression"
   ]
  },
  {
   "cell_type": "code",
   "execution_count": 106,
   "metadata": {},
   "outputs": [
    {
     "data": {
      "image/png": "[encoded data removed]",
      "text/plain": [
       "<Figure size 432x288 with 1 Axes>"
      ]
     },
     "metadata": {
      "needs_background": "light"
     },
     "output_type": "display_data"
    }
   ],
   "source": [
    "x = Southern_df['Latitude']\n",
    "y = Southern_df['Humidity (%)']\n",
    "(slope, intercept, rvalue, pvalue, stderr) = linregress(x, y)\n",
    "regress_value = x*slope + intercept\n",
    "line_eq = \"y = \" + str(round(slope,2)) + \"x + \" + str(round(intercept,2))\n",
    "plt.scatter(x,y)\n",
    "plt.plot(x,regress_value,\"r-\")\n",
    "plt.annotate(line_eq,(-80,20),fontsize=10,color=\"red\")\n",
    "plt.xlabel('Latitude')\n",
    "plt.ylabel('Humidity (%)')\n",
    "plt.show()"
   ]
  },
  {
   "cell_type": "markdown",
   "metadata": {},
   "source": [
    "####  Northern Hemisphere - Cloudiness (%) vs. Latitude Linear Regression"
   ]
  },
  {
   "cell_type": "code",
   "execution_count": 110,
   "metadata": {},
   "outputs": [
    {
     "data": {
      "image/png": "[encoded data removed]",
      "text/plain": [
       "<Figure size 432x288 with 1 Axes>"
      ]
     },
     "metadata": {
      "needs_background": "light"
     },
     "output_type": "display_data"
    }
   ],
   "source": [
    "x = Northern_df['Latitude']\n",
    "y = Northern_df['Cloudiness (%)']\n",
    "(slope, intercept, rvalue, pvalue, stderr) = linregress(x, y)\n",
    "regress_value = x*slope + intercept\n",
    "line_eq = \"y = \" + str(round(slope,2)) + \"x + \" + str(round(intercept,2))\n",
    "plt.scatter(x,y)\n",
    "plt.plot(x,regress_value,\"r-\")\n",
    "plt.annotate(line_eq,(68,5),fontsize=10,color=\"red\")\n",
    "plt.xlabel('Latitude')\n",
    "plt.ylabel('Cloudiness (%)')\n",
    "plt.show()"
   ]
  },
  {
   "cell_type": "markdown",
   "metadata": {},
   "source": [
    "####  Southern Hemisphere - Cloudiness (%) vs. Latitude Linear Regression"
   ]
  },
  {
   "cell_type": "code",
   "execution_count": 112,
   "metadata": {},
   "outputs": [
    {
     "data": {
      "image/png": "[encoded data removed]",
      "text/plain": [
       "<Figure size 432x288 with 1 Axes>"
      ]
     },
     "metadata": {
      "needs_background": "light"
     },
     "output_type": "display_data"
    }
   ],
   "source": [
    "x = Southern_df['Latitude']\n",
    "y = Southern_df['Cloudiness (%)']\n",
    "(slope, intercept, rvalue, pvalue, stderr) = linregress(x, y)\n",
    "regress_value = x*slope + intercept\n",
    "line_eq = \"y = \" + str(round(slope,2)) + \"x + \" + str(round(intercept,2))\n",
    "plt.scatter(x,y)\n",
    "plt.plot(x,regress_value,\"r-\")\n",
    "plt.annotate(line_eq,(-85,5),fontsize=10,color=\"red\")\n",
    "plt.xlabel('Latitude')\n",
    "plt.ylabel('Cloudiness (%)')\n",
    "plt.show()"
   ]
  },
  {
   "cell_type": "markdown",
   "metadata": {},
   "source": [
    "####  Northern Hemisphere - Wind Speed (mph) vs. Latitude Linear Regression"
   ]
  },
  {
   "cell_type": "code",
   "execution_count": 114,
   "metadata": {},
   "outputs": [
    {
     "data": {
      "image/png": "[encoded data removed]",
      "text/plain": [
       "<Figure size 432x288 with 1 Axes>"
      ]
     },
     "metadata": {
      "needs_background": "light"
     },
     "output_type": "display_data"
    }
   ],
   "source": [
    "x = Northern_df['Latitude']\n",
    "y = Northern_df['Wind Speed (mph)']\n",
    "(slope, intercept, rvalue, pvalue, stderr) = linregress(x, y)\n",
    "regress_value = x*slope + intercept\n",
    "line_eq = \"y = \" + str(round(slope,2)) + \"x + \" + str(round(intercept,2))\n",
    "plt.scatter(x,y)\n",
    "plt.plot(x,regress_value,\"r-\")\n",
    "plt.annotate(line_eq,(68,35),fontsize=10,color=\"red\")\n",
    "plt.xlabel('Latitude')\n",
    "plt.ylabel('Wind Speed (mph)')\n",
    "plt.show()"
   ]
  },
  {
   "cell_type": "markdown",
   "metadata": {},
   "source": [
    "####  Southern Hemisphere - Wind Speed (mph) vs. Latitude Linear Regression"
   ]
  },
  {
   "cell_type": "code",
   "execution_count": 118,
   "metadata": {},
   "outputs": [
    {
     "data": {
      "image/png": "[encoded data removed]",
      "text/plain": [
       "<Figure size 432x288 with 1 Axes>"
      ]
     },
     "metadata": {
      "needs_background": "light"
     },
     "output_type": "display_data"
    }
   ],
   "source": [
    "x = Southern_df['Latitude']\n",
    "y = Southern_df['Wind Speed (mph)']\n",
    "(slope, intercept, rvalue, pvalue, stderr) = linregress(x, y)\n",
    "regress_value = x*slope + intercept\n",
    "line_eq = \"y = \" + str(round(slope,2)) + \"x + \" + str(round(intercept,2))\n",
    "plt.scatter(x,y)\n",
    "plt.plot(x,regress_value,\"r-\")\n",
    "plt.annotate(line_eq,(-85,15),fontsize=10,color=\"red\")\n",
    "plt.xlabel('Latitude')\n",
    "plt.ylabel('Wind Speed (mph)')\n",
    "plt.show()"
   ]
  },
  {
   "cell_type": "code",
   "execution_count": null,
   "metadata": {},
   "outputs": [],
   "source": []
  }
 ],
 "metadata": {
  "anaconda-cloud": {},
  "kernel_info": {
   "name": "python3"
  },
  "kernelspec": {
   "display_name": "Python [conda env:root] *",
   "language": "python",
   "name": "conda-root-py"
  },
  "language_info": {
   "codemirror_mode": {
    "name": "ipython",
    "version": 3
   },
   "file_extension": ".py",
   "mimetype": "text/x-python",
   "name": "python",
   "nbconvert_exporter": "python",
   "pygments_lexer": "ipython3",
   "version": "3.8.5"
  },
  "latex_envs": {
   "LaTeX_envs_menu_present": true,
   "autoclose": false,
   "autocomplete": true,
   "bibliofile": "biblio.bib",
   "cite_by": "apalike",
   "current_citInitial": 1,
   "eqLabelWithNumbers": true,
   "eqNumInitial": 1,
   "hotkeys": {
    "equation": "Ctrl-E",
    "itemize": "Ctrl-I"
   },
   "labels_anchors": false,
   "latex_user_defs": false,
   "report_style_numbering": false,
   "user_envs_cfg": false
  },
  "nteract": {
   "version": "0.12.3"
  }
 },
 "nbformat": 4,
 "nbformat_minor": 4
}
